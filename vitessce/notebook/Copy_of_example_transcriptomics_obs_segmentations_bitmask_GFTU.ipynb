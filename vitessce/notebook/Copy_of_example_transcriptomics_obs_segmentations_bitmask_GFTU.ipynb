{
  "nbformat": 4,
  "nbformat_minor": 0,
  "metadata": {
    "colab": {
      "provenance": [],
      "include_colab_link": true
    },
    "kernelspec": {
      "name": "python3",
      "display_name": "Python 3"
    },
    "language_info": {
      "name": "python"
    }
  },
  "cells": [
    {
      "cell_type": "markdown",
      "metadata": {
        "id": "view-in-github",
        "colab_type": "text"
      },
      "source": [
        "<a href=\"https://colab.research.google.com/github/juyingnan/vccf_visualization/blob/main/vitessce/notebook/Copy_of_example_transcriptomics_obs_segmentations_bitmask_GFTU.ipynb\" target=\"_parent\"><img src=\"https://colab.research.google.com/assets/colab-badge.svg\" alt=\"Open In Colab\"/></a>"
      ]
    },
    {
      "cell_type": "markdown",
      "source": [
        "View this example on [Google Colab](https://colab.research.google.com/drive/1o8WHmuEBcg9hcOy9vFdwryNfz0FjE9LR?usp=sharing)"
      ],
      "metadata": {
        "id": "vptpyOtVI1cE"
      }
    },
    {
      "cell_type": "code",
      "execution_count": 2,
      "metadata": {
        "id": "kZ1H5umyVzB2"
      },
      "outputs": [],
      "source": [
        "import importlib.util\n",
        "if importlib.util.find_spec('vitessce') is None:\n",
        "  !pip install vitessce[all]"
      ]
    },
    {
      "cell_type": "code",
      "source": [
        "from vitessce import (\n",
        "    VitessceConfig,\n",
        "    Component as cm,\n",
        "    CoordinationType as ct,\n",
        "    FileType as ft,\n",
        "    AnnDataWrapper,\n",
        "    MultiImageWrapper,\n",
        "    OmeTiffWrapper,\n",
        ")"
      ],
      "metadata": {
        "id": "HQVkt58HV1Z-"
      },
      "execution_count": 3,
      "outputs": []
    },
    {
      "cell_type": "code",
      "source": [
        "# list of image URLs\n",
        "image_urls = ['https://storagetuzi.blob.core.windows.net/blobtuzi/CL_HandE_1234_B004_bottomleft.ome.tif',\n",
        "              'https://storagetuzi.blob.core.windows.net/blobtuzi/HandE_B005_CL_b_RGB_bottomleft.ome.tif']\n",
        "\n",
        "region_names = ['CL_HandE_1234_B004_bottomleft', 'HandE_B005_CL_b_RGB_bottomleft']\n",
        "\n",
        "image_urls"
      ],
      "metadata": {
        "colab": {
          "base_uri": "https://localhost:8080/"
        },
        "id": "lL4JgAnUCCEK",
        "outputId": "1572fb46-b632-45a7-ca5b-bb933a3e0b52"
      },
      "execution_count": 4,
      "outputs": [
        {
          "output_type": "execute_result",
          "data": {
            "text/plain": [
              "['https://storagetuzi.blob.core.windows.net/blobtuzi/CL_HandE_1234_B004_bottomleft.ome.tif',\n",
              " 'https://storagetuzi.blob.core.windows.net/blobtuzi/HandE_B005_CL_b_RGB_bottomleft.ome.tif']"
            ]
          },
          "metadata": {},
          "execution_count": 4
        }
      ]
    },
    {
      "cell_type": "code",
      "source": [
        "from IPython.display import display, HTML\n",
        "import json\n",
        "import os\n",
        "\n",
        "# list to store generated vitessce URLs\n",
        "vitessce_urls = []\n",
        "\n",
        "for idx in range(len(image_urls)):\n",
        "    url = image_urls[idx]\n",
        "\n",
        "    print(idx)\n",
        "    print(url)\n",
        "    vc = VitessceConfig(schema_version=\"1.0.15\", name='Transcriptomics example')\n",
        "    dataset = vc.add_dataset(name='Cell segmentations comparison').add_object(\n",
        "    OmeTiffWrapper(img_url=url, is_bitmask=True, name=f\"Region {region_names[idx]} Segmentations comparison\")\n",
        "    )\n",
        "    spatial_plot = vc.add_view(cm.SPATIAL, dataset=dataset)\n",
        "    layer_controller = vc.add_view(cm.LAYER_CONTROLLER, dataset=dataset)\n",
        "\n",
        "\n",
        "    spatial_segmentation_layer_value = [{\n",
        "        \"type\":\"bitmask\",\n",
        "        \"index\":0,\n",
        "        \"visible\":True,\n",
        "        \"colormap\":None,\n",
        "        \"opacity\":1,\n",
        "        \"domainType\":\"Min/Max\",\n",
        "        \"transparentColor\":[0,0,0],\n",
        "        \"renderingMode\":\"Additive\",\n",
        "        \"use3d\":False,\n",
        "        \"channels\":[\n",
        "            # GFTU\n",
        "            {\"selection\":{\"c\":0,\"t\":0,\"z\":0},\"color\":[0,0,0],\"visible\":True,\"slider\":[0,1]},\n",
        "            {\"selection\":{\"c\":1,\"t\":0,\"z\":0},\"color\":[0,0,0],\"visible\":True,\"slider\":[0,1]},\n",
        "            {\"selection\":{\"c\":2,\"t\":0,\"z\":0},\"color\":[0,0,0],\"visible\":True,\"slider\":[0,1]},\n",
        "            {\"selection\":{\"c\":3,\"t\":0,\"z\":0},\"color\":[0,0,0],\"visible\":True,\"slider\":[0,1]},\n",
        "            {\"selection\":{\"c\":4,\"t\":0,\"z\":0},\"color\":[0,0,0],\"visible\":True,\"slider\":[0,1]},\n",
        "            {\"selection\":{\"c\":5,\"t\":0,\"z\":0},\"color\":[0,0,0],\"visible\":True,\"slider\":[0,1]},\n",
        "        ]\n",
        "    }]\n",
        "    vc.link_views([spatial_plot, layer_controller], [ct.SPATIAL_ZOOM, ct.SPATIAL_TARGET_X, ct.SPATIAL_TARGET_Y, ct.SPATIAL_SEGMENTATION_LAYER], [-4, 2000, 2000, spatial_segmentation_layer_value])\n",
        "    vc.layout(spatial_plot | layer_controller);\n",
        "    web_url = vc.web_app()\n",
        "    display(HTML(f'<a href=\"{web_url}\" target=\"_blank\">View on Vitessce.io</a>'))\n",
        "\n",
        "    # Convert the configuration to a Python dictionary\n",
        "    config_dict = vc.to_dict()\n",
        "\n",
        "    # Create the directory if it does not exist\n",
        "    os.makedirs(f'vignette/region_{region_names[idx]}/vignette/vignette_01/', exist_ok=True)\n",
        "\n",
        "    # Write the dictionary to a JSON file\n",
        "    with open(f'vignette/region_{region_names[idx]}/vignette/vignette_01/vitessce.json', 'w') as json_file:\n",
        "        json.dump(config_dict, json_file)\n",
        "\n",
        "    # Write to description.md\n",
        "    description = f\"\"\"# Vignette 01\n",
        "\n",
        "    This vignette visualizes Region {region_names[idx]}. The image shows the comparison of different implementation of segmentation of crypts.\n",
        "\n",
        "    [View the visualization on Vitessce.io]({web_url})\"\"\"\n",
        "\n",
        "    with open(f'vignette/region_{region_names[idx]}/vignette/vignette_01/description.md', 'w') as md_file:\n",
        "        md_file.write(description)"
      ],
      "metadata": {
        "id": "ogNFmDtxV_Lt",
        "colab": {
          "base_uri": "https://localhost:8080/",
          "height": 128
        },
        "outputId": "57b7ae01-3e0e-42c1-bebf-cd39c6192c43"
      },
      "execution_count": 9,
      "outputs": [
        {
          "output_type": "stream",
          "name": "stdout",
          "text": [
            "0\n",
            "https://storagetuzi.blob.core.windows.net/blobtuzi/CL_HandE_1234_B004_bottomleft.ome.tif\n"
          ]
        },
        {
          "output_type": "display_data",
          "data": {
            "text/plain": [
              "<IPython.core.display.HTML object>"
            ],
            "text/html": [
              "<a href=\"http://vitessce.io/#?theme=light&url=data:,%7B%22version%22%3A+%221.0.15%22%2C+%22name%22%3A+%22Transcriptomics+example%22%2C+%22description%22%3A+%22%22%2C+%22datasets%22%3A+%5B%7B%22uid%22%3A+%22A%22%2C+%22name%22%3A+%22Cell+segmentations+comparison%22%2C+%22files%22%3A+%5B%7B%22fileType%22%3A+%22raster.json%22%2C+%22options%22%3A+%7B%22schemaVersion%22%3A+%220.0.2%22%2C+%22images%22%3A+%5B%7B%22name%22%3A+%22Region+CL_HandE_1234_B004_bottomleft+Segmentations+comparison%22%2C+%22type%22%3A+%22ome-tiff%22%2C+%22url%22%3A+%22https%3A%2F%2Fstoragetuzi.blob.core.windows.net%2Fblobtuzi%2FCL_HandE_1234_B004_bottomleft.ome.tif%22%2C+%22metadata%22%3A+%7B%22isBitmask%22%3A+true%7D%7D%5D%7D%7D%5D%7D%5D%2C+%22coordinationSpace%22%3A+%7B%22dataset%22%3A+%7B%22A%22%3A+%22A%22%7D%2C+%22spatialZoom%22%3A+%7B%22A%22%3A+-4%7D%2C+%22spatialTargetX%22%3A+%7B%22A%22%3A+2000%7D%2C+%22spatialTargetY%22%3A+%7B%22A%22%3A+2000%7D%2C+%22spatialSegmentationLayer%22%3A+%7B%22A%22%3A+%5B%7B%22type%22%3A+%22bitmask%22%2C+%22index%22%3A+0%2C+%22visible%22%3A+true%2C+%22colormap%22%3A+null%2C+%22opacity%22%3A+1%2C+%22domainType%22%3A+%22Min%2FMax%22%2C+%22transparentColor%22%3A+%5B0%2C+0%2C+0%5D%2C+%22renderingMode%22%3A+%22Additive%22%2C+%22use3d%22%3A+false%2C+%22channels%22%3A+%5B%7B%22selection%22%3A+%7B%22c%22%3A+0%2C+%22t%22%3A+0%2C+%22z%22%3A+0%7D%2C+%22color%22%3A+%5B0%2C+0%2C+0%5D%2C+%22visible%22%3A+true%2C+%22slider%22%3A+%5B0%2C+1%5D%7D%2C+%7B%22selection%22%3A+%7B%22c%22%3A+1%2C+%22t%22%3A+0%2C+%22z%22%3A+0%7D%2C+%22color%22%3A+%5B0%2C+0%2C+0%5D%2C+%22visible%22%3A+true%2C+%22slider%22%3A+%5B0%2C+1%5D%7D%2C+%7B%22selection%22%3A+%7B%22c%22%3A+2%2C+%22t%22%3A+0%2C+%22z%22%3A+0%7D%2C+%22color%22%3A+%5B0%2C+0%2C+0%5D%2C+%22visible%22%3A+true%2C+%22slider%22%3A+%5B0%2C+1%5D%7D%2C+%7B%22selection%22%3A+%7B%22c%22%3A+3%2C+%22t%22%3A+0%2C+%22z%22%3A+0%7D%2C+%22color%22%3A+%5B0%2C+0%2C+0%5D%2C+%22visible%22%3A+true%2C+%22slider%22%3A+%5B0%2C+1%5D%7D%2C+%7B%22selection%22%3A+%7B%22c%22%3A+4%2C+%22t%22%3A+0%2C+%22z%22%3A+0%7D%2C+%22color%22%3A+%5B0%2C+0%2C+0%5D%2C+%22visible%22%3A+true%2C+%22slider%22%3A+%5B0%2C+1%5D%7D%2C+%7B%22selection%22%3A+%7B%22c%22%3A+5%2C+%22t%22%3A+0%2C+%22z%22%3A+0%7D%2C+%22color%22%3A+%5B0%2C+0%2C+0%5D%2C+%22visible%22%3A+true%2C+%22slider%22%3A+%5B0%2C+1%5D%7D%5D%7D%5D%7D%7D%2C+%22layout%22%3A+%5B%7B%22component%22%3A+%22spatial%22%2C+%22coordinationScopes%22%3A+%7B%22dataset%22%3A+%22A%22%2C+%22spatialZoom%22%3A+%22A%22%2C+%22spatialTargetX%22%3A+%22A%22%2C+%22spatialTargetY%22%3A+%22A%22%2C+%22spatialSegmentationLayer%22%3A+%22A%22%7D%2C+%22x%22%3A+0.0%2C+%22y%22%3A+0%2C+%22w%22%3A+6.0%2C+%22h%22%3A+12%7D%2C+%7B%22component%22%3A+%22layerController%22%2C+%22coordinationScopes%22%3A+%7B%22dataset%22%3A+%22A%22%2C+%22spatialZoom%22%3A+%22A%22%2C+%22spatialTargetX%22%3A+%22A%22%2C+%22spatialTargetY%22%3A+%22A%22%2C+%22spatialSegmentationLayer%22%3A+%22A%22%7D%2C+%22x%22%3A+6.0%2C+%22y%22%3A+0%2C+%22w%22%3A+6.0%2C+%22h%22%3A+12%7D%5D%2C+%22initStrategy%22%3A+%22auto%22%7D\" target=\"_blank\">View on Vitessce.io</a>"
            ]
          },
          "metadata": {}
        },
        {
          "output_type": "stream",
          "name": "stdout",
          "text": [
            "1\n",
            "https://storagetuzi.blob.core.windows.net/blobtuzi/HandE_B005_CL_b_RGB_bottomleft.ome.tif\n"
          ]
        },
        {
          "output_type": "display_data",
          "data": {
            "text/plain": [
              "<IPython.core.display.HTML object>"
            ],
            "text/html": [
              "<a href=\"http://vitessce.io/#?theme=light&url=data:,%7B%22version%22%3A+%221.0.15%22%2C+%22name%22%3A+%22Transcriptomics+example%22%2C+%22description%22%3A+%22%22%2C+%22datasets%22%3A+%5B%7B%22uid%22%3A+%22A%22%2C+%22name%22%3A+%22Cell+segmentations+comparison%22%2C+%22files%22%3A+%5B%7B%22fileType%22%3A+%22raster.json%22%2C+%22options%22%3A+%7B%22schemaVersion%22%3A+%220.0.2%22%2C+%22images%22%3A+%5B%7B%22name%22%3A+%22Region+HandE_B005_CL_b_RGB_bottomleft+Segmentations+comparison%22%2C+%22type%22%3A+%22ome-tiff%22%2C+%22url%22%3A+%22https%3A%2F%2Fstoragetuzi.blob.core.windows.net%2Fblobtuzi%2FHandE_B005_CL_b_RGB_bottomleft.ome.tif%22%2C+%22metadata%22%3A+%7B%22isBitmask%22%3A+true%7D%7D%5D%7D%7D%5D%7D%5D%2C+%22coordinationSpace%22%3A+%7B%22dataset%22%3A+%7B%22A%22%3A+%22A%22%7D%2C+%22spatialZoom%22%3A+%7B%22A%22%3A+-4%7D%2C+%22spatialTargetX%22%3A+%7B%22A%22%3A+2000%7D%2C+%22spatialTargetY%22%3A+%7B%22A%22%3A+2000%7D%2C+%22spatialSegmentationLayer%22%3A+%7B%22A%22%3A+%5B%7B%22type%22%3A+%22bitmask%22%2C+%22index%22%3A+0%2C+%22visible%22%3A+true%2C+%22colormap%22%3A+null%2C+%22opacity%22%3A+1%2C+%22domainType%22%3A+%22Min%2FMax%22%2C+%22transparentColor%22%3A+%5B0%2C+0%2C+0%5D%2C+%22renderingMode%22%3A+%22Additive%22%2C+%22use3d%22%3A+false%2C+%22channels%22%3A+%5B%7B%22selection%22%3A+%7B%22c%22%3A+0%2C+%22t%22%3A+0%2C+%22z%22%3A+0%7D%2C+%22color%22%3A+%5B0%2C+0%2C+0%5D%2C+%22visible%22%3A+true%2C+%22slider%22%3A+%5B0%2C+1%5D%7D%2C+%7B%22selection%22%3A+%7B%22c%22%3A+1%2C+%22t%22%3A+0%2C+%22z%22%3A+0%7D%2C+%22color%22%3A+%5B0%2C+0%2C+0%5D%2C+%22visible%22%3A+true%2C+%22slider%22%3A+%5B0%2C+1%5D%7D%2C+%7B%22selection%22%3A+%7B%22c%22%3A+2%2C+%22t%22%3A+0%2C+%22z%22%3A+0%7D%2C+%22color%22%3A+%5B0%2C+0%2C+0%5D%2C+%22visible%22%3A+true%2C+%22slider%22%3A+%5B0%2C+1%5D%7D%2C+%7B%22selection%22%3A+%7B%22c%22%3A+3%2C+%22t%22%3A+0%2C+%22z%22%3A+0%7D%2C+%22color%22%3A+%5B0%2C+0%2C+0%5D%2C+%22visible%22%3A+true%2C+%22slider%22%3A+%5B0%2C+1%5D%7D%2C+%7B%22selection%22%3A+%7B%22c%22%3A+4%2C+%22t%22%3A+0%2C+%22z%22%3A+0%7D%2C+%22color%22%3A+%5B0%2C+0%2C+0%5D%2C+%22visible%22%3A+true%2C+%22slider%22%3A+%5B0%2C+1%5D%7D%2C+%7B%22selection%22%3A+%7B%22c%22%3A+5%2C+%22t%22%3A+0%2C+%22z%22%3A+0%7D%2C+%22color%22%3A+%5B0%2C+0%2C+0%5D%2C+%22visible%22%3A+true%2C+%22slider%22%3A+%5B0%2C+1%5D%7D%5D%7D%5D%7D%7D%2C+%22layout%22%3A+%5B%7B%22component%22%3A+%22spatial%22%2C+%22coordinationScopes%22%3A+%7B%22dataset%22%3A+%22A%22%2C+%22spatialZoom%22%3A+%22A%22%2C+%22spatialTargetX%22%3A+%22A%22%2C+%22spatialTargetY%22%3A+%22A%22%2C+%22spatialSegmentationLayer%22%3A+%22A%22%7D%2C+%22x%22%3A+0.0%2C+%22y%22%3A+0%2C+%22w%22%3A+6.0%2C+%22h%22%3A+12%7D%2C+%7B%22component%22%3A+%22layerController%22%2C+%22coordinationScopes%22%3A+%7B%22dataset%22%3A+%22A%22%2C+%22spatialZoom%22%3A+%22A%22%2C+%22spatialTargetX%22%3A+%22A%22%2C+%22spatialTargetY%22%3A+%22A%22%2C+%22spatialSegmentationLayer%22%3A+%22A%22%7D%2C+%22x%22%3A+6.0%2C+%22y%22%3A+0%2C+%22w%22%3A+6.0%2C+%22h%22%3A+12%7D%5D%2C+%22initStrategy%22%3A+%22auto%22%7D\" target=\"_blank\">View on Vitessce.io</a>"
            ]
          },
          "metadata": {}
        }
      ]
    },
    {
      "cell_type": "code",
      "source": [
        "import shutil\n",
        "from google.colab import files\n",
        "\n",
        "# Create a zip file\n",
        "shutil.make_archive('vignettes', 'zip', 'vignette')\n",
        "\n",
        "# Download the zip file\n",
        "files.download('vignettes.zip')\n"
      ],
      "metadata": {
        "id": "tsDyU2WlbHHh",
        "colab": {
          "base_uri": "https://localhost:8080/",
          "height": 17
        },
        "outputId": "a5a40557-781a-42fd-c5e9-5a144438e23b"
      },
      "execution_count": 10,
      "outputs": [
        {
          "output_type": "display_data",
          "data": {
            "text/plain": [
              "<IPython.core.display.Javascript object>"
            ],
            "application/javascript": [
              "\n",
              "    async function download(id, filename, size) {\n",
              "      if (!google.colab.kernel.accessAllowed) {\n",
              "        return;\n",
              "      }\n",
              "      const div = document.createElement('div');\n",
              "      const label = document.createElement('label');\n",
              "      label.textContent = `Downloading \"${filename}\": `;\n",
              "      div.appendChild(label);\n",
              "      const progress = document.createElement('progress');\n",
              "      progress.max = size;\n",
              "      div.appendChild(progress);\n",
              "      document.body.appendChild(div);\n",
              "\n",
              "      const buffers = [];\n",
              "      let downloaded = 0;\n",
              "\n",
              "      const channel = await google.colab.kernel.comms.open(id);\n",
              "      // Send a message to notify the kernel that we're ready.\n",
              "      channel.send({})\n",
              "\n",
              "      for await (const message of channel.messages) {\n",
              "        // Send a message to notify the kernel that we're ready.\n",
              "        channel.send({})\n",
              "        if (message.buffers) {\n",
              "          for (const buffer of message.buffers) {\n",
              "            buffers.push(buffer);\n",
              "            downloaded += buffer.byteLength;\n",
              "            progress.value = downloaded;\n",
              "          }\n",
              "        }\n",
              "      }\n",
              "      const blob = new Blob(buffers, {type: 'application/binary'});\n",
              "      const a = document.createElement('a');\n",
              "      a.href = window.URL.createObjectURL(blob);\n",
              "      a.download = filename;\n",
              "      div.appendChild(a);\n",
              "      a.click();\n",
              "      div.remove();\n",
              "    }\n",
              "  "
            ]
          },
          "metadata": {}
        },
        {
          "output_type": "display_data",
          "data": {
            "text/plain": [
              "<IPython.core.display.Javascript object>"
            ],
            "application/javascript": [
              "download(\"download_98659212-23ce-439e-8943-2b70ae5804c8\", \"vignettes.zip\", 4640)"
            ]
          },
          "metadata": {}
        }
      ]
    },
    {
      "cell_type": "code",
      "source": [
        "from IPython.display import display, HTML\n",
        "\n",
        "url = vc.web_app()\n",
        "display(HTML(f'<a href=\"{url}\" target=\"_blank\">View on Vitessce.io</a>'))"
      ],
      "metadata": {
        "id": "8P9cXESpI7z3",
        "colab": {
          "base_uri": "https://localhost:8080/",
          "height": 34
        },
        "outputId": "8f9a6cd1-75b2-4a75-bd53-dc29f871b270"
      },
      "execution_count": 7,
      "outputs": [
        {
          "output_type": "display_data",
          "data": {
            "text/plain": [
              "<IPython.core.display.HTML object>"
            ],
            "text/html": [
              "<a href=\"http://vitessce.io/#?theme=light&url=data:,%7B%22version%22%3A+%221.0.15%22%2C+%22name%22%3A+%22Transcriptomics+example%22%2C+%22description%22%3A+%22%22%2C+%22datasets%22%3A+%5B%7B%22uid%22%3A+%22A%22%2C+%22name%22%3A+%22Cell+segmentations+comparison%22%2C+%22files%22%3A+%5B%7B%22fileType%22%3A+%22raster.json%22%2C+%22options%22%3A+%7B%22schemaVersion%22%3A+%220.0.2%22%2C+%22images%22%3A+%5B%7B%22name%22%3A+%22Region+HandE_B005_CL_b_RGB_bottomleft+Segmentations+comparison%22%2C+%22type%22%3A+%22ome-tiff%22%2C+%22url%22%3A+%22https%3A%2F%2Fstoragetuzi.blob.core.windows.net%2Fblobtuzi%2FHandE_B005_CL_b_RGB_bottomleft.ome.tif%22%2C+%22metadata%22%3A+%7B%22isBitmask%22%3A+true%7D%7D%5D%7D%7D%5D%7D%5D%2C+%22coordinationSpace%22%3A+%7B%22dataset%22%3A+%7B%22A%22%3A+%22A%22%7D%2C+%22spatialZoom%22%3A+%7B%22A%22%3A+-4%7D%2C+%22spatialTargetX%22%3A+%7B%22A%22%3A+2000%7D%2C+%22spatialTargetY%22%3A+%7B%22A%22%3A+2000%7D%2C+%22spatialSegmentationLayer%22%3A+%7B%22A%22%3A+%5B%7B%22type%22%3A+%22bitmask%22%2C+%22index%22%3A+0%2C+%22visible%22%3A+true%2C+%22colormap%22%3A+null%2C+%22opacity%22%3A+1%2C+%22domainType%22%3A+%22Min%2FMax%22%2C+%22transparentColor%22%3A+%5B0%2C+0%2C+0%5D%2C+%22renderingMode%22%3A+%22Additive%22%2C+%22use3d%22%3A+false%2C+%22channels%22%3A+%5B%7B%22selection%22%3A+%7B%22c%22%3A+0%2C+%22t%22%3A+0%2C+%22z%22%3A+0%7D%2C+%22color%22%3A+%5B0%2C+0%2C+0%5D%2C+%22visible%22%3A+true%2C+%22slider%22%3A+%5B0%2C+1%5D%7D%2C+%7B%22selection%22%3A+%7B%22c%22%3A+1%2C+%22t%22%3A+0%2C+%22z%22%3A+0%7D%2C+%22color%22%3A+%5B0%2C+0%2C+0%5D%2C+%22visible%22%3A+true%2C+%22slider%22%3A+%5B0%2C+1%5D%7D%2C+%7B%22selection%22%3A+%7B%22c%22%3A+2%2C+%22t%22%3A+0%2C+%22z%22%3A+0%7D%2C+%22color%22%3A+%5B0%2C+0%2C+0%5D%2C+%22visible%22%3A+true%2C+%22slider%22%3A+%5B0%2C+1%5D%7D%2C+%7B%22selection%22%3A+%7B%22c%22%3A+3%2C+%22t%22%3A+0%2C+%22z%22%3A+0%7D%2C+%22color%22%3A+%5B0%2C+0%2C+0%5D%2C+%22visible%22%3A+true%2C+%22slider%22%3A+%5B0%2C+1%5D%7D%2C+%7B%22selection%22%3A+%7B%22c%22%3A+4%2C+%22t%22%3A+0%2C+%22z%22%3A+0%7D%2C+%22color%22%3A+%5B0%2C+0%2C+0%5D%2C+%22visible%22%3A+true%2C+%22slider%22%3A+%5B0%2C+1%5D%7D%2C+%7B%22selection%22%3A+%7B%22c%22%3A+5%2C+%22t%22%3A+0%2C+%22z%22%3A+0%7D%2C+%22color%22%3A+%5B0%2C+0%2C+0%5D%2C+%22visible%22%3A+true%2C+%22slider%22%3A+%5B0%2C+1%5D%7D%5D%7D%5D%7D%7D%2C+%22layout%22%3A+%5B%7B%22component%22%3A+%22spatial%22%2C+%22coordinationScopes%22%3A+%7B%22dataset%22%3A+%22A%22%2C+%22spatialZoom%22%3A+%22A%22%2C+%22spatialTargetX%22%3A+%22A%22%2C+%22spatialTargetY%22%3A+%22A%22%2C+%22spatialSegmentationLayer%22%3A+%22A%22%7D%2C+%22x%22%3A+0.0%2C+%22y%22%3A+0%2C+%22w%22%3A+6.0%2C+%22h%22%3A+12%7D%2C+%7B%22component%22%3A+%22layerController%22%2C+%22coordinationScopes%22%3A+%7B%22dataset%22%3A+%22A%22%2C+%22spatialZoom%22%3A+%22A%22%2C+%22spatialTargetX%22%3A+%22A%22%2C+%22spatialTargetY%22%3A+%22A%22%2C+%22spatialSegmentationLayer%22%3A+%22A%22%7D%2C+%22x%22%3A+6.0%2C+%22y%22%3A+0%2C+%22w%22%3A+6.0%2C+%22h%22%3A+12%7D%5D%2C+%22initStrategy%22%3A+%22auto%22%7D\" target=\"_blank\">View on Vitessce.io</a>"
            ]
          },
          "metadata": {}
        }
      ]
    },
    {
      "cell_type": "code",
      "source": [
        "vw = vc.widget()\n",
        "vw"
      ],
      "metadata": {
        "id": "BO5vy2rrWA_K"
      },
      "execution_count": null,
      "outputs": []
    },
    {
      "cell_type": "code",
      "source": [
        "import imageio\n",
        "import matplotlib.pyplot as plt\n",
        "\n",
        "img = imageio.imread('https://storagetuzi.blob.core.windows.net/blobtuzi/reg001_mask.ome.tif')\n",
        "# plt.imshow(img)\n",
        "# plt.show()\n",
        "img"
      ],
      "metadata": {
        "id": "N0FSwY2S9R9l"
      },
      "execution_count": null,
      "outputs": []
    }
  ]
}