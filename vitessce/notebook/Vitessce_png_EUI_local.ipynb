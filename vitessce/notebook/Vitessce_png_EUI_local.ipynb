{
  "cells": [
    {
      "cell_type": "markdown",
      "metadata": {
        "id": "view-in-github",
        "colab_type": "text"
      },
      "source": [
        "<a href=\"https://colab.research.google.com/github/juyingnan/vccf_visualization/blob/main/vitessce/notebook/Vitessce_png_EUI_local.ipynb\" target=\"_parent\"><img src=\"https://colab.research.google.com/assets/colab-badge.svg\" alt=\"Open In Colab\"/></a>"
      ]
    },
    {
      "cell_type": "code",
      "execution_count": null,
      "metadata": {
        "id": "oKfvIycSl0BR",
        "colab": {
          "base_uri": "https://localhost:8080/"
        },
        "outputId": "f5eecffd-46e1-4375-c498-065773e7d279"
      },
      "outputs": [
        {
          "output_type": "stream",
          "name": "stdout",
          "text": [
            "Requirement already satisfied: tifffile in /usr/local/lib/python3.10/dist-packages (2023.7.10)\n",
            "Collecting vitessce[all]\n",
            "  Downloading vitessce-3.0.5-py2.py3-none-any.whl (45 kB)\n",
            "\u001b[2K     \u001b[90m━━━━━━━━━━━━━━━━━━━━━━━━━━━━━━━━━━━━━━━━\u001b[0m \u001b[32m45.3/45.3 kB\u001b[0m \u001b[31m2.8 MB/s\u001b[0m eta \u001b[36m0:00:00\u001b[0m\n",
            "\u001b[?25hRequirement already satisfied: scikit-image in /usr/local/lib/python3.10/dist-packages (0.19.3)\n",
            "Requirement already satisfied: numpy in /usr/local/lib/python3.10/dist-packages (from tifffile) (1.22.4)\n",
            "Collecting zarr>=2.5.0 (from vitessce[all])\n",
            "  Downloading zarr-2.15.0-py3-none-any.whl (206 kB)\n",
            "\u001b[2K     \u001b[90m━━━━━━━━━━━━━━━━━━━━━━━━━━━━━━━━━━━━━━━\u001b[0m \u001b[32m206.1/206.1 kB\u001b[0m \u001b[31m8.6 MB/s\u001b[0m eta \u001b[36m0:00:00\u001b[0m\n",
            "\u001b[?25hCollecting numcodecs>=0.5.7 (from vitessce[all])\n",
            "  Downloading numcodecs-0.11.0-cp310-cp310-manylinux_2_17_x86_64.manylinux2014_x86_64.whl (6.7 MB)\n",
            "\u001b[2K     \u001b[90m━━━━━━━━━━━━━━━━━━━━━━━━━━━━━━━━━━━━━━━━\u001b[0m \u001b[32m6.7/6.7 MB\u001b[0m \u001b[31m73.7 MB/s\u001b[0m eta \u001b[36m0:00:00\u001b[0m\n",
            "\u001b[?25hRequirement already satisfied: scipy>=1.2.1 in /usr/local/lib/python3.10/dist-packages (from vitessce[all]) (1.10.1)\n",
            "Collecting negspy>=0.2.24 (from vitessce[all])\n",
            "  Downloading negspy-0.2.24.tar.gz (1.7 MB)\n",
            "\u001b[2K     \u001b[90m━━━━━━━━━━━━━━━━━━━━━━━━━━━━━━━━━━━━━━━━\u001b[0m \u001b[32m1.7/1.7 MB\u001b[0m \u001b[31m73.6 MB/s\u001b[0m eta \u001b[36m0:00:00\u001b[0m\n",
            "\u001b[?25h  Preparing metadata (setup.py) ... \u001b[?25l\u001b[?25hdone\n",
            "Requirement already satisfied: pandas>=1.1.2 in /usr/local/lib/python3.10/dist-packages (from vitessce[all]) (1.5.3)\n",
            "Collecting black>=21.11b1 (from vitessce[all])\n",
            "  Downloading black-23.7.0-cp310-cp310-manylinux_2_17_x86_64.manylinux2014_x86_64.whl (1.7 MB)\n",
            "\u001b[2K     \u001b[90m━━━━━━━━━━━━━━━━━━━━━━━━━━━━━━━━━━━━━━━━\u001b[0m \u001b[32m1.7/1.7 MB\u001b[0m \u001b[31m76.7 MB/s\u001b[0m eta \u001b[36m0:00:00\u001b[0m\n",
            "\u001b[?25hCollecting anndata<0.9,>=0.7.8 (from vitessce[all])\n",
            "  Downloading anndata-0.8.0-py3-none-any.whl (96 kB)\n",
            "\u001b[2K     \u001b[90m━━━━━━━━━━━━━━━━━━━━━━━━━━━━━━━━━━━━━━━━\u001b[0m \u001b[32m96.1/96.1 kB\u001b[0m \u001b[31m7.7 MB/s\u001b[0m eta \u001b[36m0:00:00\u001b[0m\n",
            "\u001b[?25hCollecting ome-zarr==0.2.1 (from vitessce[all])\n",
            "  Downloading ome_zarr-0.2.1-py3-none-any.whl (27 kB)\n",
            "Collecting jupyter-server-proxy>=1.5.2 (from vitessce[all])\n",
            "  Downloading jupyter_server_proxy-4.0.0-py3-none-any.whl (32 kB)\n",
            "Collecting anywidget==0.4.2 (from vitessce[all])\n",
            "  Downloading anywidget-0.4.2-py3-none-any.whl (37 kB)\n",
            "Collecting uvicorn>=0.17.0 (from vitessce[all])\n",
            "  Downloading uvicorn-0.23.0-py3-none-any.whl (59 kB)\n",
            "\u001b[2K     \u001b[90m━━━━━━━━━━━━━━━━━━━━━━━━━━━━━━━━━━━━━━━━\u001b[0m \u001b[32m59.6/59.6 kB\u001b[0m \u001b[31m8.4 MB/s\u001b[0m eta \u001b[36m0:00:00\u001b[0m\n",
            "\u001b[?25hCollecting ujson>=4.0.1 (from vitessce[all])\n",
            "  Downloading ujson-5.8.0-cp310-cp310-manylinux_2_17_x86_64.manylinux2014_x86_64.whl (53 kB)\n",
            "\u001b[2K     \u001b[90m━━━━━━━━━━━━━━━━━━━━━━━━━━━━━━━━━━━━━━━━\u001b[0m \u001b[32m53.9/53.9 kB\u001b[0m \u001b[31m5.5 MB/s\u001b[0m eta \u001b[36m0:00:00\u001b[0m\n",
            "\u001b[?25hCollecting starlette==0.14.0 (from vitessce[all])\n",
            "  Downloading starlette-0.14.0-py3-none-any.whl (60 kB)\n",
            "\u001b[2K     \u001b[90m━━━━━━━━━━━━━━━━━━━━━━━━━━━━━━━━━━━━━━━━\u001b[0m \u001b[32m60.7/60.7 kB\u001b[0m \u001b[31m7.9 MB/s\u001b[0m eta \u001b[36m0:00:00\u001b[0m\n",
            "\u001b[?25hCollecting generate-tiff-offsets>=0.1.7 (from vitessce[all])\n",
            "  Downloading generate_tiff_offsets-0.1.7-py2.py3-none-any.whl (4.1 kB)\n",
            "Collecting aiofiles>=0.6.0 (from vitessce[all])\n",
            "  Downloading aiofiles-23.1.0-py3-none-any.whl (14 kB)\n",
            "Requirement already satisfied: ipywidgets>=7.6.0 in /usr/local/lib/python3.10/dist-packages (from anywidget==0.4.2->vitessce[all]) (7.7.1)\n",
            "Collecting psygnal>=0.8.1 (from anywidget==0.4.2->vitessce[all])\n",
            "  Downloading psygnal-0.9.1-py3-none-any.whl (63 kB)\n",
            "\u001b[2K     \u001b[90m━━━━━━━━━━━━━━━━━━━━━━━━━━━━━━━━━━━━━━━━\u001b[0m \u001b[32m63.5/63.5 kB\u001b[0m \u001b[31m8.2 MB/s\u001b[0m eta \u001b[36m0:00:00\u001b[0m\n",
            "\u001b[?25hRequirement already satisfied: typing-extensions>=4.2.0 in /usr/local/lib/python3.10/dist-packages (from anywidget==0.4.2->vitessce[all]) (4.7.1)\n",
            "Requirement already satisfied: dask in /usr/local/lib/python3.10/dist-packages (from ome-zarr==0.2.1->vitessce[all]) (2022.12.1)\n",
            "Requirement already satisfied: fsspec[s3]!=2021.07.0 in /usr/local/lib/python3.10/dist-packages (from ome-zarr==0.2.1->vitessce[all]) (2023.6.0)\n",
            "Requirement already satisfied: aiohttp in /usr/local/lib/python3.10/dist-packages (from ome-zarr==0.2.1->vitessce[all]) (3.8.4)\n",
            "Requirement already satisfied: requests in /usr/local/lib/python3.10/dist-packages (from ome-zarr==0.2.1->vitessce[all]) (2.27.1)\n",
            "Requirement already satisfied: toolz in /usr/local/lib/python3.10/dist-packages (from ome-zarr==0.2.1->vitessce[all]) (0.12.0)\n",
            "Requirement already satisfied: networkx>=2.2 in /usr/local/lib/python3.10/dist-packages (from scikit-image) (3.1)\n",
            "Requirement already satisfied: pillow!=7.1.0,!=7.1.1,!=8.3.0,>=6.1.0 in /usr/local/lib/python3.10/dist-packages (from scikit-image) (8.4.0)\n",
            "Requirement already satisfied: imageio>=2.4.1 in /usr/local/lib/python3.10/dist-packages (from scikit-image) (2.25.1)\n",
            "Requirement already satisfied: PyWavelets>=1.1.1 in /usr/local/lib/python3.10/dist-packages (from scikit-image) (1.4.1)\n",
            "Requirement already satisfied: packaging>=20.0 in /usr/local/lib/python3.10/dist-packages (from scikit-image) (23.1)\n",
            "Requirement already satisfied: h5py>=3 in /usr/local/lib/python3.10/dist-packages (from anndata<0.9,>=0.7.8->vitessce[all]) (3.8.0)\n",
            "Requirement already satisfied: natsort in /usr/local/lib/python3.10/dist-packages (from anndata<0.9,>=0.7.8->vitessce[all]) (8.3.1)\n",
            "Requirement already satisfied: click>=8.0.0 in /usr/local/lib/python3.10/dist-packages (from black>=21.11b1->vitessce[all]) (8.1.4)\n",
            "Collecting mypy-extensions>=0.4.3 (from black>=21.11b1->vitessce[all])\n",
            "  Downloading mypy_extensions-1.0.0-py3-none-any.whl (4.7 kB)\n",
            "Collecting pathspec>=0.9.0 (from black>=21.11b1->vitessce[all])\n",
            "  Downloading pathspec-0.11.1-py3-none-any.whl (29 kB)\n",
            "Requirement already satisfied: platformdirs>=2 in /usr/local/lib/python3.10/dist-packages (from black>=21.11b1->vitessce[all]) (3.8.1)\n",
            "Requirement already satisfied: tomli>=1.1.0 in /usr/local/lib/python3.10/dist-packages (from black>=21.11b1->vitessce[all]) (2.0.1)\n",
            "Collecting tifffile\n",
            "  Downloading tifffile-2020.10.1-py3-none-any.whl (152 kB)\n",
            "\u001b[2K     \u001b[90m━━━━━━━━━━━━━━━━━━━━━━━━━━━━━━━━━━━━━━\u001b[0m \u001b[32m152.6/152.6 kB\u001b[0m \u001b[31m18.1 MB/s\u001b[0m eta \u001b[36m0:00:00\u001b[0m\n",
            "\u001b[?25hRequirement already satisfied: jupyter-server>=1.0 in /usr/local/lib/python3.10/dist-packages (from jupyter-server-proxy>=1.5.2->vitessce[all]) (1.24.0)\n",
            "Collecting simpervisor>=0.4 (from jupyter-server-proxy>=1.5.2->vitessce[all])\n",
            "  Downloading simpervisor-1.0.0-py3-none-any.whl (8.3 kB)\n",
            "Requirement already satisfied: entrypoints in /usr/local/lib/python3.10/dist-packages (from numcodecs>=0.5.7->vitessce[all]) (0.4)\n",
            "Requirement already satisfied: python-dateutil>=2.8.1 in /usr/local/lib/python3.10/dist-packages (from pandas>=1.1.2->vitessce[all]) (2.8.2)\n",
            "Requirement already satisfied: pytz>=2020.1 in /usr/local/lib/python3.10/dist-packages (from pandas>=1.1.2->vitessce[all]) (2022.7.1)\n",
            "Collecting h11>=0.8 (from uvicorn>=0.17.0->vitessce[all])\n",
            "  Downloading h11-0.14.0-py3-none-any.whl (58 kB)\n",
            "\u001b[2K     \u001b[90m━━━━━━━━━━━━━━━━━━━━━━━━━━━━━━━━━━━━━━━━\u001b[0m \u001b[32m58.3/58.3 kB\u001b[0m \u001b[31m7.8 MB/s\u001b[0m eta \u001b[36m0:00:00\u001b[0m\n",
            "\u001b[?25hCollecting asciitree (from zarr>=2.5.0->vitessce[all])\n",
            "  Downloading asciitree-0.3.3.tar.gz (4.0 kB)\n",
            "  Preparing metadata (setup.py) ... \u001b[?25l\u001b[?25hdone\n",
            "Collecting fasteners (from zarr>=2.5.0->vitessce[all])\n",
            "  Downloading fasteners-0.18-py3-none-any.whl (18 kB)\n",
            "Collecting s3fs (from fsspec[s3]!=2021.07.0->ome-zarr==0.2.1->vitessce[all])\n",
            "  Downloading s3fs-2023.6.0-py3-none-any.whl (28 kB)\n",
            "Requirement already satisfied: ipykernel>=4.5.1 in /usr/local/lib/python3.10/dist-packages (from ipywidgets>=7.6.0->anywidget==0.4.2->vitessce[all]) (5.5.6)\n",
            "Requirement already satisfied: ipython-genutils~=0.2.0 in /usr/local/lib/python3.10/dist-packages (from ipywidgets>=7.6.0->anywidget==0.4.2->vitessce[all]) (0.2.0)\n",
            "Requirement already satisfied: traitlets>=4.3.1 in /usr/local/lib/python3.10/dist-packages (from ipywidgets>=7.6.0->anywidget==0.4.2->vitessce[all]) (5.7.1)\n",
            "Requirement already satisfied: widgetsnbextension~=3.6.0 in /usr/local/lib/python3.10/dist-packages (from ipywidgets>=7.6.0->anywidget==0.4.2->vitessce[all]) (3.6.4)\n",
            "Requirement already satisfied: ipython>=4.0.0 in /usr/local/lib/python3.10/dist-packages (from ipywidgets>=7.6.0->anywidget==0.4.2->vitessce[all]) (7.34.0)\n",
            "Requirement already satisfied: jupyterlab-widgets>=1.0.0 in /usr/local/lib/python3.10/dist-packages (from ipywidgets>=7.6.0->anywidget==0.4.2->vitessce[all]) (3.0.8)\n",
            "Requirement already satisfied: anyio<4,>=3.1.0 in /usr/local/lib/python3.10/dist-packages (from jupyter-server>=1.0->jupyter-server-proxy>=1.5.2->vitessce[all]) (3.7.1)\n",
            "Requirement already satisfied: argon2-cffi in /usr/local/lib/python3.10/dist-packages (from jupyter-server>=1.0->jupyter-server-proxy>=1.5.2->vitessce[all]) (21.3.0)\n",
            "Requirement already satisfied: jinja2 in /usr/local/lib/python3.10/dist-packages (from jupyter-server>=1.0->jupyter-server-proxy>=1.5.2->vitessce[all]) (3.1.2)\n",
            "Requirement already satisfied: jupyter-client>=6.1.12 in /usr/local/lib/python3.10/dist-packages (from jupyter-server>=1.0->jupyter-server-proxy>=1.5.2->vitessce[all]) (6.1.12)\n",
            "Requirement already satisfied: jupyter-core!=5.0.*,>=4.12 in /usr/local/lib/python3.10/dist-packages (from jupyter-server>=1.0->jupyter-server-proxy>=1.5.2->vitessce[all]) (5.3.1)\n",
            "Requirement already satisfied: nbconvert>=6.4.4 in /usr/local/lib/python3.10/dist-packages (from jupyter-server>=1.0->jupyter-server-proxy>=1.5.2->vitessce[all]) (6.5.4)\n",
            "Requirement already satisfied: nbformat>=5.2.0 in /usr/local/lib/python3.10/dist-packages (from jupyter-server>=1.0->jupyter-server-proxy>=1.5.2->vitessce[all]) (5.9.1)\n",
            "Requirement already satisfied: prometheus-client in /usr/local/lib/python3.10/dist-packages (from jupyter-server>=1.0->jupyter-server-proxy>=1.5.2->vitessce[all]) (0.17.1)\n",
            "Requirement already satisfied: pyzmq>=17 in /usr/local/lib/python3.10/dist-packages (from jupyter-server>=1.0->jupyter-server-proxy>=1.5.2->vitessce[all]) (23.2.1)\n",
            "Requirement already satisfied: Send2Trash in /usr/local/lib/python3.10/dist-packages (from jupyter-server>=1.0->jupyter-server-proxy>=1.5.2->vitessce[all]) (1.8.2)\n",
            "Requirement already satisfied: terminado>=0.8.3 in /usr/local/lib/python3.10/dist-packages (from jupyter-server>=1.0->jupyter-server-proxy>=1.5.2->vitessce[all]) (0.17.1)\n",
            "Requirement already satisfied: tornado>=6.1.0 in /usr/local/lib/python3.10/dist-packages (from jupyter-server>=1.0->jupyter-server-proxy>=1.5.2->vitessce[all]) (6.3.1)\n",
            "Requirement already satisfied: websocket-client in /usr/local/lib/python3.10/dist-packages (from jupyter-server>=1.0->jupyter-server-proxy>=1.5.2->vitessce[all]) (1.6.1)\n",
            "Requirement already satisfied: six>=1.5 in /usr/local/lib/python3.10/dist-packages (from python-dateutil>=2.8.1->pandas>=1.1.2->vitessce[all]) (1.16.0)\n",
            "Requirement already satisfied: attrs>=17.3.0 in /usr/local/lib/python3.10/dist-packages (from aiohttp->ome-zarr==0.2.1->vitessce[all]) (23.1.0)\n",
            "Requirement already satisfied: charset-normalizer<4.0,>=2.0 in /usr/local/lib/python3.10/dist-packages (from aiohttp->ome-zarr==0.2.1->vitessce[all]) (2.0.12)\n",
            "Requirement already satisfied: multidict<7.0,>=4.5 in /usr/local/lib/python3.10/dist-packages (from aiohttp->ome-zarr==0.2.1->vitessce[all]) (6.0.4)\n",
            "Requirement already satisfied: async-timeout<5.0,>=4.0.0a3 in /usr/local/lib/python3.10/dist-packages (from aiohttp->ome-zarr==0.2.1->vitessce[all]) (4.0.2)\n",
            "Requirement already satisfied: yarl<2.0,>=1.0 in /usr/local/lib/python3.10/dist-packages (from aiohttp->ome-zarr==0.2.1->vitessce[all]) (1.9.2)\n",
            "Requirement already satisfied: frozenlist>=1.1.1 in /usr/local/lib/python3.10/dist-packages (from aiohttp->ome-zarr==0.2.1->vitessce[all]) (1.3.3)\n",
            "Requirement already satisfied: aiosignal>=1.1.2 in /usr/local/lib/python3.10/dist-packages (from aiohttp->ome-zarr==0.2.1->vitessce[all]) (1.3.1)\n",
            "Requirement already satisfied: cloudpickle>=1.1.1 in /usr/local/lib/python3.10/dist-packages (from dask->ome-zarr==0.2.1->vitessce[all]) (2.2.1)\n",
            "Requirement already satisfied: partd>=0.3.10 in /usr/local/lib/python3.10/dist-packages (from dask->ome-zarr==0.2.1->vitessce[all]) (1.4.0)\n",
            "Requirement already satisfied: pyyaml>=5.3.1 in /usr/local/lib/python3.10/dist-packages (from dask->ome-zarr==0.2.1->vitessce[all]) (6.0)\n",
            "Requirement already satisfied: urllib3<1.27,>=1.21.1 in /usr/local/lib/python3.10/dist-packages (from requests->ome-zarr==0.2.1->vitessce[all]) (1.26.16)\n",
            "Requirement already satisfied: certifi>=2017.4.17 in /usr/local/lib/python3.10/dist-packages (from requests->ome-zarr==0.2.1->vitessce[all]) (2023.5.7)\n",
            "Requirement already satisfied: idna<4,>=2.5 in /usr/local/lib/python3.10/dist-packages (from requests->ome-zarr==0.2.1->vitessce[all]) (3.4)\n",
            "Requirement already satisfied: sniffio>=1.1 in /usr/local/lib/python3.10/dist-packages (from anyio<4,>=3.1.0->jupyter-server>=1.0->jupyter-server-proxy>=1.5.2->vitessce[all]) (1.3.0)\n",
            "Requirement already satisfied: exceptiongroup in /usr/local/lib/python3.10/dist-packages (from anyio<4,>=3.1.0->jupyter-server>=1.0->jupyter-server-proxy>=1.5.2->vitessce[all]) (1.1.2)\n",
            "Requirement already satisfied: setuptools>=18.5 in /usr/local/lib/python3.10/dist-packages (from ipython>=4.0.0->ipywidgets>=7.6.0->anywidget==0.4.2->vitessce[all]) (67.7.2)\n",
            "Collecting jedi>=0.16 (from ipython>=4.0.0->ipywidgets>=7.6.0->anywidget==0.4.2->vitessce[all])\n",
            "  Downloading jedi-0.18.2-py2.py3-none-any.whl (1.6 MB)\n",
            "\u001b[2K     \u001b[90m━━━━━━━━━━━━━━━━━━━━━━━━━━━━━━━━━━━━━━━━\u001b[0m \u001b[32m1.6/1.6 MB\u001b[0m \u001b[31m63.5 MB/s\u001b[0m eta \u001b[36m0:00:00\u001b[0m\n",
            "\u001b[?25hRequirement already satisfied: decorator in /usr/local/lib/python3.10/dist-packages (from ipython>=4.0.0->ipywidgets>=7.6.0->anywidget==0.4.2->vitessce[all]) (4.4.2)\n",
            "Requirement already satisfied: pickleshare in /usr/local/lib/python3.10/dist-packages (from ipython>=4.0.0->ipywidgets>=7.6.0->anywidget==0.4.2->vitessce[all]) (0.7.5)\n",
            "Requirement already satisfied: prompt-toolkit!=3.0.0,!=3.0.1,<3.1.0,>=2.0.0 in /usr/local/lib/python3.10/dist-packages (from ipython>=4.0.0->ipywidgets>=7.6.0->anywidget==0.4.2->vitessce[all]) (3.0.39)\n",
            "Requirement already satisfied: pygments in /usr/local/lib/python3.10/dist-packages (from ipython>=4.0.0->ipywidgets>=7.6.0->anywidget==0.4.2->vitessce[all]) (2.14.0)\n",
            "Requirement already satisfied: backcall in /usr/local/lib/python3.10/dist-packages (from ipython>=4.0.0->ipywidgets>=7.6.0->anywidget==0.4.2->vitessce[all]) (0.2.0)\n",
            "Requirement already satisfied: matplotlib-inline in /usr/local/lib/python3.10/dist-packages (from ipython>=4.0.0->ipywidgets>=7.6.0->anywidget==0.4.2->vitessce[all]) (0.1.6)\n",
            "Requirement already satisfied: pexpect>4.3 in /usr/local/lib/python3.10/dist-packages (from ipython>=4.0.0->ipywidgets>=7.6.0->anywidget==0.4.2->vitessce[all]) (4.8.0)\n",
            "Requirement already satisfied: lxml in /usr/local/lib/python3.10/dist-packages (from nbconvert>=6.4.4->jupyter-server>=1.0->jupyter-server-proxy>=1.5.2->vitessce[all]) (4.9.3)\n",
            "Requirement already satisfied: beautifulsoup4 in /usr/local/lib/python3.10/dist-packages (from nbconvert>=6.4.4->jupyter-server>=1.0->jupyter-server-proxy>=1.5.2->vitessce[all]) (4.11.2)\n",
            "Requirement already satisfied: bleach in /usr/local/lib/python3.10/dist-packages (from nbconvert>=6.4.4->jupyter-server>=1.0->jupyter-server-proxy>=1.5.2->vitessce[all]) (6.0.0)\n",
            "Requirement already satisfied: defusedxml in /usr/local/lib/python3.10/dist-packages (from nbconvert>=6.4.4->jupyter-server>=1.0->jupyter-server-proxy>=1.5.2->vitessce[all]) (0.7.1)\n",
            "Requirement already satisfied: jupyterlab-pygments in /usr/local/lib/python3.10/dist-packages (from nbconvert>=6.4.4->jupyter-server>=1.0->jupyter-server-proxy>=1.5.2->vitessce[all]) (0.2.2)\n",
            "Requirement already satisfied: MarkupSafe>=2.0 in /usr/local/lib/python3.10/dist-packages (from nbconvert>=6.4.4->jupyter-server>=1.0->jupyter-server-proxy>=1.5.2->vitessce[all]) (2.1.3)\n",
            "Requirement already satisfied: mistune<2,>=0.8.1 in /usr/local/lib/python3.10/dist-packages (from nbconvert>=6.4.4->jupyter-server>=1.0->jupyter-server-proxy>=1.5.2->vitessce[all]) (0.8.4)\n",
            "Requirement already satisfied: nbclient>=0.5.0 in /usr/local/lib/python3.10/dist-packages (from nbconvert>=6.4.4->jupyter-server>=1.0->jupyter-server-proxy>=1.5.2->vitessce[all]) (0.8.0)\n",
            "Requirement already satisfied: pandocfilters>=1.4.1 in /usr/local/lib/python3.10/dist-packages (from nbconvert>=6.4.4->jupyter-server>=1.0->jupyter-server-proxy>=1.5.2->vitessce[all]) (1.5.0)\n",
            "Requirement already satisfied: tinycss2 in /usr/local/lib/python3.10/dist-packages (from nbconvert>=6.4.4->jupyter-server>=1.0->jupyter-server-proxy>=1.5.2->vitessce[all]) (1.2.1)\n",
            "Requirement already satisfied: fastjsonschema in /usr/local/lib/python3.10/dist-packages (from nbformat>=5.2.0->jupyter-server>=1.0->jupyter-server-proxy>=1.5.2->vitessce[all]) (2.17.1)\n",
            "Requirement already satisfied: jsonschema>=2.6 in /usr/local/lib/python3.10/dist-packages (from nbformat>=5.2.0->jupyter-server>=1.0->jupyter-server-proxy>=1.5.2->vitessce[all]) (4.3.3)\n",
            "Requirement already satisfied: locket in /usr/local/lib/python3.10/dist-packages (from partd>=0.3.10->dask->ome-zarr==0.2.1->vitessce[all]) (1.0.0)\n",
            "Requirement already satisfied: ptyprocess in /usr/local/lib/python3.10/dist-packages (from terminado>=0.8.3->jupyter-server>=1.0->jupyter-server-proxy>=1.5.2->vitessce[all]) (0.7.0)\n",
            "Requirement already satisfied: notebook>=4.4.1 in /usr/local/lib/python3.10/dist-packages (from widgetsnbextension~=3.6.0->ipywidgets>=7.6.0->anywidget==0.4.2->vitessce[all]) (6.4.8)\n",
            "Requirement already satisfied: argon2-cffi-bindings in /usr/local/lib/python3.10/dist-packages (from argon2-cffi->jupyter-server>=1.0->jupyter-server-proxy>=1.5.2->vitessce[all]) (21.2.0)\n",
            "Collecting aiobotocore~=2.5.0 (from s3fs->fsspec[s3]!=2021.07.0->ome-zarr==0.2.1->vitessce[all])\n",
            "  Downloading aiobotocore-2.5.2-py3-none-any.whl (72 kB)\n",
            "\u001b[2K     \u001b[90m━━━━━━━━━━━━━━━━━━━━━━━━━━━━━━━━━━━━━━━━\u001b[0m \u001b[32m72.9/72.9 kB\u001b[0m \u001b[31m10.4 MB/s\u001b[0m eta \u001b[36m0:00:00\u001b[0m\n",
            "\u001b[?25hCollecting botocore<1.29.162,>=1.29.161 (from aiobotocore~=2.5.0->s3fs->fsspec[s3]!=2021.07.0->ome-zarr==0.2.1->vitessce[all])\n",
            "  Downloading botocore-1.29.161-py3-none-any.whl (10.9 MB)\n",
            "\u001b[2K     \u001b[90m━━━━━━━━━━━━━━━━━━━━━━━━━━━━━━━━━━━━━━━\u001b[0m \u001b[32m10.9/10.9 MB\u001b[0m \u001b[31m136.0 MB/s\u001b[0m eta \u001b[36m0:00:00\u001b[0m\n",
            "\u001b[?25hRequirement already satisfied: wrapt<2.0.0,>=1.10.10 in /usr/local/lib/python3.10/dist-packages (from aiobotocore~=2.5.0->s3fs->fsspec[s3]!=2021.07.0->ome-zarr==0.2.1->vitessce[all]) (1.14.1)\n",
            "Collecting aioitertools<1.0.0,>=0.5.1 (from aiobotocore~=2.5.0->s3fs->fsspec[s3]!=2021.07.0->ome-zarr==0.2.1->vitessce[all])\n",
            "  Downloading aioitertools-0.11.0-py3-none-any.whl (23 kB)\n",
            "Requirement already satisfied: parso<0.9.0,>=0.8.0 in /usr/local/lib/python3.10/dist-packages (from jedi>=0.16->ipython>=4.0.0->ipywidgets>=7.6.0->anywidget==0.4.2->vitessce[all]) (0.8.3)\n",
            "Requirement already satisfied: pyrsistent!=0.17.0,!=0.17.1,!=0.17.2,>=0.14.0 in /usr/local/lib/python3.10/dist-packages (from jsonschema>=2.6->nbformat>=5.2.0->jupyter-server>=1.0->jupyter-server-proxy>=1.5.2->vitessce[all]) (0.19.3)\n",
            "Requirement already satisfied: nest-asyncio>=1.5 in /usr/local/lib/python3.10/dist-packages (from notebook>=4.4.1->widgetsnbextension~=3.6.0->ipywidgets>=7.6.0->anywidget==0.4.2->vitessce[all]) (1.5.6)\n",
            "Requirement already satisfied: wcwidth in /usr/local/lib/python3.10/dist-packages (from prompt-toolkit!=3.0.0,!=3.0.1,<3.1.0,>=2.0.0->ipython>=4.0.0->ipywidgets>=7.6.0->anywidget==0.4.2->vitessce[all]) (0.2.6)\n",
            "Requirement already satisfied: cffi>=1.0.1 in /usr/local/lib/python3.10/dist-packages (from argon2-cffi-bindings->argon2-cffi->jupyter-server>=1.0->jupyter-server-proxy>=1.5.2->vitessce[all]) (1.15.1)\n",
            "Requirement already satisfied: soupsieve>1.2 in /usr/local/lib/python3.10/dist-packages (from beautifulsoup4->nbconvert>=6.4.4->jupyter-server>=1.0->jupyter-server-proxy>=1.5.2->vitessce[all]) (2.4.1)\n",
            "Requirement already satisfied: webencodings in /usr/local/lib/python3.10/dist-packages (from bleach->nbconvert>=6.4.4->jupyter-server>=1.0->jupyter-server-proxy>=1.5.2->vitessce[all]) (0.5.1)\n",
            "Collecting jmespath<2.0.0,>=0.7.1 (from botocore<1.29.162,>=1.29.161->aiobotocore~=2.5.0->s3fs->fsspec[s3]!=2021.07.0->ome-zarr==0.2.1->vitessce[all])\n",
            "  Downloading jmespath-1.0.1-py3-none-any.whl (20 kB)\n",
            "Requirement already satisfied: pycparser in /usr/local/lib/python3.10/dist-packages (from cffi>=1.0.1->argon2-cffi-bindings->argon2-cffi->jupyter-server>=1.0->jupyter-server-proxy>=1.5.2->vitessce[all]) (2.21)\n",
            "Building wheels for collected packages: negspy, asciitree\n",
            "  Building wheel for negspy (setup.py) ... \u001b[?25l\u001b[?25hdone\n",
            "  Created wheel for negspy: filename=negspy-0.2.24-py3-none-any.whl size=1725345 sha256=41e69778a2b92455d09016c2d8bf26f4b5de4540c1b99ca2468d7a9cea8f968c\n",
            "  Stored in directory: /root/.cache/pip/wheels/4c/01/07/77d7b941e82a624da932e7745bb9a1265418559a23b7bec627\n",
            "  Building wheel for asciitree (setup.py) ... \u001b[?25l\u001b[?25hdone\n",
            "  Created wheel for asciitree: filename=asciitree-0.3.3-py3-none-any.whl size=5034 sha256=43d1a7645cadddeae18e34de816913510cd5b0ebf346bdf082468d3be51c1541\n",
            "  Stored in directory: /root/.cache/pip/wheels/7f/4e/be/1171b40f43b918087657ec57cf3b81fa1a2e027d8755baa184\n",
            "Successfully built negspy asciitree\n",
            "Installing collected packages: negspy, asciitree, ujson, tifffile, starlette, simpervisor, pathspec, numcodecs, mypy-extensions, jmespath, jedi, h11, fasteners, aioitertools, aiofiles, zarr, uvicorn, psygnal, generate-tiff-offsets, botocore, black, anndata, aiobotocore, s3fs, ome-zarr, jupyter-server-proxy, vitessce, anywidget\n",
            "  Attempting uninstall: tifffile\n",
            "    Found existing installation: tifffile 2023.7.10\n",
            "    Uninstalling tifffile-2023.7.10:\n",
            "      Successfully uninstalled tifffile-2023.7.10\n",
            "Successfully installed aiobotocore-2.5.2 aiofiles-23.1.0 aioitertools-0.11.0 anndata-0.8.0 anywidget-0.4.2 asciitree-0.3.3 black-23.7.0 botocore-1.29.161 fasteners-0.18 generate-tiff-offsets-0.1.7 h11-0.14.0 jedi-0.18.2 jmespath-1.0.1 jupyter-server-proxy-4.0.0 mypy-extensions-1.0.0 negspy-0.2.24 numcodecs-0.11.0 ome-zarr-0.2.1 pathspec-0.11.1 psygnal-0.9.1 s3fs-2023.6.0 simpervisor-1.0.0 starlette-0.14.0 tifffile-2020.10.1 ujson-5.8.0 uvicorn-0.23.0 vitessce-3.0.5 zarr-2.15.0\n"
          ]
        }
      ],
      "source": [
        "!pip install tifffile vitessce[all] scikit-image"
      ]
    },
    {
      "cell_type": "code",
      "execution_count": null,
      "metadata": {
        "id": "RXoJYaGBlxGO"
      },
      "outputs": [],
      "source": [
        "#Imports\n",
        "from tifffile import imread, TiffWriter\n",
        "from os.path import join\n",
        "from vitessce.data_utils import rgb_img_to_ome_tiff\n",
        "from skimage import io\n",
        "import importlib.util\n",
        "from os.path import join"
      ]
    },
    {
      "cell_type": "code",
      "execution_count": null,
      "metadata": {
        "id": "9y7NwUOflxGV"
      },
      "outputs": [],
      "source": [
        "#Build Vitessce Config\n",
        "from vitessce import (\n",
        "    VitessceConfig,\n",
        "    ViewType as vt,\n",
        "    CoordinationType as ct,\n",
        "    FileType as ft,\n",
        "    MultiImageWrapper,\n",
        "    OmeTiffWrapper,\n",
        "    BASE_URL_PLACEHOLDER,\n",
        ")\n"
      ]
    },
    {
      "cell_type": "code",
      "execution_count": null,
      "metadata": {
        "id": "IaljatxDlxGW",
        "colab": {
          "base_uri": "https://localhost:8080/",
          "height": 107
        },
        "outputId": "d23c1ec5-f5fe-4450-c1ea-8fe9673f9adf"
      },
      "outputs": [
        {
          "output_type": "stream",
          "name": "stdout",
          "text": [
            "  % Total    % Received % Xferd  Average Speed   Time    Time     Time  Current\n",
            "                                 Dload  Upload   Total   Spent    Left  Speed\n",
            "100  399k  100  399k    0     0   633k      0 --:--:-- --:--:-- --:--:--  633k\n",
            "./images/eui_atkinson.pyramid.ome.tif\n"
          ]
        },
        {
          "output_type": "display_data",
          "data": {
            "text/plain": [
              "<IPython.core.display.HTML object>"
            ],
            "text/html": [
              "<a href=\"http://vitessce.io/#?theme=light&url=data:,%7B%22version%22%3A+%221.0.15%22%2C+%22name%22%3A+%22EUI%22%2C+%22description%22%3A+%22%22%2C+%22datasets%22%3A+%5B%7B%22uid%22%3A+%22A%22%2C+%22name%22%3A+%22Tissue+Blocks+in+EUI%22%2C+%22files%22%3A+%5B%7B%22fileType%22%3A+%22raster.json%22%2C+%22options%22%3A+%7B%22schemaVersion%22%3A+%220.0.2%22%2C+%22images%22%3A+%5B%7B%22name%22%3A+%22EUI%22%2C+%22type%22%3A+%22ome-tiff%22%2C+%22url%22%3A+%22http%3A%2F%2Flocalhost%3A8000%2FA%2F0%2F65fce953-4e4c-4753-8a90-ac3c82f06e61%22%2C+%22metadata%22%3A+%7B%22omeTiffOffsetsUrl%22%3A+%22http%3A%2F%2Flocalhost%3A8000%2FA%2F0%2Fbd1826ab-4679-47f3-ae35-8eb2882466f2%22%2C+%22isBitmask%22%3A+false%7D%7D%5D%7D%7D%5D%7D%5D%2C+%22coordinationSpace%22%3A+%7B%22dataset%22%3A+%7B%22A%22%3A+%22A%22%7D%7D%2C+%22layout%22%3A+%5B%7B%22component%22%3A+%22spatial%22%2C+%22coordinationScopes%22%3A+%7B%22dataset%22%3A+%22A%22%7D%2C+%22x%22%3A+0%2C+%22y%22%3A+0%2C+%22w%22%3A+12%2C+%22h%22%3A+12%7D%2C+%7B%22component%22%3A+%22status%22%2C+%22coordinationScopes%22%3A+%7B%22dataset%22%3A+%22A%22%7D%2C+%22x%22%3A+0%2C+%22y%22%3A+0%2C+%22w%22%3A+1%2C+%22h%22%3A+1%7D%2C+%7B%22component%22%3A+%22layerController%22%2C+%22coordinationScopes%22%3A+%7B%22dataset%22%3A+%22A%22%7D%2C+%22x%22%3A+0%2C+%22y%22%3A+0%2C+%22w%22%3A+1%2C+%22h%22%3A+1%2C+%22props%22%3A+%7B%22disableChannelsIfRgbDetected%22%3A+false%7D%7D%5D%2C+%22initStrategy%22%3A+%22auto%22%7D\" target=\"_blank\">View on Vitessce.io</a>"
            ]
          },
          "metadata": {}
        },
        {
          "output_type": "display_data",
          "data": {
            "text/plain": [
              "<IPython.core.display.Javascript object>"
            ],
            "application/javascript": [
              "\n",
              "    async function download(id, filename, size) {\n",
              "      if (!google.colab.kernel.accessAllowed) {\n",
              "        return;\n",
              "      }\n",
              "      const div = document.createElement('div');\n",
              "      const label = document.createElement('label');\n",
              "      label.textContent = `Downloading \"${filename}\": `;\n",
              "      div.appendChild(label);\n",
              "      const progress = document.createElement('progress');\n",
              "      progress.max = size;\n",
              "      div.appendChild(progress);\n",
              "      document.body.appendChild(div);\n",
              "\n",
              "      const buffers = [];\n",
              "      let downloaded = 0;\n",
              "\n",
              "      const channel = await google.colab.kernel.comms.open(id);\n",
              "      // Send a message to notify the kernel that we're ready.\n",
              "      channel.send({})\n",
              "\n",
              "      for await (const message of channel.messages) {\n",
              "        // Send a message to notify the kernel that we're ready.\n",
              "        channel.send({})\n",
              "        if (message.buffers) {\n",
              "          for (const buffer of message.buffers) {\n",
              "            buffers.push(buffer);\n",
              "            downloaded += buffer.byteLength;\n",
              "            progress.value = downloaded;\n",
              "          }\n",
              "        }\n",
              "      }\n",
              "      const blob = new Blob(buffers, {type: 'application/binary'});\n",
              "      const a = document.createElement('a');\n",
              "      a.href = window.URL.createObjectURL(blob);\n",
              "      a.download = filename;\n",
              "      div.appendChild(a);\n",
              "      a.click();\n",
              "      div.remove();\n",
              "    }\n",
              "  "
            ]
          },
          "metadata": {}
        },
        {
          "output_type": "display_data",
          "data": {
            "text/plain": [
              "<IPython.core.display.Javascript object>"
            ],
            "application/javascript": [
              "download(\"download_72691f55-4600-4bb1-9109-d7e232dabf29\", \"vignette_atkinson.zip\", 360239)"
            ]
          },
          "metadata": {}
        }
      ],
      "source": [
        "# ATKINSON\n",
        "\n",
        "from IPython.display import display, HTML\n",
        "import json\n",
        "import os\n",
        "!mkdir -p ./images  # create a directory to store images if it doesn't exist\n",
        "\n",
        "eui_url = 'https://storagetuzi.blob.core.windows.net/blobtuzi/eui/eui_atkinson.pyramid.ome.tif'\n",
        "eui_original_file_name = os.path.basename(eui_url)\n",
        "!curl -L -o ./images/{eui_original_file_name} {eui_url}\n",
        "dir_path = './images'\n",
        "full_path = os.path.join(dir_path, eui_original_file_name)\n",
        "print(full_path)\n",
        "\n",
        "# LOCAL=1, ONLINE=0\n",
        "OUTPUT_LEVEL = 1\n",
        "\n",
        "vc = VitessceConfig(schema_version=\"1.0.15\", name='EUI')\n",
        "if OUTPUT_LEVEL == 1:\n",
        "    #LOCAL\n",
        "    dataset = vc.add_dataset(name='Tissue Blocks in EUI').add_object(\n",
        "        OmeTiffWrapper(img_path=full_path,name='EUI')\n",
        "    )\n",
        "else:\n",
        "    # ONLINE PREVIEW\n",
        "    dataset = vc.add_dataset(name='Tissue Blocks in EUI').add_object(\n",
        "        OmeTiffWrapper(img_url=eui_url,name='EUI')\n",
        "    )\n",
        "spatial = vc.add_view(vt.SPATIAL, dataset=dataset)\n",
        "status = vc.add_view(vt.STATUS, dataset=dataset)\n",
        "# Try changing the prop below to False\n",
        "lc = vc.add_view(vt.LAYER_CONTROLLER, dataset=dataset).set_props(disableChannelsIfRgbDetected=False)\n",
        "# vc.layout(spatial | (lc / status))\n",
        "vc.layout(spatial)\n",
        "from IPython.display import display, HTML\n",
        "web_url = vc.web_app()\n",
        "display(HTML(f'<a href=\"{web_url}\" target=\"_blank\">View on Vitessce.io</a>'))\n",
        "\n",
        "ROOT = \"eui_atkinson\"\n",
        "\n",
        "PATH_TO_EXPORT_DIRECTORY = os.path.join(ROOT, \"data\", f\"vignette_01\")\n",
        "VIGNETTE_DIR = os.path.join(ROOT, \"vignettes\", f\"vignette_01\")\n",
        "#Export Vitessce config to JSON\n",
        "os.makedirs(VIGNETTE_DIR, exist_ok=True)\n",
        "#Export Vitessce config to JSON\n",
        "os.makedirs(PATH_TO_EXPORT_DIRECTORY, exist_ok=True)\n",
        "config_dict = vc.export(to=\"files\", base_url=f\"{BASE_URL_PLACEHOLDER}/vignette_01\", out_dir=PATH_TO_EXPORT_DIRECTORY)\n",
        "# Use `open` to create a new empty file at ./exported_data/vitessce.json\n",
        "with open(os.path.join(VIGNETTE_DIR, \"vitessce.json\"), \"w\") as f:\n",
        "    json.dump(config_dict, f)\n",
        "vignette_md = f\"\"\"\n",
        "    ---\n",
        "    name: Explore Tissue Data in 3D using the Exploration User Interface\n",
        "    figures:\n",
        "        - name: \"Visualization\"\n",
        "          file: vitessce.json\n",
        "    ---\n",
        "\n",
        "    All HuBMAP tissue datasets used in this study can be spatially explored in their three-dimensional size, position, and rotation in the context of the Human Reference Atlas using the Exploration User Interface (EUI): (https://hubmapconsortium.github.io/hra-registrations/23-hbm-flagship-atkinson/)[https://hubmapconsortium.github.io/hra-registrations/23-hbm-flagship-atkinson/]\n",
        "\n",
        "\"\"\"\n",
        "with open(os.path.join(VIGNETTE_DIR, \"description.md\"), \"w\") as f:\n",
        "    f.write(vignette_md)\n",
        "\n",
        "import shutil\n",
        "from google.colab import files\n",
        "\n",
        "# Create a zip file\n",
        "shutil.make_archive('vignette_atkinson', 'zip', ROOT)\n",
        "\n",
        "# Download the zip file\n",
        "files.download('vignette_atkinson.zip')"
      ]
    },
    {
      "cell_type": "code",
      "source": [
        "# BLUE\n",
        "\n",
        "from IPython.display import display, HTML\n",
        "import json\n",
        "import os\n",
        "!mkdir -p ./images  # create a directory to store images if it doesn't exist\n",
        "\n",
        "eui_url = 'https://storagetuzi.blob.core.windows.net/blobtuzi/eui/eui_blue.pyramid.ome.tif'\n",
        "eui_original_file_name = os.path.basename(eui_url)\n",
        "!curl -L -o ./images/{eui_original_file_name} {eui_url}\n",
        "dir_path = './images'\n",
        "full_path = os.path.join(dir_path, eui_original_file_name)\n",
        "print(full_path)\n",
        "\n",
        "# LOCAL=1, ONLINE=0\n",
        "OUTPUT_LEVEL = 1\n",
        "\n",
        "vc = VitessceConfig(schema_version=\"1.0.15\", name='EUI')\n",
        "if OUTPUT_LEVEL == 1:\n",
        "    #LOCAL\n",
        "    dataset = vc.add_dataset(name='Tissue Blocks in EUI').add_object(\n",
        "        OmeTiffWrapper(img_path=full_path,name='EUI')\n",
        "    )\n",
        "else:\n",
        "    # ONLINE PREVIEW\n",
        "    dataset = vc.add_dataset(name='Tissue Blocks in EUI').add_object(\n",
        "        OmeTiffWrapper(img_url=eui_url,name='EUI')\n",
        "    )\n",
        "spatial = vc.add_view(vt.SPATIAL, dataset=dataset)\n",
        "status = vc.add_view(vt.STATUS, dataset=dataset)\n",
        "# Try changing the prop below to False\n",
        "lc = vc.add_view(vt.LAYER_CONTROLLER, dataset=dataset).set_props(disableChannelsIfRgbDetected=False)\n",
        "# vc.layout(spatial | (lc / status))\n",
        "vc.layout(spatial)\n",
        "from IPython.display import display, HTML\n",
        "web_url = vc.web_app()\n",
        "display(HTML(f'<a href=\"{web_url}\" target=\"_blank\">View on Vitessce.io</a>'))\n",
        "\n",
        "ROOT = \"eui_blue\"\n",
        "\n",
        "PATH_TO_EXPORT_DIRECTORY = os.path.join(ROOT, \"data\", f\"vignette_01\")\n",
        "VIGNETTE_DIR = os.path.join(ROOT, \"vignettes\", f\"vignette_01\")\n",
        "#Export Vitessce config to JSON\n",
        "os.makedirs(VIGNETTE_DIR, exist_ok=True)\n",
        "#Export Vitessce config to JSON\n",
        "os.makedirs(PATH_TO_EXPORT_DIRECTORY, exist_ok=True)\n",
        "config_dict = vc.export(to=\"files\", base_url=f\"{BASE_URL_PLACEHOLDER}/vignette_01\", out_dir=PATH_TO_EXPORT_DIRECTORY)\n",
        "# Use `open` to create a new empty file at ./exported_data/vitessce.json\n",
        "with open(os.path.join(VIGNETTE_DIR, \"vitessce.json\"), \"w\") as f:\n",
        "    json.dump(config_dict, f)\n",
        "vignette_md = f\"\"\"\n",
        "---\n",
        "name: Explore Tissue Data in 3D using the Exploration User Interface\n",
        "figures:\n",
        "    - name: \"Visualization\"\n",
        "      file: vitessce.json\n",
        "---\n",
        "\n",
        "All HuBMAP tissue datasets used in this study can be spatially explored in their three-dimensional size, position, and rotation in the context of the Human Reference Atlas using the Exploration User Interface (EUI): [https://hubmapconsortium.github.io/hra-registrations/23-hbm-flagship-bluelake/](https://hubmapconsortium.github.io/hra-registrations/23-hbm-flagship-bluelake/)\n",
        "\n",
        "\"\"\"\n",
        "with open(os.path.join(VIGNETTE_DIR, \"description.md\"), \"w\") as f:\n",
        "    f.write(vignette_md)\n",
        "\n",
        "import shutil\n",
        "from google.colab import files\n",
        "\n",
        "# Create a zip file\n",
        "shutil.make_archive('vignette_blue', 'zip', ROOT)\n",
        "\n",
        "# Download the zip file\n",
        "files.download('vignette_blue.zip')"
      ],
      "metadata": {
        "id": "SMpZ7GSQUbTM",
        "colab": {
          "base_uri": "https://localhost:8080/",
          "height": 107
        },
        "outputId": "51cc3b7c-b905-403e-a5a7-dacff3242ec1"
      },
      "execution_count": null,
      "outputs": [
        {
          "output_type": "stream",
          "name": "stdout",
          "text": [
            "  % Total    % Received % Xferd  Average Speed   Time    Time     Time  Current\n",
            "                                 Dload  Upload   Total   Spent    Left  Speed\n",
            "100  189k  100  189k    0     0   431k      0 --:--:-- --:--:-- --:--:--  431k\n",
            "./images/eui_blue.pyramid.ome.tif\n"
          ]
        },
        {
          "output_type": "display_data",
          "data": {
            "text/plain": [
              "<IPython.core.display.HTML object>"
            ],
            "text/html": [
              "<a href=\"http://vitessce.io/#?theme=light&url=data:,%7B%22version%22%3A+%221.0.15%22%2C+%22name%22%3A+%22EUI%22%2C+%22description%22%3A+%22%22%2C+%22datasets%22%3A+%5B%7B%22uid%22%3A+%22A%22%2C+%22name%22%3A+%22Tissue+Blocks+in+EUI%22%2C+%22files%22%3A+%5B%7B%22fileType%22%3A+%22raster.json%22%2C+%22options%22%3A+%7B%22schemaVersion%22%3A+%220.0.2%22%2C+%22images%22%3A+%5B%7B%22name%22%3A+%22EUI%22%2C+%22type%22%3A+%22ome-tiff%22%2C+%22url%22%3A+%22http%3A%2F%2Flocalhost%3A8001%2FA%2F0%2Fa1b7d4bf-8854-4537-9d10-0d3094b2c6cd%22%2C+%22metadata%22%3A+%7B%22omeTiffOffsetsUrl%22%3A+%22http%3A%2F%2Flocalhost%3A8001%2FA%2F0%2F4d97c9ee-bfa3-415d-b2b6-56f4f8792747%22%2C+%22isBitmask%22%3A+false%7D%7D%5D%7D%7D%5D%7D%5D%2C+%22coordinationSpace%22%3A+%7B%22dataset%22%3A+%7B%22A%22%3A+%22A%22%7D%7D%2C+%22layout%22%3A+%5B%7B%22component%22%3A+%22spatial%22%2C+%22coordinationScopes%22%3A+%7B%22dataset%22%3A+%22A%22%7D%2C+%22x%22%3A+0%2C+%22y%22%3A+0%2C+%22w%22%3A+12%2C+%22h%22%3A+12%7D%2C+%7B%22component%22%3A+%22status%22%2C+%22coordinationScopes%22%3A+%7B%22dataset%22%3A+%22A%22%7D%2C+%22x%22%3A+0%2C+%22y%22%3A+0%2C+%22w%22%3A+1%2C+%22h%22%3A+1%7D%2C+%7B%22component%22%3A+%22layerController%22%2C+%22coordinationScopes%22%3A+%7B%22dataset%22%3A+%22A%22%7D%2C+%22x%22%3A+0%2C+%22y%22%3A+0%2C+%22w%22%3A+1%2C+%22h%22%3A+1%2C+%22props%22%3A+%7B%22disableChannelsIfRgbDetected%22%3A+false%7D%7D%5D%2C+%22initStrategy%22%3A+%22auto%22%7D\" target=\"_blank\">View on Vitessce.io</a>"
            ]
          },
          "metadata": {}
        },
        {
          "output_type": "display_data",
          "data": {
            "text/plain": [
              "<IPython.core.display.Javascript object>"
            ],
            "application/javascript": [
              "\n",
              "    async function download(id, filename, size) {\n",
              "      if (!google.colab.kernel.accessAllowed) {\n",
              "        return;\n",
              "      }\n",
              "      const div = document.createElement('div');\n",
              "      const label = document.createElement('label');\n",
              "      label.textContent = `Downloading \"${filename}\": `;\n",
              "      div.appendChild(label);\n",
              "      const progress = document.createElement('progress');\n",
              "      progress.max = size;\n",
              "      div.appendChild(progress);\n",
              "      document.body.appendChild(div);\n",
              "\n",
              "      const buffers = [];\n",
              "      let downloaded = 0;\n",
              "\n",
              "      const channel = await google.colab.kernel.comms.open(id);\n",
              "      // Send a message to notify the kernel that we're ready.\n",
              "      channel.send({})\n",
              "\n",
              "      for await (const message of channel.messages) {\n",
              "        // Send a message to notify the kernel that we're ready.\n",
              "        channel.send({})\n",
              "        if (message.buffers) {\n",
              "          for (const buffer of message.buffers) {\n",
              "            buffers.push(buffer);\n",
              "            downloaded += buffer.byteLength;\n",
              "            progress.value = downloaded;\n",
              "          }\n",
              "        }\n",
              "      }\n",
              "      const blob = new Blob(buffers, {type: 'application/binary'});\n",
              "      const a = document.createElement('a');\n",
              "      a.href = window.URL.createObjectURL(blob);\n",
              "      a.download = filename;\n",
              "      div.appendChild(a);\n",
              "      a.click();\n",
              "      div.remove();\n",
              "    }\n",
              "  "
            ]
          },
          "metadata": {}
        },
        {
          "output_type": "display_data",
          "data": {
            "text/plain": [
              "<IPython.core.display.Javascript object>"
            ],
            "application/javascript": [
              "download(\"download_85ad16aa-ad81-47df-888c-d44e2b2b67d5\", \"vignette_blue.zip\", 154451)"
            ]
          },
          "metadata": {}
        }
      ]
    },
    {
      "cell_type": "code",
      "source": [
        "# SPRAGGINS\n",
        "\n",
        "from IPython.display import display, HTML\n",
        "import json\n",
        "import os\n",
        "!mkdir -p ./images  # create a directory to store images if it doesn't exist\n",
        "\n",
        "eui_url = 'https://storagetuzi.blob.core.windows.net/blobtuzi/eui/eui_spraggins.pyramid.ome.tif'\n",
        "eui_original_file_name = os.path.basename(eui_url)\n",
        "!curl -L -o ./images/{eui_original_file_name} {eui_url}\n",
        "dir_path = './images'\n",
        "full_path = os.path.join(dir_path, eui_original_file_name)\n",
        "print(full_path)\n",
        "\n",
        "# LOCAL=1, ONLINE=0\n",
        "OUTPUT_LEVEL = 1\n",
        "\n",
        "vc = VitessceConfig(schema_version=\"1.0.15\", name='EUI')\n",
        "if OUTPUT_LEVEL == 1:\n",
        "    #LOCAL\n",
        "    dataset = vc.add_dataset(name='Tissue Blocks in EUI').add_object(\n",
        "        OmeTiffWrapper(img_path=full_path,name='EUI')\n",
        "    )\n",
        "else:\n",
        "    # ONLINE PREVIEW\n",
        "    dataset = vc.add_dataset(name='Tissue Blocks in EUI').add_object(\n",
        "        OmeTiffWrapper(img_url=eui_url,name='EUI')\n",
        "    )\n",
        "spatial = vc.add_view(vt.SPATIAL, dataset=dataset)\n",
        "status = vc.add_view(vt.STATUS, dataset=dataset)\n",
        "# Try changing the prop below to False\n",
        "lc = vc.add_view(vt.LAYER_CONTROLLER, dataset=dataset).set_props(disableChannelsIfRgbDetected=False)\n",
        "# vc.layout(spatial | (lc / status))\n",
        "vc.layout(spatial)\n",
        "from IPython.display import display, HTML\n",
        "web_url = vc.web_app()\n",
        "display(HTML(f'<a href=\"{web_url}\" target=\"_blank\">View on Vitessce.io</a>'))\n",
        "\n",
        "ROOT = \"eui_spraggins\"\n",
        "\n",
        "PATH_TO_EXPORT_DIRECTORY = os.path.join(ROOT, \"data\", f\"vignette_01\")\n",
        "VIGNETTE_DIR = os.path.join(ROOT, \"vignettes\", f\"vignette_01\")\n",
        "#Export Vitessce config to JSON\n",
        "os.makedirs(VIGNETTE_DIR, exist_ok=True)\n",
        "#Export Vitessce config to JSON\n",
        "os.makedirs(PATH_TO_EXPORT_DIRECTORY, exist_ok=True)\n",
        "config_dict = vc.export(to=\"files\", base_url=f\"{BASE_URL_PLACEHOLDER}/vignette_01\", out_dir=PATH_TO_EXPORT_DIRECTORY)\n",
        "# Use `open` to create a new empty file at ./exported_data/vitessce.json\n",
        "with open(os.path.join(VIGNETTE_DIR, \"vitessce.json\"), \"w\") as f:\n",
        "    json.dump(config_dict, f)\n",
        "vignette_md = f\"\"\"\n",
        "    ---\n",
        "    name: Explore Tissue Data in 3D using the Exploration User Interface\n",
        "    figures:\n",
        "        - name: \"Visualization\"\n",
        "          file: vitessce.json\n",
        "    ---\n",
        "\n",
        "    All HuBMAP tissue datasets used in this study can be spatially explored in their three-dimensional size, position, and rotation in the context of the Human Reference Atlas using the Exploration User Interface (EUI): (https://hubmapconsortium.github.io/hra-registrations/23-hbm-flagship-spraggins/)[https://hubmapconsortium.github.io/hra-registrations/23-hbm-flagship-spraggins/]\n",
        "\n",
        "\"\"\"\n",
        "with open(os.path.join(VIGNETTE_DIR, \"description.md\"), \"w\") as f:\n",
        "    f.write(vignette_md)\n",
        "\n",
        "import shutil\n",
        "from google.colab import files\n",
        "\n",
        "# Create a zip file\n",
        "shutil.make_archive('vignette_spraggins', 'zip', ROOT)\n",
        "\n",
        "# Download the zip file\n",
        "files.download('vignette_spraggins.zip')"
      ],
      "metadata": {
        "id": "zufy7CW1UbpD",
        "colab": {
          "base_uri": "https://localhost:8080/",
          "height": 107
        },
        "outputId": "c38e306f-23f3-492b-9817-a90af530e9d2"
      },
      "execution_count": null,
      "outputs": [
        {
          "output_type": "stream",
          "name": "stdout",
          "text": [
            "  % Total    % Received % Xferd  Average Speed   Time    Time     Time  Current\n",
            "                                 Dload  Upload   Total   Spent    Left  Speed\n",
            "100  386k  100  386k    0     0   622k      0 --:--:-- --:--:-- --:--:--  621k\n",
            "./images/eui_spraggins.pyramid.ome.tif\n"
          ]
        },
        {
          "output_type": "display_data",
          "data": {
            "text/plain": [
              "<IPython.core.display.HTML object>"
            ],
            "text/html": [
              "<a href=\"http://vitessce.io/#?theme=light&url=data:,%7B%22version%22%3A+%221.0.15%22%2C+%22name%22%3A+%22EUI%22%2C+%22description%22%3A+%22%22%2C+%22datasets%22%3A+%5B%7B%22uid%22%3A+%22A%22%2C+%22name%22%3A+%22Tissue+Blocks+in+EUI%22%2C+%22files%22%3A+%5B%7B%22fileType%22%3A+%22raster.json%22%2C+%22options%22%3A+%7B%22schemaVersion%22%3A+%220.0.2%22%2C+%22images%22%3A+%5B%7B%22name%22%3A+%22EUI%22%2C+%22type%22%3A+%22ome-tiff%22%2C+%22url%22%3A+%22http%3A%2F%2Flocalhost%3A8002%2FA%2F0%2F8017f413-7e70-4c8a-b962-cc5855cd3263%22%2C+%22metadata%22%3A+%7B%22omeTiffOffsetsUrl%22%3A+%22http%3A%2F%2Flocalhost%3A8002%2FA%2F0%2F528470dc-a1dc-409f-b3fa-0f0f0392b2a8%22%2C+%22isBitmask%22%3A+false%7D%7D%5D%7D%7D%5D%7D%5D%2C+%22coordinationSpace%22%3A+%7B%22dataset%22%3A+%7B%22A%22%3A+%22A%22%7D%7D%2C+%22layout%22%3A+%5B%7B%22component%22%3A+%22spatial%22%2C+%22coordinationScopes%22%3A+%7B%22dataset%22%3A+%22A%22%7D%2C+%22x%22%3A+0%2C+%22y%22%3A+0%2C+%22w%22%3A+12%2C+%22h%22%3A+12%7D%2C+%7B%22component%22%3A+%22status%22%2C+%22coordinationScopes%22%3A+%7B%22dataset%22%3A+%22A%22%7D%2C+%22x%22%3A+0%2C+%22y%22%3A+0%2C+%22w%22%3A+1%2C+%22h%22%3A+1%7D%2C+%7B%22component%22%3A+%22layerController%22%2C+%22coordinationScopes%22%3A+%7B%22dataset%22%3A+%22A%22%7D%2C+%22x%22%3A+0%2C+%22y%22%3A+0%2C+%22w%22%3A+1%2C+%22h%22%3A+1%2C+%22props%22%3A+%7B%22disableChannelsIfRgbDetected%22%3A+false%7D%7D%5D%2C+%22initStrategy%22%3A+%22auto%22%7D\" target=\"_blank\">View on Vitessce.io</a>"
            ]
          },
          "metadata": {}
        },
        {
          "output_type": "display_data",
          "data": {
            "text/plain": [
              "<IPython.core.display.Javascript object>"
            ],
            "application/javascript": [
              "\n",
              "    async function download(id, filename, size) {\n",
              "      if (!google.colab.kernel.accessAllowed) {\n",
              "        return;\n",
              "      }\n",
              "      const div = document.createElement('div');\n",
              "      const label = document.createElement('label');\n",
              "      label.textContent = `Downloading \"${filename}\": `;\n",
              "      div.appendChild(label);\n",
              "      const progress = document.createElement('progress');\n",
              "      progress.max = size;\n",
              "      div.appendChild(progress);\n",
              "      document.body.appendChild(div);\n",
              "\n",
              "      const buffers = [];\n",
              "      let downloaded = 0;\n",
              "\n",
              "      const channel = await google.colab.kernel.comms.open(id);\n",
              "      // Send a message to notify the kernel that we're ready.\n",
              "      channel.send({})\n",
              "\n",
              "      for await (const message of channel.messages) {\n",
              "        // Send a message to notify the kernel that we're ready.\n",
              "        channel.send({})\n",
              "        if (message.buffers) {\n",
              "          for (const buffer of message.buffers) {\n",
              "            buffers.push(buffer);\n",
              "            downloaded += buffer.byteLength;\n",
              "            progress.value = downloaded;\n",
              "          }\n",
              "        }\n",
              "      }\n",
              "      const blob = new Blob(buffers, {type: 'application/binary'});\n",
              "      const a = document.createElement('a');\n",
              "      a.href = window.URL.createObjectURL(blob);\n",
              "      a.download = filename;\n",
              "      div.appendChild(a);\n",
              "      a.click();\n",
              "      div.remove();\n",
              "    }\n",
              "  "
            ]
          },
          "metadata": {}
        },
        {
          "output_type": "display_data",
          "data": {
            "text/plain": [
              "<IPython.core.display.Javascript object>"
            ],
            "application/javascript": [
              "download(\"download_51ffa88c-47ab-4993-abb1-bd47b9316418\", \"vignette_spraggins.zip\", 358459)"
            ]
          },
          "metadata": {}
        }
      ]
    }
  ],
  "metadata": {
    "colab": {
      "provenance": [],
      "include_colab_link": true
    },
    "kernelspec": {
      "display_name": "Python 3",
      "language": "python",
      "name": "python3"
    },
    "language_info": {
      "codemirror_mode": {
        "name": "ipython",
        "version": 3
      },
      "file_extension": ".py",
      "mimetype": "text/x-python",
      "name": "python",
      "nbconvert_exporter": "python",
      "pygments_lexer": "ipython3",
      "version": "3.8.8"
    }
  },
  "nbformat": 4,
  "nbformat_minor": 0
}