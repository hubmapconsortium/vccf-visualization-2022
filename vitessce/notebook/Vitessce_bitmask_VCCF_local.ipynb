{
  "nbformat": 4,
  "nbformat_minor": 0,
  "metadata": {
    "colab": {
      "provenance": [],
      "include_colab_link": true
    },
    "kernelspec": {
      "name": "python3",
      "display_name": "Python 3"
    },
    "language_info": {
      "name": "python"
    }
  },
  "cells": [
    {
      "cell_type": "markdown",
      "metadata": {
        "id": "view-in-github",
        "colab_type": "text"
      },
      "source": [
        "<a href=\"https://colab.research.google.com/github/juyingnan/vccf_visualization/blob/main/vitessce/notebook/Vitessce_bitmask_VCCF_local.ipynb\" target=\"_parent\"><img src=\"https://colab.research.google.com/assets/colab-badge.svg\" alt=\"Open In Colab\"/></a>"
      ]
    },
    {
      "cell_type": "markdown",
      "source": [
        "View this example on [Google Colab](https://colab.research.google.com/drive/1o8WHmuEBcg9hcOy9vFdwryNfz0FjE9LR?usp=sharing)"
      ],
      "metadata": {
        "id": "vptpyOtVI1cE"
      }
    },
    {
      "cell_type": "code",
      "execution_count": null,
      "metadata": {
        "id": "kZ1H5umyVzB2",
        "colab": {
          "base_uri": "https://localhost:8080/"
        },
        "outputId": "c7077bf1-8e80-4d92-e18b-603e5a7b7e5f"
      },
      "outputs": [
        {
          "output_type": "stream",
          "name": "stdout",
          "text": [
            "Collecting vitessce[all]\n",
            "  Downloading vitessce-3.0.5-py2.py3-none-any.whl (45 kB)\n",
            "\u001b[2K     \u001b[90m━━━━━━━━━━━━━━━━━━━━━━━━━━━━━━━━━━━━━━━━\u001b[0m \u001b[32m45.3/45.3 kB\u001b[0m \u001b[31m2.9 MB/s\u001b[0m eta \u001b[36m0:00:00\u001b[0m\n",
            "\u001b[?25hCollecting zarr>=2.5.0 (from vitessce[all])\n",
            "  Downloading zarr-2.15.0-py3-none-any.whl (206 kB)\n",
            "\u001b[2K     \u001b[90m━━━━━━━━━━━━━━━━━━━━━━━━━━━━━━━━━━━━━━━\u001b[0m \u001b[32m206.1/206.1 kB\u001b[0m \u001b[31m7.7 MB/s\u001b[0m eta \u001b[36m0:00:00\u001b[0m\n",
            "\u001b[?25hCollecting numcodecs>=0.5.7 (from vitessce[all])\n",
            "  Downloading numcodecs-0.11.0-cp310-cp310-manylinux_2_17_x86_64.manylinux2014_x86_64.whl (6.7 MB)\n",
            "\u001b[2K     \u001b[90m━━━━━━━━━━━━━━━━━━━━━━━━━━━━━━━━━━━━━━━━\u001b[0m \u001b[32m6.7/6.7 MB\u001b[0m \u001b[31m70.5 MB/s\u001b[0m eta \u001b[36m0:00:00\u001b[0m\n",
            "\u001b[?25hRequirement already satisfied: scipy>=1.2.1 in /usr/local/lib/python3.10/dist-packages (from vitessce[all]) (1.10.1)\n",
            "Collecting negspy>=0.2.24 (from vitessce[all])\n",
            "  Downloading negspy-0.2.24.tar.gz (1.7 MB)\n",
            "\u001b[2K     \u001b[90m━━━━━━━━━━━━━━━━━━━━━━━━━━━━━━━━━━━━━━━━\u001b[0m \u001b[32m1.7/1.7 MB\u001b[0m \u001b[31m58.9 MB/s\u001b[0m eta \u001b[36m0:00:00\u001b[0m\n",
            "\u001b[?25h  Preparing metadata (setup.py) ... \u001b[?25l\u001b[?25hdone\n",
            "Requirement already satisfied: pandas>=1.1.2 in /usr/local/lib/python3.10/dist-packages (from vitessce[all]) (1.5.3)\n",
            "Collecting black>=21.11b1 (from vitessce[all])\n",
            "  Downloading black-23.7.0-cp310-cp310-manylinux_2_17_x86_64.manylinux2014_x86_64.whl (1.7 MB)\n",
            "\u001b[2K     \u001b[90m━━━━━━━━━━━━━━━━━━━━━━━━━━━━━━━━━━━━━━━━\u001b[0m \u001b[32m1.7/1.7 MB\u001b[0m \u001b[31m77.5 MB/s\u001b[0m eta \u001b[36m0:00:00\u001b[0m\n",
            "\u001b[?25hRequirement already satisfied: numpy>=1.21.2 in /usr/local/lib/python3.10/dist-packages (from vitessce[all]) (1.22.4)\n",
            "Collecting anndata<0.9,>=0.7.8 (from vitessce[all])\n",
            "  Downloading anndata-0.8.0-py3-none-any.whl (96 kB)\n",
            "\u001b[2K     \u001b[90m━━━━━━━━━━━━━━━━━━━━━━━━━━━━━━━━━━━━━━━━\u001b[0m \u001b[32m96.1/96.1 kB\u001b[0m \u001b[31m11.7 MB/s\u001b[0m eta \u001b[36m0:00:00\u001b[0m\n",
            "\u001b[?25hCollecting ome-zarr==0.2.1 (from vitessce[all])\n",
            "  Downloading ome_zarr-0.2.1-py3-none-any.whl (27 kB)\n",
            "Requirement already satisfied: tifffile>=2020.10.1 in /usr/local/lib/python3.10/dist-packages (from vitessce[all]) (2023.7.10)\n",
            "Collecting jupyter-server-proxy>=1.5.2 (from vitessce[all])\n",
            "  Downloading jupyter_server_proxy-4.0.0-py3-none-any.whl (32 kB)\n",
            "Collecting anywidget==0.4.2 (from vitessce[all])\n",
            "  Downloading anywidget-0.4.2-py3-none-any.whl (37 kB)\n",
            "Collecting uvicorn>=0.17.0 (from vitessce[all])\n",
            "  Downloading uvicorn-0.23.0-py3-none-any.whl (59 kB)\n",
            "\u001b[2K     \u001b[90m━━━━━━━━━━━━━━━━━━━━━━━━━━━━━━━━━━━━━━━━\u001b[0m \u001b[32m59.6/59.6 kB\u001b[0m \u001b[31m6.6 MB/s\u001b[0m eta \u001b[36m0:00:00\u001b[0m\n",
            "\u001b[?25hCollecting ujson>=4.0.1 (from vitessce[all])\n",
            "  Downloading ujson-5.8.0-cp310-cp310-manylinux_2_17_x86_64.manylinux2014_x86_64.whl (53 kB)\n",
            "\u001b[2K     \u001b[90m━━━━━━━━━━━━━━━━━━━━━━━━━━━━━━━━━━━━━━━━\u001b[0m \u001b[32m53.9/53.9 kB\u001b[0m \u001b[31m5.0 MB/s\u001b[0m eta \u001b[36m0:00:00\u001b[0m\n",
            "\u001b[?25hCollecting starlette==0.14.0 (from vitessce[all])\n",
            "  Downloading starlette-0.14.0-py3-none-any.whl (60 kB)\n",
            "\u001b[2K     \u001b[90m━━━━━━━━━━━━━━━━━━━━━━━━━━━━━━━━━━━━━━━━\u001b[0m \u001b[32m60.7/60.7 kB\u001b[0m \u001b[31m6.2 MB/s\u001b[0m eta \u001b[36m0:00:00\u001b[0m\n",
            "\u001b[?25hCollecting generate-tiff-offsets>=0.1.7 (from vitessce[all])\n",
            "  Downloading generate_tiff_offsets-0.1.7-py2.py3-none-any.whl (4.1 kB)\n",
            "Collecting aiofiles>=0.6.0 (from vitessce[all])\n",
            "  Downloading aiofiles-23.1.0-py3-none-any.whl (14 kB)\n",
            "Requirement already satisfied: ipywidgets>=7.6.0 in /usr/local/lib/python3.10/dist-packages (from anywidget==0.4.2->vitessce[all]) (7.7.1)\n",
            "Collecting psygnal>=0.8.1 (from anywidget==0.4.2->vitessce[all])\n",
            "  Downloading psygnal-0.9.1-py3-none-any.whl (63 kB)\n",
            "\u001b[2K     \u001b[90m━━━━━━━━━━━━━━━━━━━━━━━━━━━━━━━━━━━━━━━━\u001b[0m \u001b[32m63.5/63.5 kB\u001b[0m \u001b[31m3.3 MB/s\u001b[0m eta \u001b[36m0:00:00\u001b[0m\n",
            "\u001b[?25hRequirement already satisfied: typing-extensions>=4.2.0 in /usr/local/lib/python3.10/dist-packages (from anywidget==0.4.2->vitessce[all]) (4.7.1)\n",
            "Requirement already satisfied: dask in /usr/local/lib/python3.10/dist-packages (from ome-zarr==0.2.1->vitessce[all]) (2022.12.1)\n",
            "Requirement already satisfied: fsspec[s3]!=2021.07.0 in /usr/local/lib/python3.10/dist-packages (from ome-zarr==0.2.1->vitessce[all]) (2023.6.0)\n",
            "Requirement already satisfied: aiohttp in /usr/local/lib/python3.10/dist-packages (from ome-zarr==0.2.1->vitessce[all]) (3.8.4)\n",
            "Requirement already satisfied: requests in /usr/local/lib/python3.10/dist-packages (from ome-zarr==0.2.1->vitessce[all]) (2.27.1)\n",
            "Requirement already satisfied: scikit-image in /usr/local/lib/python3.10/dist-packages (from ome-zarr==0.2.1->vitessce[all]) (0.19.3)\n",
            "Requirement already satisfied: toolz in /usr/local/lib/python3.10/dist-packages (from ome-zarr==0.2.1->vitessce[all]) (0.12.0)\n",
            "Requirement already satisfied: h5py>=3 in /usr/local/lib/python3.10/dist-packages (from anndata<0.9,>=0.7.8->vitessce[all]) (3.8.0)\n",
            "Requirement already satisfied: natsort in /usr/local/lib/python3.10/dist-packages (from anndata<0.9,>=0.7.8->vitessce[all]) (8.3.1)\n",
            "Requirement already satisfied: packaging>=20 in /usr/local/lib/python3.10/dist-packages (from anndata<0.9,>=0.7.8->vitessce[all]) (23.1)\n",
            "Requirement already satisfied: click>=8.0.0 in /usr/local/lib/python3.10/dist-packages (from black>=21.11b1->vitessce[all]) (8.1.4)\n",
            "Collecting mypy-extensions>=0.4.3 (from black>=21.11b1->vitessce[all])\n",
            "  Downloading mypy_extensions-1.0.0-py3-none-any.whl (4.7 kB)\n",
            "Collecting pathspec>=0.9.0 (from black>=21.11b1->vitessce[all])\n",
            "  Downloading pathspec-0.11.1-py3-none-any.whl (29 kB)\n",
            "Requirement already satisfied: platformdirs>=2 in /usr/local/lib/python3.10/dist-packages (from black>=21.11b1->vitessce[all]) (3.8.1)\n",
            "Requirement already satisfied: tomli>=1.1.0 in /usr/local/lib/python3.10/dist-packages (from black>=21.11b1->vitessce[all]) (2.0.1)\n",
            "Collecting tifffile>=2020.10.1 (from vitessce[all])\n",
            "  Downloading tifffile-2020.10.1-py3-none-any.whl (152 kB)\n",
            "\u001b[2K     \u001b[90m━━━━━━━━━━━━━━━━━━━━━━━━━━━━━━━━━━━━━━\u001b[0m \u001b[32m152.6/152.6 kB\u001b[0m \u001b[31m13.6 MB/s\u001b[0m eta \u001b[36m0:00:00\u001b[0m\n",
            "\u001b[?25hRequirement already satisfied: jupyter-server>=1.0 in /usr/local/lib/python3.10/dist-packages (from jupyter-server-proxy>=1.5.2->vitessce[all]) (1.24.0)\n",
            "Collecting simpervisor>=0.4 (from jupyter-server-proxy>=1.5.2->vitessce[all])\n",
            "  Downloading simpervisor-1.0.0-py3-none-any.whl (8.3 kB)\n",
            "Requirement already satisfied: entrypoints in /usr/local/lib/python3.10/dist-packages (from numcodecs>=0.5.7->vitessce[all]) (0.4)\n",
            "Requirement already satisfied: python-dateutil>=2.8.1 in /usr/local/lib/python3.10/dist-packages (from pandas>=1.1.2->vitessce[all]) (2.8.2)\n",
            "Requirement already satisfied: pytz>=2020.1 in /usr/local/lib/python3.10/dist-packages (from pandas>=1.1.2->vitessce[all]) (2022.7.1)\n",
            "Collecting h11>=0.8 (from uvicorn>=0.17.0->vitessce[all])\n",
            "  Downloading h11-0.14.0-py3-none-any.whl (58 kB)\n",
            "\u001b[2K     \u001b[90m━━━━━━━━━━━━━━━━━━━━━━━━━━━━━━━━━━━━━━━━\u001b[0m \u001b[32m58.3/58.3 kB\u001b[0m \u001b[31m5.1 MB/s\u001b[0m eta \u001b[36m0:00:00\u001b[0m\n",
            "\u001b[?25hCollecting asciitree (from zarr>=2.5.0->vitessce[all])\n",
            "  Downloading asciitree-0.3.3.tar.gz (4.0 kB)\n",
            "  Preparing metadata (setup.py) ... \u001b[?25l\u001b[?25hdone\n",
            "Collecting fasteners (from zarr>=2.5.0->vitessce[all])\n",
            "  Downloading fasteners-0.18-py3-none-any.whl (18 kB)\n",
            "Collecting s3fs (from fsspec[s3]!=2021.07.0->ome-zarr==0.2.1->vitessce[all])\n",
            "  Downloading s3fs-2023.6.0-py3-none-any.whl (28 kB)\n",
            "Requirement already satisfied: ipykernel>=4.5.1 in /usr/local/lib/python3.10/dist-packages (from ipywidgets>=7.6.0->anywidget==0.4.2->vitessce[all]) (5.5.6)\n",
            "Requirement already satisfied: ipython-genutils~=0.2.0 in /usr/local/lib/python3.10/dist-packages (from ipywidgets>=7.6.0->anywidget==0.4.2->vitessce[all]) (0.2.0)\n",
            "Requirement already satisfied: traitlets>=4.3.1 in /usr/local/lib/python3.10/dist-packages (from ipywidgets>=7.6.0->anywidget==0.4.2->vitessce[all]) (5.7.1)\n",
            "Requirement already satisfied: widgetsnbextension~=3.6.0 in /usr/local/lib/python3.10/dist-packages (from ipywidgets>=7.6.0->anywidget==0.4.2->vitessce[all]) (3.6.4)\n",
            "Requirement already satisfied: ipython>=4.0.0 in /usr/local/lib/python3.10/dist-packages (from ipywidgets>=7.6.0->anywidget==0.4.2->vitessce[all]) (7.34.0)\n",
            "Requirement already satisfied: jupyterlab-widgets>=1.0.0 in /usr/local/lib/python3.10/dist-packages (from ipywidgets>=7.6.0->anywidget==0.4.2->vitessce[all]) (3.0.8)\n",
            "Requirement already satisfied: anyio<4,>=3.1.0 in /usr/local/lib/python3.10/dist-packages (from jupyter-server>=1.0->jupyter-server-proxy>=1.5.2->vitessce[all]) (3.7.1)\n",
            "Requirement already satisfied: argon2-cffi in /usr/local/lib/python3.10/dist-packages (from jupyter-server>=1.0->jupyter-server-proxy>=1.5.2->vitessce[all]) (21.3.0)\n",
            "Requirement already satisfied: jinja2 in /usr/local/lib/python3.10/dist-packages (from jupyter-server>=1.0->jupyter-server-proxy>=1.5.2->vitessce[all]) (3.1.2)\n",
            "Requirement already satisfied: jupyter-client>=6.1.12 in /usr/local/lib/python3.10/dist-packages (from jupyter-server>=1.0->jupyter-server-proxy>=1.5.2->vitessce[all]) (6.1.12)\n",
            "Requirement already satisfied: jupyter-core!=5.0.*,>=4.12 in /usr/local/lib/python3.10/dist-packages (from jupyter-server>=1.0->jupyter-server-proxy>=1.5.2->vitessce[all]) (5.3.1)\n",
            "Requirement already satisfied: nbconvert>=6.4.4 in /usr/local/lib/python3.10/dist-packages (from jupyter-server>=1.0->jupyter-server-proxy>=1.5.2->vitessce[all]) (6.5.4)\n",
            "Requirement already satisfied: nbformat>=5.2.0 in /usr/local/lib/python3.10/dist-packages (from jupyter-server>=1.0->jupyter-server-proxy>=1.5.2->vitessce[all]) (5.9.1)\n",
            "Requirement already satisfied: prometheus-client in /usr/local/lib/python3.10/dist-packages (from jupyter-server>=1.0->jupyter-server-proxy>=1.5.2->vitessce[all]) (0.17.1)\n",
            "Requirement already satisfied: pyzmq>=17 in /usr/local/lib/python3.10/dist-packages (from jupyter-server>=1.0->jupyter-server-proxy>=1.5.2->vitessce[all]) (23.2.1)\n",
            "Requirement already satisfied: Send2Trash in /usr/local/lib/python3.10/dist-packages (from jupyter-server>=1.0->jupyter-server-proxy>=1.5.2->vitessce[all]) (1.8.2)\n",
            "Requirement already satisfied: terminado>=0.8.3 in /usr/local/lib/python3.10/dist-packages (from jupyter-server>=1.0->jupyter-server-proxy>=1.5.2->vitessce[all]) (0.17.1)\n",
            "Requirement already satisfied: tornado>=6.1.0 in /usr/local/lib/python3.10/dist-packages (from jupyter-server>=1.0->jupyter-server-proxy>=1.5.2->vitessce[all]) (6.3.1)\n",
            "Requirement already satisfied: websocket-client in /usr/local/lib/python3.10/dist-packages (from jupyter-server>=1.0->jupyter-server-proxy>=1.5.2->vitessce[all]) (1.6.1)\n",
            "Requirement already satisfied: six>=1.5 in /usr/local/lib/python3.10/dist-packages (from python-dateutil>=2.8.1->pandas>=1.1.2->vitessce[all]) (1.16.0)\n",
            "Requirement already satisfied: attrs>=17.3.0 in /usr/local/lib/python3.10/dist-packages (from aiohttp->ome-zarr==0.2.1->vitessce[all]) (23.1.0)\n",
            "Requirement already satisfied: charset-normalizer<4.0,>=2.0 in /usr/local/lib/python3.10/dist-packages (from aiohttp->ome-zarr==0.2.1->vitessce[all]) (2.0.12)\n",
            "Requirement already satisfied: multidict<7.0,>=4.5 in /usr/local/lib/python3.10/dist-packages (from aiohttp->ome-zarr==0.2.1->vitessce[all]) (6.0.4)\n",
            "Requirement already satisfied: async-timeout<5.0,>=4.0.0a3 in /usr/local/lib/python3.10/dist-packages (from aiohttp->ome-zarr==0.2.1->vitessce[all]) (4.0.2)\n",
            "Requirement already satisfied: yarl<2.0,>=1.0 in /usr/local/lib/python3.10/dist-packages (from aiohttp->ome-zarr==0.2.1->vitessce[all]) (1.9.2)\n",
            "Requirement already satisfied: frozenlist>=1.1.1 in /usr/local/lib/python3.10/dist-packages (from aiohttp->ome-zarr==0.2.1->vitessce[all]) (1.4.0)\n",
            "Requirement already satisfied: aiosignal>=1.1.2 in /usr/local/lib/python3.10/dist-packages (from aiohttp->ome-zarr==0.2.1->vitessce[all]) (1.3.1)\n",
            "Requirement already satisfied: cloudpickle>=1.1.1 in /usr/local/lib/python3.10/dist-packages (from dask->ome-zarr==0.2.1->vitessce[all]) (2.2.1)\n",
            "Requirement already satisfied: partd>=0.3.10 in /usr/local/lib/python3.10/dist-packages (from dask->ome-zarr==0.2.1->vitessce[all]) (1.4.0)\n",
            "Requirement already satisfied: pyyaml>=5.3.1 in /usr/local/lib/python3.10/dist-packages (from dask->ome-zarr==0.2.1->vitessce[all]) (6.0)\n",
            "Requirement already satisfied: urllib3<1.27,>=1.21.1 in /usr/local/lib/python3.10/dist-packages (from requests->ome-zarr==0.2.1->vitessce[all]) (1.26.16)\n",
            "Requirement already satisfied: certifi>=2017.4.17 in /usr/local/lib/python3.10/dist-packages (from requests->ome-zarr==0.2.1->vitessce[all]) (2023.5.7)\n",
            "Requirement already satisfied: idna<4,>=2.5 in /usr/local/lib/python3.10/dist-packages (from requests->ome-zarr==0.2.1->vitessce[all]) (3.4)\n",
            "Requirement already satisfied: networkx>=2.2 in /usr/local/lib/python3.10/dist-packages (from scikit-image->ome-zarr==0.2.1->vitessce[all]) (3.1)\n",
            "Requirement already satisfied: pillow!=7.1.0,!=7.1.1,!=8.3.0,>=6.1.0 in /usr/local/lib/python3.10/dist-packages (from scikit-image->ome-zarr==0.2.1->vitessce[all]) (8.4.0)\n",
            "Requirement already satisfied: imageio>=2.4.1 in /usr/local/lib/python3.10/dist-packages (from scikit-image->ome-zarr==0.2.1->vitessce[all]) (2.25.1)\n",
            "Requirement already satisfied: PyWavelets>=1.1.1 in /usr/local/lib/python3.10/dist-packages (from scikit-image->ome-zarr==0.2.1->vitessce[all]) (1.4.1)\n",
            "Requirement already satisfied: sniffio>=1.1 in /usr/local/lib/python3.10/dist-packages (from anyio<4,>=3.1.0->jupyter-server>=1.0->jupyter-server-proxy>=1.5.2->vitessce[all]) (1.3.0)\n",
            "Requirement already satisfied: exceptiongroup in /usr/local/lib/python3.10/dist-packages (from anyio<4,>=3.1.0->jupyter-server>=1.0->jupyter-server-proxy>=1.5.2->vitessce[all]) (1.1.2)\n",
            "Requirement already satisfied: setuptools>=18.5 in /usr/local/lib/python3.10/dist-packages (from ipython>=4.0.0->ipywidgets>=7.6.0->anywidget==0.4.2->vitessce[all]) (67.7.2)\n",
            "Collecting jedi>=0.16 (from ipython>=4.0.0->ipywidgets>=7.6.0->anywidget==0.4.2->vitessce[all])\n",
            "  Downloading jedi-0.18.2-py2.py3-none-any.whl (1.6 MB)\n",
            "\u001b[2K     \u001b[90m━━━━━━━━━━━━━━━━━━━━━━━━━━━━━━━━━━━━━━━━\u001b[0m \u001b[32m1.6/1.6 MB\u001b[0m \u001b[31m54.2 MB/s\u001b[0m eta \u001b[36m0:00:00\u001b[0m\n",
            "\u001b[?25hRequirement already satisfied: decorator in /usr/local/lib/python3.10/dist-packages (from ipython>=4.0.0->ipywidgets>=7.6.0->anywidget==0.4.2->vitessce[all]) (4.4.2)\n",
            "Requirement already satisfied: pickleshare in /usr/local/lib/python3.10/dist-packages (from ipython>=4.0.0->ipywidgets>=7.6.0->anywidget==0.4.2->vitessce[all]) (0.7.5)\n",
            "Requirement already satisfied: prompt-toolkit!=3.0.0,!=3.0.1,<3.1.0,>=2.0.0 in /usr/local/lib/python3.10/dist-packages (from ipython>=4.0.0->ipywidgets>=7.6.0->anywidget==0.4.2->vitessce[all]) (3.0.39)\n",
            "Requirement already satisfied: pygments in /usr/local/lib/python3.10/dist-packages (from ipython>=4.0.0->ipywidgets>=7.6.0->anywidget==0.4.2->vitessce[all]) (2.14.0)\n",
            "Requirement already satisfied: backcall in /usr/local/lib/python3.10/dist-packages (from ipython>=4.0.0->ipywidgets>=7.6.0->anywidget==0.4.2->vitessce[all]) (0.2.0)\n",
            "Requirement already satisfied: matplotlib-inline in /usr/local/lib/python3.10/dist-packages (from ipython>=4.0.0->ipywidgets>=7.6.0->anywidget==0.4.2->vitessce[all]) (0.1.6)\n",
            "Requirement already satisfied: pexpect>4.3 in /usr/local/lib/python3.10/dist-packages (from ipython>=4.0.0->ipywidgets>=7.6.0->anywidget==0.4.2->vitessce[all]) (4.8.0)\n",
            "Requirement already satisfied: lxml in /usr/local/lib/python3.10/dist-packages (from nbconvert>=6.4.4->jupyter-server>=1.0->jupyter-server-proxy>=1.5.2->vitessce[all]) (4.9.3)\n",
            "Requirement already satisfied: beautifulsoup4 in /usr/local/lib/python3.10/dist-packages (from nbconvert>=6.4.4->jupyter-server>=1.0->jupyter-server-proxy>=1.5.2->vitessce[all]) (4.11.2)\n",
            "Requirement already satisfied: bleach in /usr/local/lib/python3.10/dist-packages (from nbconvert>=6.4.4->jupyter-server>=1.0->jupyter-server-proxy>=1.5.2->vitessce[all]) (6.0.0)\n",
            "Requirement already satisfied: defusedxml in /usr/local/lib/python3.10/dist-packages (from nbconvert>=6.4.4->jupyter-server>=1.0->jupyter-server-proxy>=1.5.2->vitessce[all]) (0.7.1)\n",
            "Requirement already satisfied: jupyterlab-pygments in /usr/local/lib/python3.10/dist-packages (from nbconvert>=6.4.4->jupyter-server>=1.0->jupyter-server-proxy>=1.5.2->vitessce[all]) (0.2.2)\n",
            "Requirement already satisfied: MarkupSafe>=2.0 in /usr/local/lib/python3.10/dist-packages (from nbconvert>=6.4.4->jupyter-server>=1.0->jupyter-server-proxy>=1.5.2->vitessce[all]) (2.1.3)\n",
            "Requirement already satisfied: mistune<2,>=0.8.1 in /usr/local/lib/python3.10/dist-packages (from nbconvert>=6.4.4->jupyter-server>=1.0->jupyter-server-proxy>=1.5.2->vitessce[all]) (0.8.4)\n",
            "Requirement already satisfied: nbclient>=0.5.0 in /usr/local/lib/python3.10/dist-packages (from nbconvert>=6.4.4->jupyter-server>=1.0->jupyter-server-proxy>=1.5.2->vitessce[all]) (0.8.0)\n",
            "Requirement already satisfied: pandocfilters>=1.4.1 in /usr/local/lib/python3.10/dist-packages (from nbconvert>=6.4.4->jupyter-server>=1.0->jupyter-server-proxy>=1.5.2->vitessce[all]) (1.5.0)\n",
            "Requirement already satisfied: tinycss2 in /usr/local/lib/python3.10/dist-packages (from nbconvert>=6.4.4->jupyter-server>=1.0->jupyter-server-proxy>=1.5.2->vitessce[all]) (1.2.1)\n",
            "Requirement already satisfied: fastjsonschema in /usr/local/lib/python3.10/dist-packages (from nbformat>=5.2.0->jupyter-server>=1.0->jupyter-server-proxy>=1.5.2->vitessce[all]) (2.17.1)\n",
            "Requirement already satisfied: jsonschema>=2.6 in /usr/local/lib/python3.10/dist-packages (from nbformat>=5.2.0->jupyter-server>=1.0->jupyter-server-proxy>=1.5.2->vitessce[all]) (4.3.3)\n",
            "Requirement already satisfied: locket in /usr/local/lib/python3.10/dist-packages (from partd>=0.3.10->dask->ome-zarr==0.2.1->vitessce[all]) (1.0.0)\n",
            "Requirement already satisfied: ptyprocess in /usr/local/lib/python3.10/dist-packages (from terminado>=0.8.3->jupyter-server>=1.0->jupyter-server-proxy>=1.5.2->vitessce[all]) (0.7.0)\n",
            "Requirement already satisfied: notebook>=4.4.1 in /usr/local/lib/python3.10/dist-packages (from widgetsnbextension~=3.6.0->ipywidgets>=7.6.0->anywidget==0.4.2->vitessce[all]) (6.4.8)\n",
            "Requirement already satisfied: argon2-cffi-bindings in /usr/local/lib/python3.10/dist-packages (from argon2-cffi->jupyter-server>=1.0->jupyter-server-proxy>=1.5.2->vitessce[all]) (21.2.0)\n",
            "Collecting aiobotocore~=2.5.0 (from s3fs->fsspec[s3]!=2021.07.0->ome-zarr==0.2.1->vitessce[all])\n",
            "  Downloading aiobotocore-2.5.2-py3-none-any.whl (72 kB)\n",
            "\u001b[2K     \u001b[90m━━━━━━━━━━━━━━━━━━━━━━━━━━━━━━━━━━━━━━━━\u001b[0m \u001b[32m72.9/72.9 kB\u001b[0m \u001b[31m7.8 MB/s\u001b[0m eta \u001b[36m0:00:00\u001b[0m\n",
            "\u001b[?25hCollecting botocore<1.29.162,>=1.29.161 (from aiobotocore~=2.5.0->s3fs->fsspec[s3]!=2021.07.0->ome-zarr==0.2.1->vitessce[all])\n",
            "  Downloading botocore-1.29.161-py3-none-any.whl (10.9 MB)\n",
            "\u001b[2K     \u001b[90m━━━━━━━━━━━━━━━━━━━━━━━━━━━━━━━━━━━━━━━━\u001b[0m \u001b[32m10.9/10.9 MB\u001b[0m \u001b[31m90.4 MB/s\u001b[0m eta \u001b[36m0:00:00\u001b[0m\n",
            "\u001b[?25hRequirement already satisfied: wrapt<2.0.0,>=1.10.10 in /usr/local/lib/python3.10/dist-packages (from aiobotocore~=2.5.0->s3fs->fsspec[s3]!=2021.07.0->ome-zarr==0.2.1->vitessce[all]) (1.14.1)\n",
            "Collecting aioitertools<1.0.0,>=0.5.1 (from aiobotocore~=2.5.0->s3fs->fsspec[s3]!=2021.07.0->ome-zarr==0.2.1->vitessce[all])\n",
            "  Downloading aioitertools-0.11.0-py3-none-any.whl (23 kB)\n",
            "Requirement already satisfied: parso<0.9.0,>=0.8.0 in /usr/local/lib/python3.10/dist-packages (from jedi>=0.16->ipython>=4.0.0->ipywidgets>=7.6.0->anywidget==0.4.2->vitessce[all]) (0.8.3)\n",
            "Requirement already satisfied: pyrsistent!=0.17.0,!=0.17.1,!=0.17.2,>=0.14.0 in /usr/local/lib/python3.10/dist-packages (from jsonschema>=2.6->nbformat>=5.2.0->jupyter-server>=1.0->jupyter-server-proxy>=1.5.2->vitessce[all]) (0.19.3)\n",
            "Requirement already satisfied: nest-asyncio>=1.5 in /usr/local/lib/python3.10/dist-packages (from notebook>=4.4.1->widgetsnbextension~=3.6.0->ipywidgets>=7.6.0->anywidget==0.4.2->vitessce[all]) (1.5.6)\n",
            "Requirement already satisfied: wcwidth in /usr/local/lib/python3.10/dist-packages (from prompt-toolkit!=3.0.0,!=3.0.1,<3.1.0,>=2.0.0->ipython>=4.0.0->ipywidgets>=7.6.0->anywidget==0.4.2->vitessce[all]) (0.2.6)\n",
            "Requirement already satisfied: cffi>=1.0.1 in /usr/local/lib/python3.10/dist-packages (from argon2-cffi-bindings->argon2-cffi->jupyter-server>=1.0->jupyter-server-proxy>=1.5.2->vitessce[all]) (1.15.1)\n",
            "Requirement already satisfied: soupsieve>1.2 in /usr/local/lib/python3.10/dist-packages (from beautifulsoup4->nbconvert>=6.4.4->jupyter-server>=1.0->jupyter-server-proxy>=1.5.2->vitessce[all]) (2.4.1)\n",
            "Requirement already satisfied: webencodings in /usr/local/lib/python3.10/dist-packages (from bleach->nbconvert>=6.4.4->jupyter-server>=1.0->jupyter-server-proxy>=1.5.2->vitessce[all]) (0.5.1)\n",
            "Collecting jmespath<2.0.0,>=0.7.1 (from botocore<1.29.162,>=1.29.161->aiobotocore~=2.5.0->s3fs->fsspec[s3]!=2021.07.0->ome-zarr==0.2.1->vitessce[all])\n",
            "  Downloading jmespath-1.0.1-py3-none-any.whl (20 kB)\n",
            "Requirement already satisfied: pycparser in /usr/local/lib/python3.10/dist-packages (from cffi>=1.0.1->argon2-cffi-bindings->argon2-cffi->jupyter-server>=1.0->jupyter-server-proxy>=1.5.2->vitessce[all]) (2.21)\n",
            "Building wheels for collected packages: negspy, asciitree\n",
            "  Building wheel for negspy (setup.py) ... \u001b[?25l\u001b[?25hdone\n",
            "  Created wheel for negspy: filename=negspy-0.2.24-py3-none-any.whl size=1725345 sha256=74d60f48eb3946bee0376f2663f3b415a03860623567be4592834fb2e7be585d\n",
            "  Stored in directory: /root/.cache/pip/wheels/4c/01/07/77d7b941e82a624da932e7745bb9a1265418559a23b7bec627\n",
            "  Building wheel for asciitree (setup.py) ... \u001b[?25l\u001b[?25hdone\n",
            "  Created wheel for asciitree: filename=asciitree-0.3.3-py3-none-any.whl size=5034 sha256=585c6a958b073e20ff02e36eb04e0be864d9430db930e29c06ddef4e7eab04d3\n",
            "  Stored in directory: /root/.cache/pip/wheels/7f/4e/be/1171b40f43b918087657ec57cf3b81fa1a2e027d8755baa184\n",
            "Successfully built negspy asciitree\n",
            "Installing collected packages: negspy, asciitree, ujson, tifffile, starlette, simpervisor, pathspec, numcodecs, mypy-extensions, jmespath, jedi, h11, fasteners, aioitertools, aiofiles, zarr, uvicorn, psygnal, generate-tiff-offsets, botocore, black, anndata, aiobotocore, s3fs, ome-zarr, jupyter-server-proxy, vitessce, anywidget\n",
            "  Attempting uninstall: tifffile\n",
            "    Found existing installation: tifffile 2023.7.10\n",
            "    Uninstalling tifffile-2023.7.10:\n",
            "      Successfully uninstalled tifffile-2023.7.10\n",
            "Successfully installed aiobotocore-2.5.2 aiofiles-23.1.0 aioitertools-0.11.0 anndata-0.8.0 anywidget-0.4.2 asciitree-0.3.3 black-23.7.0 botocore-1.29.161 fasteners-0.18 generate-tiff-offsets-0.1.7 h11-0.14.0 jedi-0.18.2 jmespath-1.0.1 jupyter-server-proxy-4.0.0 mypy-extensions-1.0.0 negspy-0.2.24 numcodecs-0.11.0 ome-zarr-0.2.1 pathspec-0.11.1 psygnal-0.9.1 s3fs-2023.6.0 simpervisor-1.0.0 starlette-0.14.0 tifffile-2020.10.1 ujson-5.8.0 uvicorn-0.23.0 vitessce-3.0.5 zarr-2.15.0\n"
          ]
        }
      ],
      "source": [
        "import importlib.util\n",
        "if importlib.util.find_spec('vitessce') is None:\n",
        "  !pip install vitessce[all]"
      ]
    },
    {
      "cell_type": "code",
      "source": [
        "from vitessce import (\n",
        "    VitessceConfig,\n",
        "    Component as cm,\n",
        "    CoordinationType as ct,\n",
        "    FileType as ft,\n",
        "    ViewType as vt,\n",
        "    AnnDataWrapper,\n",
        "    MultiImageWrapper,\n",
        "    OmeTiffWrapper,\n",
        "    BASE_URL_PLACEHOLDER,\n",
        ")"
      ],
      "metadata": {
        "id": "HQVkt58HV1Z-"
      },
      "execution_count": null,
      "outputs": []
    },
    {
      "cell_type": "code",
      "source": [
        "# list of image URLs\n",
        "image_urls = [ rf'https://storagetuzi.blob.core.windows.net/blobtuzi/vccf_data/cell_table_region_{region+1}.ome.tif' for region in range(12)]\n",
        "\n",
        "region_names = ['1','2','3','4','5','6','7','8','9','10','11','12']\n",
        "\n",
        "image_urls"
      ],
      "metadata": {
        "colab": {
          "base_uri": "https://localhost:8080/"
        },
        "id": "DAvtgZbQekR8",
        "outputId": "6ae12250-e3d5-499b-ea58-62152ecc84b2"
      },
      "execution_count": null,
      "outputs": [
        {
          "output_type": "execute_result",
          "data": {
            "text/plain": [
              "['https://storagetuzi.blob.core.windows.net/blobtuzi/vccf_data/cell_table_region_1.ome.tif',\n",
              " 'https://storagetuzi.blob.core.windows.net/blobtuzi/vccf_data/cell_table_region_2.ome.tif',\n",
              " 'https://storagetuzi.blob.core.windows.net/blobtuzi/vccf_data/cell_table_region_3.ome.tif',\n",
              " 'https://storagetuzi.blob.core.windows.net/blobtuzi/vccf_data/cell_table_region_4.ome.tif',\n",
              " 'https://storagetuzi.blob.core.windows.net/blobtuzi/vccf_data/cell_table_region_5.ome.tif',\n",
              " 'https://storagetuzi.blob.core.windows.net/blobtuzi/vccf_data/cell_table_region_6.ome.tif',\n",
              " 'https://storagetuzi.blob.core.windows.net/blobtuzi/vccf_data/cell_table_region_7.ome.tif',\n",
              " 'https://storagetuzi.blob.core.windows.net/blobtuzi/vccf_data/cell_table_region_8.ome.tif',\n",
              " 'https://storagetuzi.blob.core.windows.net/blobtuzi/vccf_data/cell_table_region_9.ome.tif',\n",
              " 'https://storagetuzi.blob.core.windows.net/blobtuzi/vccf_data/cell_table_region_10.ome.tif',\n",
              " 'https://storagetuzi.blob.core.windows.net/blobtuzi/vccf_data/cell_table_region_11.ome.tif',\n",
              " 'https://storagetuzi.blob.core.windows.net/blobtuzi/vccf_data/cell_table_region_12.ome.tif']"
            ]
          },
          "metadata": {},
          "execution_count": 3
        }
      ]
    },
    {
      "cell_type": "code",
      "source": [
        "import os\n",
        "!mkdir -p ./images  # create a directory to store images if it doesn't exist\n",
        "\n",
        "# Download each image\n",
        "for url in image_urls:\n",
        "    # Extract the original file name from the URL\n",
        "    original_file_name = os.path.basename(url)\n",
        "    !curl -L -o ./images/{original_file_name} {url}\n",
        "\n",
        "csv_url = \"https://storagetuzi.blob.core.windows.net/blobtuzi/vccf_data/cell_sets.csv\"\n",
        "csv_path = './images/cell_sets.csv'\n",
        "!curl -L -o ./images/cell_sets.csv {csv_url}\n"
      ],
      "metadata": {
        "colab": {
          "base_uri": "https://localhost:8080/"
        },
        "id": "YfUHgCTkhOpR",
        "outputId": "d25a7825-cd87-4e90-c9e8-d4a3a54e74a0"
      },
      "execution_count": null,
      "outputs": [
        {
          "output_type": "stream",
          "name": "stdout",
          "text": [
            "  % Total    % Received % Xferd  Average Speed   Time    Time     Time  Current\n",
            "                                 Dload  Upload   Total   Spent    Left  Speed\n",
            "100 7959k  100 7959k    0     0  5437k      0  0:00:01  0:00:01 --:--:-- 5437k\n",
            "  % Total    % Received % Xferd  Average Speed   Time    Time     Time  Current\n",
            "                                 Dload  Upload   Total   Spent    Left  Speed\n",
            "100 13.5M  100 13.5M    0     0  8124k      0  0:00:01  0:00:01 --:--:-- 8119k\n",
            "  % Total    % Received % Xferd  Average Speed   Time    Time     Time  Current\n",
            "                                 Dload  Upload   Total   Spent    Left  Speed\n",
            "100 10.2M  100 10.2M    0     0  6718k      0  0:00:01  0:00:01 --:--:-- 6714k\n",
            "  % Total    % Received % Xferd  Average Speed   Time    Time     Time  Current\n",
            "                                 Dload  Upload   Total   Spent    Left  Speed\n",
            "100 13.4M  100 13.4M    0     0  7964k      0  0:00:01  0:00:01 --:--:-- 7964k\n",
            "  % Total    % Received % Xferd  Average Speed   Time    Time     Time  Current\n",
            "                                 Dload  Upload   Total   Spent    Left  Speed\n",
            "100 11.8M  100 11.8M    0     0  7308k      0  0:00:01  0:00:01 --:--:-- 7304k\n",
            "  % Total    % Received % Xferd  Average Speed   Time    Time     Time  Current\n",
            "                                 Dload  Upload   Total   Spent    Left  Speed\n",
            "100   215  100   215    0     0    951      0 --:--:-- --:--:-- --:--:--   951\n",
            "  % Total    % Received % Xferd  Average Speed   Time    Time     Time  Current\n",
            "                                 Dload  Upload   Total   Spent    Left  Speed\n",
            "100 7731k  100 7731k    0     0  5406k      0  0:00:01  0:00:01 --:--:-- 5406k\n",
            "  % Total    % Received % Xferd  Average Speed   Time    Time     Time  Current\n",
            "                                 Dload  Upload   Total   Spent    Left  Speed\n",
            "100 9352k  100 9352k    0     0  6633k      0  0:00:01  0:00:01 --:--:-- 6633k\n",
            "  % Total    % Received % Xferd  Average Speed   Time    Time     Time  Current\n",
            "                                 Dload  Upload   Total   Spent    Left  Speed\n",
            "100 8387k  100 8387k    0     0  6017k      0  0:00:01  0:00:01 --:--:-- 6017k\n",
            "  % Total    % Received % Xferd  Average Speed   Time    Time     Time  Current\n",
            "                                 Dload  Upload   Total   Spent    Left  Speed\n",
            "100 5961k  100 5961k    0     0  4339k      0  0:00:01  0:00:01 --:--:-- 4339k\n",
            "  % Total    % Received % Xferd  Average Speed   Time    Time     Time  Current\n",
            "                                 Dload  Upload   Total   Spent    Left  Speed\n",
            "100 13.4M  100 13.4M    0     0  8541k      0  0:00:01  0:00:01 --:--:-- 8535k\n",
            "  % Total    % Received % Xferd  Average Speed   Time    Time     Time  Current\n",
            "                                 Dload  Upload   Total   Spent    Left  Speed\n",
            "100 7043k  100 7043k    0     0  4821k      0  0:00:01  0:00:01 --:--:-- 4817k\n",
            "  % Total    % Received % Xferd  Average Speed   Time    Time     Time  Current\n",
            "                                 Dload  Upload   Total   Spent    Left  Speed\n",
            "100   131  100   131    0     0    574      0 --:--:-- --:--:-- --:--:--   574\n"
          ]
        }
      ]
    },
    {
      "cell_type": "code",
      "source": [
        "# Define the directory\n",
        "dir_path = './images'\n",
        "\n",
        "# Get the list of files in the directory\n",
        "files = os.listdir(dir_path)\n",
        "\n",
        "for path in files:\n",
        "    print(path)"
      ],
      "metadata": {
        "colab": {
          "base_uri": "https://localhost:8080/"
        },
        "id": "k4ZUildnhQaI",
        "outputId": "575e71ca-5e3e-4e62-a713-add8ef0a3e9f"
      },
      "execution_count": null,
      "outputs": [
        {
          "output_type": "stream",
          "name": "stdout",
          "text": [
            "cell_table_region_4.ome.tif\n",
            "cell_table_region_2.ome.tif\n",
            "cell_table_region_9.ome.tif\n",
            "cell_table_region_7.ome.tif\n",
            "cell_table_region_5.ome.tif\n",
            "cell_sets.csv\n",
            "cell_table_region_3.ome.tif\n",
            "cell_table_region_1.ome.tif\n",
            "cell_table_region_10.ome.tif\n",
            "cell_table_region_11.ome.tif\n",
            "cell_table_region_6.ome.tif\n",
            "cell_table_region_12.ome.tif\n",
            "cell_table_region_8.ome.tif\n"
          ]
        }
      ]
    },
    {
      "cell_type": "code",
      "source": [
        "# Initialize an empty list to store the full paths\n",
        "full_paths = []\n",
        "\n",
        "# Iterate over each region name\n",
        "for name in region_names:\n",
        "    # Join the directory path, the region name, and the file extension to get the full path\n",
        "    full_path = os.path.join(dir_path, f'cell_table_region_{name}.ome.tif')\n",
        "\n",
        "    # Add the full path to the list\n",
        "    full_paths.append(full_path)\n",
        "\n",
        "# Print the list of full paths\n",
        "for path in full_paths:\n",
        "    print(path)"
      ],
      "metadata": {
        "colab": {
          "base_uri": "https://localhost:8080/"
        },
        "id": "EQFGS_UehTrK",
        "outputId": "a50374d8-56a2-4f9a-86ff-9dc40876e997"
      },
      "execution_count": null,
      "outputs": [
        {
          "output_type": "stream",
          "name": "stdout",
          "text": [
            "./images/cell_table_region_1.ome.tif\n",
            "./images/cell_table_region_2.ome.tif\n",
            "./images/cell_table_region_3.ome.tif\n",
            "./images/cell_table_region_4.ome.tif\n",
            "./images/cell_table_region_5.ome.tif\n",
            "./images/cell_table_region_6.ome.tif\n",
            "./images/cell_table_region_7.ome.tif\n",
            "./images/cell_table_region_8.ome.tif\n",
            "./images/cell_table_region_9.ome.tif\n",
            "./images/cell_table_region_10.ome.tif\n",
            "./images/cell_table_region_11.ome.tif\n",
            "./images/cell_table_region_12.ome.tif\n"
          ]
        }
      ]
    },
    {
      "cell_type": "code",
      "source": [
        "hubmap_names = {\n",
        "1: \"HBM732.FZVZ.656\",\n",
        "2: \"HBM747.SPWK.779\",\n",
        "3: \"HBM398.NCVN.256\",\n",
        "4: \"HBM746.VTDZ.959\",\n",
        "5: \"HBM875.SBHJ.939\",\n",
        "6: \"HBM867.NMXL.794\",\n",
        "7: \"HBM666.JCGS.862\",\n",
        "8: \"HBM592.JGSQ.253\",\n",
        "9: \"HBM494.XDQW.356\",\n",
        "10: \"HBM238.ZKPC.934\",\n",
        "11: \"HBM975.FVCG.922\",\n",
        "12: \"HBM674.XQFQ.364\",\n",
        "}"
      ],
      "metadata": {
        "id": "5hmN0FRqGuy3"
      },
      "execution_count": null,
      "outputs": []
    },
    {
      "cell_type": "code",
      "source": [
        "from IPython.display import display, HTML\n",
        "from vitessce import CsvWrapper, DataType\n",
        "import pandas as pd\n",
        "import json\n",
        "import os\n",
        "\n",
        "# list to store generated vitessce URLs\n",
        "vitessce_urls = []\n",
        "\n",
        "for idx in range(1, 13):  # 1 to 12 inclusive\n",
        "    if idx == 6:  # Skip the 6th\n",
        "        continue\n",
        "    filepath = full_paths[idx-1]\n",
        "    img_url = image_urls[idx-1]\n",
        "\n",
        "    print(idx)\n",
        "    print(filepath)\n",
        "\n",
        "    cell_data = {\n",
        "    'cell_id': [1, 2, 3,4,5,6,7,8,9],\n",
        "    'cell_type': ['T-Killer', 'T-Helper', 'T-Reg', 'CD68', 'vessel',\n",
        "                  \"T-Killer_link\", 'T-Helper_link', 'T-Reg_link', 'CD68_link']\n",
        "    }\n",
        "    cell_sets_data = pd.DataFrame(cell_data)\n",
        "    options = {\n",
        "  \"obsIndex\": \"cell_id\",\n",
        "  \"obsSets\": [\n",
        "    {\n",
        "      \"name\": \"Cell Type\",\n",
        "      \"column\": \"cell_type\"\n",
        "    }\n",
        "    ]\n",
        "  }\n",
        "\n",
        "\n",
        "\n",
        "    # LOCAL=1, ONLINE=0\n",
        "    OUTPUT_LEVEL = 1\n",
        "    vc = VitessceConfig(schema_version=\"1.0.15\", name='Transcriptomics example')\n",
        "\n",
        "    if OUTPUT_LEVEL == 1:\n",
        "        #LOCAL\n",
        "        dataset = vc.add_dataset(name='Cell segmentations').add_object(\n",
        "    OmeTiffWrapper(img_path=filepath, is_bitmask=True, name=f\"Region {idx} Segmentations\")\n",
        "    ).add_object(CsvWrapper(csv_path=csv_path, data_type=DataType.OBS_SETS.value, options=options))\n",
        "    else:\n",
        "        # ONLINE PREVIEW\n",
        "        dataset = vc.add_dataset(name='Cell segmentations').add_object(\n",
        "    OmeTiffWrapper(img_url=img_url, is_bitmask=True, name=f\"Region {idx} Segmentations\")\n",
        "    ).add_object(CsvWrapper(csv_url=csv_url, data_type=DataType.OBS_SETS.value, options=options))\n",
        "\n",
        "    spatial_plot = vc.add_view(cm.SPATIAL, dataset=dataset)\n",
        "    layer_controller = vc.add_view(cm.LAYER_CONTROLLER, dataset=dataset)\n",
        "\n",
        "\n",
        "    spatial_segmentation_layer_value = [{\n",
        "        \"type\":\"bitmask\",\n",
        "        \"index\":0,\n",
        "        \"visible\":True,\n",
        "        \"colormap\":None,\n",
        "        \"opacity\":1,\n",
        "        \"domainType\":\"Min/Max\",\n",
        "        \"transparentColor\":None,\n",
        "        \"renderingMode\":\"Additive\",\n",
        "        \"use3d\":False,\n",
        "        \"channels\":[\n",
        "            # VCCF\n",
        "                {\"selection\":{\"c\":0,\"t\":0,\"z\":0},\"color\":[0,0,0],\"visible\":True,\"slider\":[0,1]},\n",
        "                {\"selection\":{\"c\":1,\"t\":0,\"z\":0},\"color\":[0,0,0],\"visible\":True,\"slider\":[1,2]},\n",
        "                {\"selection\":{\"c\":2,\"t\":0,\"z\":0},\"color\":[0,0,0],\"visible\":True,\"slider\":[2,3]},\n",
        "                {\"selection\":{\"c\":3,\"t\":0,\"z\":0},\"color\":[0,0,0],\"visible\":True,\"slider\":[3,4]},\n",
        "                {\"selection\":{\"c\":4,\"t\":0,\"z\":0},\"color\":[0,0,0],\"visible\":True,\"slider\":[4,5]},\n",
        "        ]\n",
        "    }]\n",
        "    cell_sets_view = vc.add_view(cm.OBS_SETS, dataset=dataset)\n",
        "    obs_set_color = [\n",
        "      {\"path\": [\"Cell Type\", \"vessel\"], \"color\": [255, 0, 0]},\n",
        "      {\"path\": [\"Cell Type\", \"T-Killer\"], \"color\": [255, 0, 255]},\n",
        "      {\"path\": [\"Cell Type\", \"T-Killer_link\"], \"color\": [255, 0, 255]},\n",
        "      {\"path\": [\"Cell Type\", \"T-Helper\"], \"color\": [0, 0, 255]},\n",
        "      {\"path\": [\"Cell Type\", \"T-Helper_link\"], \"color\": [0, 0, 255]},\n",
        "      {\"path\": [\"Cell Type\", \"T-Reg\"], \"color\": [0, 255, 0]},\n",
        "      {\"path\": [\"Cell Type\", \"T-Reg_link\"], \"color\": [0, 255, 0]},\n",
        "      {\"path\": [\"Cell Type\", \"CD68\"], \"color\": [255,215,0]},\n",
        "      {\"path\": [\"Cell Type\", \"CD68_link\"], \"color\": [255, 215, 0]},\n",
        "    ]\n",
        "    vc.link_views(\n",
        "        [spatial_plot, layer_controller],\n",
        "        [ct.SPATIAL_ZOOM, ct.SPATIAL_TARGET_X, ct.SPATIAL_TARGET_Y, ct.SPATIAL_SEGMENTATION_LAYER],\n",
        "        [-4, 7500, 7500, spatial_segmentation_layer_value]\n",
        "    )\n",
        "    vc.link_views(\n",
        "        [cell_sets_view, spatial_plot, layer_controller],\n",
        "        [ct.OBS_SET_COLOR],\n",
        "        [obs_set_color]\n",
        "    )\n",
        "    vc.layout(spatial_plot | (layer_controller / cell_sets_view))\n",
        "\n",
        "    web_url = vc.web_app()\n",
        "    display(HTML(f'<a href=\"{web_url}\" target=\"_blank\">View on Vitessce.io</a>'))\n",
        "    # FULL CODE:\n",
        "    # display(HTML(f'<a href=\"{web_url}\" target=\"_blank\">View on Vitessce.io</a>'))\n",
        "    # THIS LINE WILL BE MODIFIED WHEN SAVED TO GITHUB\n",
        "\n",
        "    ROOT = \"hubmap-publication-page\"\n",
        "\n",
        "    PATH_TO_EXPORT_DIRECTORY = os.path.join(ROOT, \"data\", f\"vignette_{idx:02}\")\n",
        "    VIGNETTE_DIR = os.path.join(ROOT, \"vignettes\", f\"vignette_{idx:02}\")\n",
        "    #Export Vitessce config to JSON\n",
        "    os.makedirs(VIGNETTE_DIR, exist_ok=True)\n",
        "    #Export Vitessce config to JSON\n",
        "    os.makedirs(PATH_TO_EXPORT_DIRECTORY, exist_ok=True)\n",
        "    config_dict = vc.export(to=\"files\", base_url=f\"{BASE_URL_PLACEHOLDER}/vignette_{idx:02}\", out_dir=PATH_TO_EXPORT_DIRECTORY)\n",
        "    # Use `open` to create a new empty file at ./exported_data/vitessce.json\n",
        "    with open(os.path.join(VIGNETTE_DIR, \"vitessce.json\"), \"w\") as f:\n",
        "        json.dump(config_dict, f)\n",
        "    vignette_md = f\"\"\"\n",
        "---\n",
        "name: VCCF Visualization for {hubmap_names[idx]}\n",
        "figures:\n",
        "    - name: \"Visualization\"\n",
        "      file: vitessce.json\n",
        "---\n",
        "\n",
        "This vignette visualizes Region {idx}. The image shows the segmentation of vasculature and immune cells, and the links between them.\n",
        "    \"\"\"\n",
        "    with open(os.path.join(VIGNETTE_DIR, \"description.md\"), \"w\") as f:\n",
        "        f.write(vignette_md)\n"
      ],
      "metadata": {
        "colab": {
          "base_uri": "https://localhost:8080/",
          "height": 607
        },
        "id": "JitGKLE_lEWU",
        "outputId": "a11123f9-ed37-44b8-8a23-1459745e8c59"
      },
      "execution_count": null,
      "outputs": [
        {
          "output_type": "stream",
          "name": "stdout",
          "text": [
            "1\n",
            "./images/cell_table_region_1.ome.tif\n"
          ]
        },
        {
          "output_type": "display_data",
          "data": {
            "text/plain": [
              "<IPython.core.display.HTML object>"
            ],
            "text/html": [
              "<a href=\"http://vitessce.io/#?theme=light&url=data:,%7B%22version%22%3A+%221.0.15%22%2C+%22name%22%3A+%22Transcriptomics+example%22%2C+%22description%22%3A+%22%22%2C+%22datasets%22%3A+%5B%7B%22uid%22%3A+%22A%22%2C+%22name%22%3A+%22Cell+segmentations%22%2C+%22files%22%3A+%5B%7B%22fileType%22%3A+%22raster.json%22%2C+%22options%22%3A+%7B%22schemaVersion%22%3A+%220.0.2%22%2C+%22images%22%3A+%5B%7B%22name%22%3A+%22Region+1+Segmentations%22%2C+%22type%22%3A+%22ome-tiff%22%2C+%22url%22%3A+%22http%3A%2F%2Flocalhost%3A8000%2FA%2F0%2Ffa4eafd0-c6d2-4882-b526-d8082390ad7c%22%2C+%22metadata%22%3A+%7B%22omeTiffOffsetsUrl%22%3A+%22http%3A%2F%2Flocalhost%3A8000%2FA%2F0%2F4c1377d6-e502-4b83-ae58-3e29d2596d9c%22%2C+%22isBitmask%22%3A+true%7D%7D%5D%7D%7D%2C+%7B%22fileType%22%3A+%22obsSets.csv%22%2C+%22url%22%3A+%22http%3A%2F%2Flocalhost%3A8000%2FA%2F1%2F97c1713d-5b82-4de4-91b7-4523c1ead055%22%2C+%22options%22%3A+%7B%22obsIndex%22%3A+%22cell_id%22%2C+%22obsSets%22%3A+%5B%7B%22name%22%3A+%22Cell+Type%22%2C+%22column%22%3A+%22cell_type%22%7D%5D%7D%7D%5D%7D%5D%2C+%22coordinationSpace%22%3A+%7B%22dataset%22%3A+%7B%22A%22%3A+%22A%22%7D%2C+%22spatialZoom%22%3A+%7B%22A%22%3A+-4%7D%2C+%22spatialTargetX%22%3A+%7B%22A%22%3A+7500%7D%2C+%22spatialTargetY%22%3A+%7B%22A%22%3A+7500%7D%2C+%22spatialSegmentationLayer%22%3A+%7B%22A%22%3A+%5B%7B%22type%22%3A+%22bitmask%22%2C+%22index%22%3A+0%2C+%22visible%22%3A+true%2C+%22colormap%22%3A+null%2C+%22opacity%22%3A+1%2C+%22domainType%22%3A+%22Min%2FMax%22%2C+%22transparentColor%22%3A+null%2C+%22renderingMode%22%3A+%22Additive%22%2C+%22use3d%22%3A+false%2C+%22channels%22%3A+%5B%7B%22selection%22%3A+%7B%22c%22%3A+0%2C+%22t%22%3A+0%2C+%22z%22%3A+0%7D%2C+%22color%22%3A+%5B0%2C+0%2C+0%5D%2C+%22visible%22%3A+true%2C+%22slider%22%3A+%5B0%2C+1%5D%7D%2C+%7B%22selection%22%3A+%7B%22c%22%3A+1%2C+%22t%22%3A+0%2C+%22z%22%3A+0%7D%2C+%22color%22%3A+%5B0%2C+0%2C+0%5D%2C+%22visible%22%3A+true%2C+%22slider%22%3A+%5B1%2C+2%5D%7D%2C+%7B%22selection%22%3A+%7B%22c%22%3A+2%2C+%22t%22%3A+0%2C+%22z%22%3A+0%7D%2C+%22color%22%3A+%5B0%2C+0%2C+0%5D%2C+%22visible%22%3A+true%2C+%22slider%22%3A+%5B2%2C+3%5D%7D%2C+%7B%22selection%22%3A+%7B%22c%22%3A+3%2C+%22t%22%3A+0%2C+%22z%22%3A+0%7D%2C+%22color%22%3A+%5B0%2C+0%2C+0%5D%2C+%22visible%22%3A+true%2C+%22slider%22%3A+%5B3%2C+4%5D%7D%2C+%7B%22selection%22%3A+%7B%22c%22%3A+4%2C+%22t%22%3A+0%2C+%22z%22%3A+0%7D%2C+%22color%22%3A+%5B0%2C+0%2C+0%5D%2C+%22visible%22%3A+true%2C+%22slider%22%3A+%5B4%2C+5%5D%7D%5D%7D%5D%7D%2C+%22obsSetColor%22%3A+%7B%22A%22%3A+%5B%7B%22path%22%3A+%5B%22Cell+Type%22%2C+%22vessel%22%5D%2C+%22color%22%3A+%5B255%2C+0%2C+0%5D%7D%2C+%7B%22path%22%3A+%5B%22Cell+Type%22%2C+%22T-Killer%22%5D%2C+%22color%22%3A+%5B255%2C+0%2C+255%5D%7D%2C+%7B%22path%22%3A+%5B%22Cell+Type%22%2C+%22T-Killer_link%22%5D%2C+%22color%22%3A+%5B255%2C+0%2C+255%5D%7D%2C+%7B%22path%22%3A+%5B%22Cell+Type%22%2C+%22T-Helper%22%5D%2C+%22color%22%3A+%5B0%2C+0%2C+255%5D%7D%2C+%7B%22path%22%3A+%5B%22Cell+Type%22%2C+%22T-Helper_link%22%5D%2C+%22color%22%3A+%5B0%2C+0%2C+255%5D%7D%2C+%7B%22path%22%3A+%5B%22Cell+Type%22%2C+%22T-Reg%22%5D%2C+%22color%22%3A+%5B0%2C+255%2C+0%5D%7D%2C+%7B%22path%22%3A+%5B%22Cell+Type%22%2C+%22T-Reg_link%22%5D%2C+%22color%22%3A+%5B0%2C+255%2C+0%5D%7D%2C+%7B%22path%22%3A+%5B%22Cell+Type%22%2C+%22CD68%22%5D%2C+%22color%22%3A+%5B255%2C+215%2C+0%5D%7D%2C+%7B%22path%22%3A+%5B%22Cell+Type%22%2C+%22CD68_link%22%5D%2C+%22color%22%3A+%5B255%2C+215%2C+0%5D%7D%5D%7D%7D%2C+%22layout%22%3A+%5B%7B%22component%22%3A+%22spatial%22%2C+%22coordinationScopes%22%3A+%7B%22dataset%22%3A+%22A%22%2C+%22spatialZoom%22%3A+%22A%22%2C+%22spatialTargetX%22%3A+%22A%22%2C+%22spatialTargetY%22%3A+%22A%22%2C+%22spatialSegmentationLayer%22%3A+%22A%22%2C+%22obsSetColor%22%3A+%22A%22%7D%2C+%22x%22%3A+0.0%2C+%22y%22%3A+0%2C+%22w%22%3A+6.0%2C+%22h%22%3A+12%7D%2C+%7B%22component%22%3A+%22layerController%22%2C+%22coordinationScopes%22%3A+%7B%22dataset%22%3A+%22A%22%2C+%22spatialZoom%22%3A+%22A%22%2C+%22spatialTargetX%22%3A+%22A%22%2C+%22spatialTargetY%22%3A+%22A%22%2C+%22spatialSegmentationLayer%22%3A+%22A%22%2C+%22obsSetColor%22%3A+%22A%22%7D%2C+%22x%22%3A+6.0%2C+%22y%22%3A+0.0%2C+%22w%22%3A+6.0%2C+%22h%22%3A+6.0%7D%2C+%7B%22component%22%3A+%22obsSets%22%2C+%22coordinationScopes%22%3A+%7B%22dataset%22%3A+%22A%22%2C+%22obsSetColor%22%3A+%22A%22%7D%2C+%22x%22%3A+6.0%2C+%22y%22%3A+6.0%2C+%22w%22%3A+6.0%2C+%22h%22%3A+6.0%7D%5D%2C+%22initStrategy%22%3A+%22auto%22%7D\" target=\"_blank\">View on Vitessce.io</a>"
            ]
          },
          "metadata": {}
        },
        {
          "output_type": "stream",
          "name": "stdout",
          "text": [
            "2\n",
            "./images/cell_table_region_2.ome.tif\n"
          ]
        },
        {
          "output_type": "display_data",
          "data": {
            "text/plain": [
              "<IPython.core.display.HTML object>"
            ],
            "text/html": [
              "<a href=\"http://vitessce.io/#?theme=light&url=data:,%7B%22version%22%3A+%221.0.15%22%2C+%22name%22%3A+%22Transcriptomics+example%22%2C+%22description%22%3A+%22%22%2C+%22datasets%22%3A+%5B%7B%22uid%22%3A+%22A%22%2C+%22name%22%3A+%22Cell+segmentations%22%2C+%22files%22%3A+%5B%7B%22fileType%22%3A+%22raster.json%22%2C+%22options%22%3A+%7B%22schemaVersion%22%3A+%220.0.2%22%2C+%22images%22%3A+%5B%7B%22name%22%3A+%22Region+2+Segmentations%22%2C+%22type%22%3A+%22ome-tiff%22%2C+%22url%22%3A+%22http%3A%2F%2Flocalhost%3A8001%2FA%2F0%2Fd2a13dd1-67b2-4853-af92-45172d2499e6%22%2C+%22metadata%22%3A+%7B%22omeTiffOffsetsUrl%22%3A+%22http%3A%2F%2Flocalhost%3A8001%2FA%2F0%2F3c3641e8-ed95-47fc-9ddb-3697ab28a32e%22%2C+%22isBitmask%22%3A+true%7D%7D%5D%7D%7D%2C+%7B%22fileType%22%3A+%22obsSets.csv%22%2C+%22url%22%3A+%22http%3A%2F%2Flocalhost%3A8001%2FA%2F1%2F34b24e64-f312-4e85-8fbd-cad0340df398%22%2C+%22options%22%3A+%7B%22obsIndex%22%3A+%22cell_id%22%2C+%22obsSets%22%3A+%5B%7B%22name%22%3A+%22Cell+Type%22%2C+%22column%22%3A+%22cell_type%22%7D%5D%7D%7D%5D%7D%5D%2C+%22coordinationSpace%22%3A+%7B%22dataset%22%3A+%7B%22A%22%3A+%22A%22%7D%2C+%22spatialZoom%22%3A+%7B%22A%22%3A+-4%7D%2C+%22spatialTargetX%22%3A+%7B%22A%22%3A+7500%7D%2C+%22spatialTargetY%22%3A+%7B%22A%22%3A+7500%7D%2C+%22spatialSegmentationLayer%22%3A+%7B%22A%22%3A+%5B%7B%22type%22%3A+%22bitmask%22%2C+%22index%22%3A+0%2C+%22visible%22%3A+true%2C+%22colormap%22%3A+null%2C+%22opacity%22%3A+1%2C+%22domainType%22%3A+%22Min%2FMax%22%2C+%22transparentColor%22%3A+null%2C+%22renderingMode%22%3A+%22Additive%22%2C+%22use3d%22%3A+false%2C+%22channels%22%3A+%5B%7B%22selection%22%3A+%7B%22c%22%3A+0%2C+%22t%22%3A+0%2C+%22z%22%3A+0%7D%2C+%22color%22%3A+%5B0%2C+0%2C+0%5D%2C+%22visible%22%3A+true%2C+%22slider%22%3A+%5B0%2C+1%5D%7D%2C+%7B%22selection%22%3A+%7B%22c%22%3A+1%2C+%22t%22%3A+0%2C+%22z%22%3A+0%7D%2C+%22color%22%3A+%5B0%2C+0%2C+0%5D%2C+%22visible%22%3A+true%2C+%22slider%22%3A+%5B1%2C+2%5D%7D%2C+%7B%22selection%22%3A+%7B%22c%22%3A+2%2C+%22t%22%3A+0%2C+%22z%22%3A+0%7D%2C+%22color%22%3A+%5B0%2C+0%2C+0%5D%2C+%22visible%22%3A+true%2C+%22slider%22%3A+%5B2%2C+3%5D%7D%2C+%7B%22selection%22%3A+%7B%22c%22%3A+3%2C+%22t%22%3A+0%2C+%22z%22%3A+0%7D%2C+%22color%22%3A+%5B0%2C+0%2C+0%5D%2C+%22visible%22%3A+true%2C+%22slider%22%3A+%5B3%2C+4%5D%7D%2C+%7B%22selection%22%3A+%7B%22c%22%3A+4%2C+%22t%22%3A+0%2C+%22z%22%3A+0%7D%2C+%22color%22%3A+%5B0%2C+0%2C+0%5D%2C+%22visible%22%3A+true%2C+%22slider%22%3A+%5B4%2C+5%5D%7D%5D%7D%5D%7D%2C+%22obsSetColor%22%3A+%7B%22A%22%3A+%5B%7B%22path%22%3A+%5B%22Cell+Type%22%2C+%22vessel%22%5D%2C+%22color%22%3A+%5B255%2C+0%2C+0%5D%7D%2C+%7B%22path%22%3A+%5B%22Cell+Type%22%2C+%22T-Killer%22%5D%2C+%22color%22%3A+%5B255%2C+0%2C+255%5D%7D%2C+%7B%22path%22%3A+%5B%22Cell+Type%22%2C+%22T-Killer_link%22%5D%2C+%22color%22%3A+%5B255%2C+0%2C+255%5D%7D%2C+%7B%22path%22%3A+%5B%22Cell+Type%22%2C+%22T-Helper%22%5D%2C+%22color%22%3A+%5B0%2C+0%2C+255%5D%7D%2C+%7B%22path%22%3A+%5B%22Cell+Type%22%2C+%22T-Helper_link%22%5D%2C+%22color%22%3A+%5B0%2C+0%2C+255%5D%7D%2C+%7B%22path%22%3A+%5B%22Cell+Type%22%2C+%22T-Reg%22%5D%2C+%22color%22%3A+%5B0%2C+255%2C+0%5D%7D%2C+%7B%22path%22%3A+%5B%22Cell+Type%22%2C+%22T-Reg_link%22%5D%2C+%22color%22%3A+%5B0%2C+255%2C+0%5D%7D%2C+%7B%22path%22%3A+%5B%22Cell+Type%22%2C+%22CD68%22%5D%2C+%22color%22%3A+%5B255%2C+215%2C+0%5D%7D%2C+%7B%22path%22%3A+%5B%22Cell+Type%22%2C+%22CD68_link%22%5D%2C+%22color%22%3A+%5B255%2C+215%2C+0%5D%7D%5D%7D%7D%2C+%22layout%22%3A+%5B%7B%22component%22%3A+%22spatial%22%2C+%22coordinationScopes%22%3A+%7B%22dataset%22%3A+%22A%22%2C+%22spatialZoom%22%3A+%22A%22%2C+%22spatialTargetX%22%3A+%22A%22%2C+%22spatialTargetY%22%3A+%22A%22%2C+%22spatialSegmentationLayer%22%3A+%22A%22%2C+%22obsSetColor%22%3A+%22A%22%7D%2C+%22x%22%3A+0.0%2C+%22y%22%3A+0%2C+%22w%22%3A+6.0%2C+%22h%22%3A+12%7D%2C+%7B%22component%22%3A+%22layerController%22%2C+%22coordinationScopes%22%3A+%7B%22dataset%22%3A+%22A%22%2C+%22spatialZoom%22%3A+%22A%22%2C+%22spatialTargetX%22%3A+%22A%22%2C+%22spatialTargetY%22%3A+%22A%22%2C+%22spatialSegmentationLayer%22%3A+%22A%22%2C+%22obsSetColor%22%3A+%22A%22%7D%2C+%22x%22%3A+6.0%2C+%22y%22%3A+0.0%2C+%22w%22%3A+6.0%2C+%22h%22%3A+6.0%7D%2C+%7B%22component%22%3A+%22obsSets%22%2C+%22coordinationScopes%22%3A+%7B%22dataset%22%3A+%22A%22%2C+%22obsSetColor%22%3A+%22A%22%7D%2C+%22x%22%3A+6.0%2C+%22y%22%3A+6.0%2C+%22w%22%3A+6.0%2C+%22h%22%3A+6.0%7D%5D%2C+%22initStrategy%22%3A+%22auto%22%7D\" target=\"_blank\">View on Vitessce.io</a>"
            ]
          },
          "metadata": {}
        },
        {
          "output_type": "stream",
          "name": "stdout",
          "text": [
            "3\n",
            "./images/cell_table_region_3.ome.tif\n"
          ]
        },
        {
          "output_type": "display_data",
          "data": {
            "text/plain": [
              "<IPython.core.display.HTML object>"
            ],
            "text/html": [
              "<a href=\"http://vitessce.io/#?theme=light&url=data:,%7B%22version%22%3A+%221.0.15%22%2C+%22name%22%3A+%22Transcriptomics+example%22%2C+%22description%22%3A+%22%22%2C+%22datasets%22%3A+%5B%7B%22uid%22%3A+%22A%22%2C+%22name%22%3A+%22Cell+segmentations%22%2C+%22files%22%3A+%5B%7B%22fileType%22%3A+%22raster.json%22%2C+%22options%22%3A+%7B%22schemaVersion%22%3A+%220.0.2%22%2C+%22images%22%3A+%5B%7B%22name%22%3A+%22Region+3+Segmentations%22%2C+%22type%22%3A+%22ome-tiff%22%2C+%22url%22%3A+%22http%3A%2F%2Flocalhost%3A8002%2FA%2F0%2F841c2598-20b5-47aa-8a6f-5da3049f59de%22%2C+%22metadata%22%3A+%7B%22omeTiffOffsetsUrl%22%3A+%22http%3A%2F%2Flocalhost%3A8002%2FA%2F0%2F2d57aecc-dd6a-4d97-a799-bfbfdba9dde3%22%2C+%22isBitmask%22%3A+true%7D%7D%5D%7D%7D%2C+%7B%22fileType%22%3A+%22obsSets.csv%22%2C+%22url%22%3A+%22http%3A%2F%2Flocalhost%3A8002%2FA%2F1%2Fda2ce305-92e1-404a-9e17-4ab56f4ebc9c%22%2C+%22options%22%3A+%7B%22obsIndex%22%3A+%22cell_id%22%2C+%22obsSets%22%3A+%5B%7B%22name%22%3A+%22Cell+Type%22%2C+%22column%22%3A+%22cell_type%22%7D%5D%7D%7D%5D%7D%5D%2C+%22coordinationSpace%22%3A+%7B%22dataset%22%3A+%7B%22A%22%3A+%22A%22%7D%2C+%22spatialZoom%22%3A+%7B%22A%22%3A+-4%7D%2C+%22spatialTargetX%22%3A+%7B%22A%22%3A+7500%7D%2C+%22spatialTargetY%22%3A+%7B%22A%22%3A+7500%7D%2C+%22spatialSegmentationLayer%22%3A+%7B%22A%22%3A+%5B%7B%22type%22%3A+%22bitmask%22%2C+%22index%22%3A+0%2C+%22visible%22%3A+true%2C+%22colormap%22%3A+null%2C+%22opacity%22%3A+1%2C+%22domainType%22%3A+%22Min%2FMax%22%2C+%22transparentColor%22%3A+null%2C+%22renderingMode%22%3A+%22Additive%22%2C+%22use3d%22%3A+false%2C+%22channels%22%3A+%5B%7B%22selection%22%3A+%7B%22c%22%3A+0%2C+%22t%22%3A+0%2C+%22z%22%3A+0%7D%2C+%22color%22%3A+%5B0%2C+0%2C+0%5D%2C+%22visible%22%3A+true%2C+%22slider%22%3A+%5B0%2C+1%5D%7D%2C+%7B%22selection%22%3A+%7B%22c%22%3A+1%2C+%22t%22%3A+0%2C+%22z%22%3A+0%7D%2C+%22color%22%3A+%5B0%2C+0%2C+0%5D%2C+%22visible%22%3A+true%2C+%22slider%22%3A+%5B1%2C+2%5D%7D%2C+%7B%22selection%22%3A+%7B%22c%22%3A+2%2C+%22t%22%3A+0%2C+%22z%22%3A+0%7D%2C+%22color%22%3A+%5B0%2C+0%2C+0%5D%2C+%22visible%22%3A+true%2C+%22slider%22%3A+%5B2%2C+3%5D%7D%2C+%7B%22selection%22%3A+%7B%22c%22%3A+3%2C+%22t%22%3A+0%2C+%22z%22%3A+0%7D%2C+%22color%22%3A+%5B0%2C+0%2C+0%5D%2C+%22visible%22%3A+true%2C+%22slider%22%3A+%5B3%2C+4%5D%7D%2C+%7B%22selection%22%3A+%7B%22c%22%3A+4%2C+%22t%22%3A+0%2C+%22z%22%3A+0%7D%2C+%22color%22%3A+%5B0%2C+0%2C+0%5D%2C+%22visible%22%3A+true%2C+%22slider%22%3A+%5B4%2C+5%5D%7D%5D%7D%5D%7D%2C+%22obsSetColor%22%3A+%7B%22A%22%3A+%5B%7B%22path%22%3A+%5B%22Cell+Type%22%2C+%22vessel%22%5D%2C+%22color%22%3A+%5B255%2C+0%2C+0%5D%7D%2C+%7B%22path%22%3A+%5B%22Cell+Type%22%2C+%22T-Killer%22%5D%2C+%22color%22%3A+%5B255%2C+0%2C+255%5D%7D%2C+%7B%22path%22%3A+%5B%22Cell+Type%22%2C+%22T-Killer_link%22%5D%2C+%22color%22%3A+%5B255%2C+0%2C+255%5D%7D%2C+%7B%22path%22%3A+%5B%22Cell+Type%22%2C+%22T-Helper%22%5D%2C+%22color%22%3A+%5B0%2C+0%2C+255%5D%7D%2C+%7B%22path%22%3A+%5B%22Cell+Type%22%2C+%22T-Helper_link%22%5D%2C+%22color%22%3A+%5B0%2C+0%2C+255%5D%7D%2C+%7B%22path%22%3A+%5B%22Cell+Type%22%2C+%22T-Reg%22%5D%2C+%22color%22%3A+%5B0%2C+255%2C+0%5D%7D%2C+%7B%22path%22%3A+%5B%22Cell+Type%22%2C+%22T-Reg_link%22%5D%2C+%22color%22%3A+%5B0%2C+255%2C+0%5D%7D%2C+%7B%22path%22%3A+%5B%22Cell+Type%22%2C+%22CD68%22%5D%2C+%22color%22%3A+%5B255%2C+215%2C+0%5D%7D%2C+%7B%22path%22%3A+%5B%22Cell+Type%22%2C+%22CD68_link%22%5D%2C+%22color%22%3A+%5B255%2C+215%2C+0%5D%7D%5D%7D%7D%2C+%22layout%22%3A+%5B%7B%22component%22%3A+%22spatial%22%2C+%22coordinationScopes%22%3A+%7B%22dataset%22%3A+%22A%22%2C+%22spatialZoom%22%3A+%22A%22%2C+%22spatialTargetX%22%3A+%22A%22%2C+%22spatialTargetY%22%3A+%22A%22%2C+%22spatialSegmentationLayer%22%3A+%22A%22%2C+%22obsSetColor%22%3A+%22A%22%7D%2C+%22x%22%3A+0.0%2C+%22y%22%3A+0%2C+%22w%22%3A+6.0%2C+%22h%22%3A+12%7D%2C+%7B%22component%22%3A+%22layerController%22%2C+%22coordinationScopes%22%3A+%7B%22dataset%22%3A+%22A%22%2C+%22spatialZoom%22%3A+%22A%22%2C+%22spatialTargetX%22%3A+%22A%22%2C+%22spatialTargetY%22%3A+%22A%22%2C+%22spatialSegmentationLayer%22%3A+%22A%22%2C+%22obsSetColor%22%3A+%22A%22%7D%2C+%22x%22%3A+6.0%2C+%22y%22%3A+0.0%2C+%22w%22%3A+6.0%2C+%22h%22%3A+6.0%7D%2C+%7B%22component%22%3A+%22obsSets%22%2C+%22coordinationScopes%22%3A+%7B%22dataset%22%3A+%22A%22%2C+%22obsSetColor%22%3A+%22A%22%7D%2C+%22x%22%3A+6.0%2C+%22y%22%3A+6.0%2C+%22w%22%3A+6.0%2C+%22h%22%3A+6.0%7D%5D%2C+%22initStrategy%22%3A+%22auto%22%7D\" target=\"_blank\">View on Vitessce.io</a>"
            ]
          },
          "metadata": {}
        },
        {
          "output_type": "stream",
          "name": "stdout",
          "text": [
            "4\n",
            "./images/cell_table_region_4.ome.tif\n"
          ]
        },
        {
          "output_type": "display_data",
          "data": {
            "text/plain": [
              "<IPython.core.display.HTML object>"
            ],
            "text/html": [
              "<a href=\"http://vitessce.io/#?theme=light&url=data:,%7B%22version%22%3A+%221.0.15%22%2C+%22name%22%3A+%22Transcriptomics+example%22%2C+%22description%22%3A+%22%22%2C+%22datasets%22%3A+%5B%7B%22uid%22%3A+%22A%22%2C+%22name%22%3A+%22Cell+segmentations%22%2C+%22files%22%3A+%5B%7B%22fileType%22%3A+%22raster.json%22%2C+%22options%22%3A+%7B%22schemaVersion%22%3A+%220.0.2%22%2C+%22images%22%3A+%5B%7B%22name%22%3A+%22Region+4+Segmentations%22%2C+%22type%22%3A+%22ome-tiff%22%2C+%22url%22%3A+%22http%3A%2F%2Flocalhost%3A8003%2FA%2F0%2F14e0845e-8d17-43d1-9163-e920a856fe68%22%2C+%22metadata%22%3A+%7B%22omeTiffOffsetsUrl%22%3A+%22http%3A%2F%2Flocalhost%3A8003%2FA%2F0%2Fa0e262ee-763f-49bf-863b-e2529b5d1a39%22%2C+%22isBitmask%22%3A+true%7D%7D%5D%7D%7D%2C+%7B%22fileType%22%3A+%22obsSets.csv%22%2C+%22url%22%3A+%22http%3A%2F%2Flocalhost%3A8003%2FA%2F1%2Fe1e0c7e0-cdb7-48c1-adc9-089caa0637de%22%2C+%22options%22%3A+%7B%22obsIndex%22%3A+%22cell_id%22%2C+%22obsSets%22%3A+%5B%7B%22name%22%3A+%22Cell+Type%22%2C+%22column%22%3A+%22cell_type%22%7D%5D%7D%7D%5D%7D%5D%2C+%22coordinationSpace%22%3A+%7B%22dataset%22%3A+%7B%22A%22%3A+%22A%22%7D%2C+%22spatialZoom%22%3A+%7B%22A%22%3A+-4%7D%2C+%22spatialTargetX%22%3A+%7B%22A%22%3A+7500%7D%2C+%22spatialTargetY%22%3A+%7B%22A%22%3A+7500%7D%2C+%22spatialSegmentationLayer%22%3A+%7B%22A%22%3A+%5B%7B%22type%22%3A+%22bitmask%22%2C+%22index%22%3A+0%2C+%22visible%22%3A+true%2C+%22colormap%22%3A+null%2C+%22opacity%22%3A+1%2C+%22domainType%22%3A+%22Min%2FMax%22%2C+%22transparentColor%22%3A+null%2C+%22renderingMode%22%3A+%22Additive%22%2C+%22use3d%22%3A+false%2C+%22channels%22%3A+%5B%7B%22selection%22%3A+%7B%22c%22%3A+0%2C+%22t%22%3A+0%2C+%22z%22%3A+0%7D%2C+%22color%22%3A+%5B0%2C+0%2C+0%5D%2C+%22visible%22%3A+true%2C+%22slider%22%3A+%5B0%2C+1%5D%7D%2C+%7B%22selection%22%3A+%7B%22c%22%3A+1%2C+%22t%22%3A+0%2C+%22z%22%3A+0%7D%2C+%22color%22%3A+%5B0%2C+0%2C+0%5D%2C+%22visible%22%3A+true%2C+%22slider%22%3A+%5B1%2C+2%5D%7D%2C+%7B%22selection%22%3A+%7B%22c%22%3A+2%2C+%22t%22%3A+0%2C+%22z%22%3A+0%7D%2C+%22color%22%3A+%5B0%2C+0%2C+0%5D%2C+%22visible%22%3A+true%2C+%22slider%22%3A+%5B2%2C+3%5D%7D%2C+%7B%22selection%22%3A+%7B%22c%22%3A+3%2C+%22t%22%3A+0%2C+%22z%22%3A+0%7D%2C+%22color%22%3A+%5B0%2C+0%2C+0%5D%2C+%22visible%22%3A+true%2C+%22slider%22%3A+%5B3%2C+4%5D%7D%2C+%7B%22selection%22%3A+%7B%22c%22%3A+4%2C+%22t%22%3A+0%2C+%22z%22%3A+0%7D%2C+%22color%22%3A+%5B0%2C+0%2C+0%5D%2C+%22visible%22%3A+true%2C+%22slider%22%3A+%5B4%2C+5%5D%7D%5D%7D%5D%7D%2C+%22obsSetColor%22%3A+%7B%22A%22%3A+%5B%7B%22path%22%3A+%5B%22Cell+Type%22%2C+%22vessel%22%5D%2C+%22color%22%3A+%5B255%2C+0%2C+0%5D%7D%2C+%7B%22path%22%3A+%5B%22Cell+Type%22%2C+%22T-Killer%22%5D%2C+%22color%22%3A+%5B255%2C+0%2C+255%5D%7D%2C+%7B%22path%22%3A+%5B%22Cell+Type%22%2C+%22T-Killer_link%22%5D%2C+%22color%22%3A+%5B255%2C+0%2C+255%5D%7D%2C+%7B%22path%22%3A+%5B%22Cell+Type%22%2C+%22T-Helper%22%5D%2C+%22color%22%3A+%5B0%2C+0%2C+255%5D%7D%2C+%7B%22path%22%3A+%5B%22Cell+Type%22%2C+%22T-Helper_link%22%5D%2C+%22color%22%3A+%5B0%2C+0%2C+255%5D%7D%2C+%7B%22path%22%3A+%5B%22Cell+Type%22%2C+%22T-Reg%22%5D%2C+%22color%22%3A+%5B0%2C+255%2C+0%5D%7D%2C+%7B%22path%22%3A+%5B%22Cell+Type%22%2C+%22T-Reg_link%22%5D%2C+%22color%22%3A+%5B0%2C+255%2C+0%5D%7D%2C+%7B%22path%22%3A+%5B%22Cell+Type%22%2C+%22CD68%22%5D%2C+%22color%22%3A+%5B255%2C+215%2C+0%5D%7D%2C+%7B%22path%22%3A+%5B%22Cell+Type%22%2C+%22CD68_link%22%5D%2C+%22color%22%3A+%5B255%2C+215%2C+0%5D%7D%5D%7D%7D%2C+%22layout%22%3A+%5B%7B%22component%22%3A+%22spatial%22%2C+%22coordinationScopes%22%3A+%7B%22dataset%22%3A+%22A%22%2C+%22spatialZoom%22%3A+%22A%22%2C+%22spatialTargetX%22%3A+%22A%22%2C+%22spatialTargetY%22%3A+%22A%22%2C+%22spatialSegmentationLayer%22%3A+%22A%22%2C+%22obsSetColor%22%3A+%22A%22%7D%2C+%22x%22%3A+0.0%2C+%22y%22%3A+0%2C+%22w%22%3A+6.0%2C+%22h%22%3A+12%7D%2C+%7B%22component%22%3A+%22layerController%22%2C+%22coordinationScopes%22%3A+%7B%22dataset%22%3A+%22A%22%2C+%22spatialZoom%22%3A+%22A%22%2C+%22spatialTargetX%22%3A+%22A%22%2C+%22spatialTargetY%22%3A+%22A%22%2C+%22spatialSegmentationLayer%22%3A+%22A%22%2C+%22obsSetColor%22%3A+%22A%22%7D%2C+%22x%22%3A+6.0%2C+%22y%22%3A+0.0%2C+%22w%22%3A+6.0%2C+%22h%22%3A+6.0%7D%2C+%7B%22component%22%3A+%22obsSets%22%2C+%22coordinationScopes%22%3A+%7B%22dataset%22%3A+%22A%22%2C+%22obsSetColor%22%3A+%22A%22%7D%2C+%22x%22%3A+6.0%2C+%22y%22%3A+6.0%2C+%22w%22%3A+6.0%2C+%22h%22%3A+6.0%7D%5D%2C+%22initStrategy%22%3A+%22auto%22%7D\" target=\"_blank\">View on Vitessce.io</a>"
            ]
          },
          "metadata": {}
        },
        {
          "output_type": "stream",
          "name": "stdout",
          "text": [
            "5\n",
            "./images/cell_table_region_5.ome.tif\n"
          ]
        },
        {
          "output_type": "display_data",
          "data": {
            "text/plain": [
              "<IPython.core.display.HTML object>"
            ],
            "text/html": [
              "<a href=\"http://vitessce.io/#?theme=light&url=data:,%7B%22version%22%3A+%221.0.15%22%2C+%22name%22%3A+%22Transcriptomics+example%22%2C+%22description%22%3A+%22%22%2C+%22datasets%22%3A+%5B%7B%22uid%22%3A+%22A%22%2C+%22name%22%3A+%22Cell+segmentations%22%2C+%22files%22%3A+%5B%7B%22fileType%22%3A+%22raster.json%22%2C+%22options%22%3A+%7B%22schemaVersion%22%3A+%220.0.2%22%2C+%22images%22%3A+%5B%7B%22name%22%3A+%22Region+5+Segmentations%22%2C+%22type%22%3A+%22ome-tiff%22%2C+%22url%22%3A+%22http%3A%2F%2Flocalhost%3A8004%2FA%2F0%2F15c377c8-fc38-4ac4-8a39-1f7413931f40%22%2C+%22metadata%22%3A+%7B%22omeTiffOffsetsUrl%22%3A+%22http%3A%2F%2Flocalhost%3A8004%2FA%2F0%2F68880a84-9161-498c-ac6f-1f5ff8176aca%22%2C+%22isBitmask%22%3A+true%7D%7D%5D%7D%7D%2C+%7B%22fileType%22%3A+%22obsSets.csv%22%2C+%22url%22%3A+%22http%3A%2F%2Flocalhost%3A8004%2FA%2F1%2F81632654-9fd7-4ef3-8306-9853ad7fa1ae%22%2C+%22options%22%3A+%7B%22obsIndex%22%3A+%22cell_id%22%2C+%22obsSets%22%3A+%5B%7B%22name%22%3A+%22Cell+Type%22%2C+%22column%22%3A+%22cell_type%22%7D%5D%7D%7D%5D%7D%5D%2C+%22coordinationSpace%22%3A+%7B%22dataset%22%3A+%7B%22A%22%3A+%22A%22%7D%2C+%22spatialZoom%22%3A+%7B%22A%22%3A+-4%7D%2C+%22spatialTargetX%22%3A+%7B%22A%22%3A+7500%7D%2C+%22spatialTargetY%22%3A+%7B%22A%22%3A+7500%7D%2C+%22spatialSegmentationLayer%22%3A+%7B%22A%22%3A+%5B%7B%22type%22%3A+%22bitmask%22%2C+%22index%22%3A+0%2C+%22visible%22%3A+true%2C+%22colormap%22%3A+null%2C+%22opacity%22%3A+1%2C+%22domainType%22%3A+%22Min%2FMax%22%2C+%22transparentColor%22%3A+null%2C+%22renderingMode%22%3A+%22Additive%22%2C+%22use3d%22%3A+false%2C+%22channels%22%3A+%5B%7B%22selection%22%3A+%7B%22c%22%3A+0%2C+%22t%22%3A+0%2C+%22z%22%3A+0%7D%2C+%22color%22%3A+%5B0%2C+0%2C+0%5D%2C+%22visible%22%3A+true%2C+%22slider%22%3A+%5B0%2C+1%5D%7D%2C+%7B%22selection%22%3A+%7B%22c%22%3A+1%2C+%22t%22%3A+0%2C+%22z%22%3A+0%7D%2C+%22color%22%3A+%5B0%2C+0%2C+0%5D%2C+%22visible%22%3A+true%2C+%22slider%22%3A+%5B1%2C+2%5D%7D%2C+%7B%22selection%22%3A+%7B%22c%22%3A+2%2C+%22t%22%3A+0%2C+%22z%22%3A+0%7D%2C+%22color%22%3A+%5B0%2C+0%2C+0%5D%2C+%22visible%22%3A+true%2C+%22slider%22%3A+%5B2%2C+3%5D%7D%2C+%7B%22selection%22%3A+%7B%22c%22%3A+3%2C+%22t%22%3A+0%2C+%22z%22%3A+0%7D%2C+%22color%22%3A+%5B0%2C+0%2C+0%5D%2C+%22visible%22%3A+true%2C+%22slider%22%3A+%5B3%2C+4%5D%7D%2C+%7B%22selection%22%3A+%7B%22c%22%3A+4%2C+%22t%22%3A+0%2C+%22z%22%3A+0%7D%2C+%22color%22%3A+%5B0%2C+0%2C+0%5D%2C+%22visible%22%3A+true%2C+%22slider%22%3A+%5B4%2C+5%5D%7D%5D%7D%5D%7D%2C+%22obsSetColor%22%3A+%7B%22A%22%3A+%5B%7B%22path%22%3A+%5B%22Cell+Type%22%2C+%22vessel%22%5D%2C+%22color%22%3A+%5B255%2C+0%2C+0%5D%7D%2C+%7B%22path%22%3A+%5B%22Cell+Type%22%2C+%22T-Killer%22%5D%2C+%22color%22%3A+%5B255%2C+0%2C+255%5D%7D%2C+%7B%22path%22%3A+%5B%22Cell+Type%22%2C+%22T-Killer_link%22%5D%2C+%22color%22%3A+%5B255%2C+0%2C+255%5D%7D%2C+%7B%22path%22%3A+%5B%22Cell+Type%22%2C+%22T-Helper%22%5D%2C+%22color%22%3A+%5B0%2C+0%2C+255%5D%7D%2C+%7B%22path%22%3A+%5B%22Cell+Type%22%2C+%22T-Helper_link%22%5D%2C+%22color%22%3A+%5B0%2C+0%2C+255%5D%7D%2C+%7B%22path%22%3A+%5B%22Cell+Type%22%2C+%22T-Reg%22%5D%2C+%22color%22%3A+%5B0%2C+255%2C+0%5D%7D%2C+%7B%22path%22%3A+%5B%22Cell+Type%22%2C+%22T-Reg_link%22%5D%2C+%22color%22%3A+%5B0%2C+255%2C+0%5D%7D%2C+%7B%22path%22%3A+%5B%22Cell+Type%22%2C+%22CD68%22%5D%2C+%22color%22%3A+%5B255%2C+215%2C+0%5D%7D%2C+%7B%22path%22%3A+%5B%22Cell+Type%22%2C+%22CD68_link%22%5D%2C+%22color%22%3A+%5B255%2C+215%2C+0%5D%7D%5D%7D%7D%2C+%22layout%22%3A+%5B%7B%22component%22%3A+%22spatial%22%2C+%22coordinationScopes%22%3A+%7B%22dataset%22%3A+%22A%22%2C+%22spatialZoom%22%3A+%22A%22%2C+%22spatialTargetX%22%3A+%22A%22%2C+%22spatialTargetY%22%3A+%22A%22%2C+%22spatialSegmentationLayer%22%3A+%22A%22%2C+%22obsSetColor%22%3A+%22A%22%7D%2C+%22x%22%3A+0.0%2C+%22y%22%3A+0%2C+%22w%22%3A+6.0%2C+%22h%22%3A+12%7D%2C+%7B%22component%22%3A+%22layerController%22%2C+%22coordinationScopes%22%3A+%7B%22dataset%22%3A+%22A%22%2C+%22spatialZoom%22%3A+%22A%22%2C+%22spatialTargetX%22%3A+%22A%22%2C+%22spatialTargetY%22%3A+%22A%22%2C+%22spatialSegmentationLayer%22%3A+%22A%22%2C+%22obsSetColor%22%3A+%22A%22%7D%2C+%22x%22%3A+6.0%2C+%22y%22%3A+0.0%2C+%22w%22%3A+6.0%2C+%22h%22%3A+6.0%7D%2C+%7B%22component%22%3A+%22obsSets%22%2C+%22coordinationScopes%22%3A+%7B%22dataset%22%3A+%22A%22%2C+%22obsSetColor%22%3A+%22A%22%7D%2C+%22x%22%3A+6.0%2C+%22y%22%3A+6.0%2C+%22w%22%3A+6.0%2C+%22h%22%3A+6.0%7D%5D%2C+%22initStrategy%22%3A+%22auto%22%7D\" target=\"_blank\">View on Vitessce.io</a>"
            ]
          },
          "metadata": {}
        },
        {
          "output_type": "stream",
          "name": "stdout",
          "text": [
            "7\n",
            "./images/cell_table_region_7.ome.tif\n"
          ]
        },
        {
          "output_type": "display_data",
          "data": {
            "text/plain": [
              "<IPython.core.display.HTML object>"
            ],
            "text/html": [
              "<a href=\"http://vitessce.io/#?theme=light&url=data:,%7B%22version%22%3A+%221.0.15%22%2C+%22name%22%3A+%22Transcriptomics+example%22%2C+%22description%22%3A+%22%22%2C+%22datasets%22%3A+%5B%7B%22uid%22%3A+%22A%22%2C+%22name%22%3A+%22Cell+segmentations%22%2C+%22files%22%3A+%5B%7B%22fileType%22%3A+%22raster.json%22%2C+%22options%22%3A+%7B%22schemaVersion%22%3A+%220.0.2%22%2C+%22images%22%3A+%5B%7B%22name%22%3A+%22Region+7+Segmentations%22%2C+%22type%22%3A+%22ome-tiff%22%2C+%22url%22%3A+%22http%3A%2F%2Flocalhost%3A8005%2FA%2F0%2Fabb0ae06-a460-490d-8ebb-87ec652550cd%22%2C+%22metadata%22%3A+%7B%22omeTiffOffsetsUrl%22%3A+%22http%3A%2F%2Flocalhost%3A8005%2FA%2F0%2F6099dd1b-e14d-49c8-8a20-b18a625a894a%22%2C+%22isBitmask%22%3A+true%7D%7D%5D%7D%7D%2C+%7B%22fileType%22%3A+%22obsSets.csv%22%2C+%22url%22%3A+%22http%3A%2F%2Flocalhost%3A8005%2FA%2F1%2F8ce2a0aa-d5c5-45b6-a204-326829740ca2%22%2C+%22options%22%3A+%7B%22obsIndex%22%3A+%22cell_id%22%2C+%22obsSets%22%3A+%5B%7B%22name%22%3A+%22Cell+Type%22%2C+%22column%22%3A+%22cell_type%22%7D%5D%7D%7D%5D%7D%5D%2C+%22coordinationSpace%22%3A+%7B%22dataset%22%3A+%7B%22A%22%3A+%22A%22%7D%2C+%22spatialZoom%22%3A+%7B%22A%22%3A+-4%7D%2C+%22spatialTargetX%22%3A+%7B%22A%22%3A+7500%7D%2C+%22spatialTargetY%22%3A+%7B%22A%22%3A+7500%7D%2C+%22spatialSegmentationLayer%22%3A+%7B%22A%22%3A+%5B%7B%22type%22%3A+%22bitmask%22%2C+%22index%22%3A+0%2C+%22visible%22%3A+true%2C+%22colormap%22%3A+null%2C+%22opacity%22%3A+1%2C+%22domainType%22%3A+%22Min%2FMax%22%2C+%22transparentColor%22%3A+null%2C+%22renderingMode%22%3A+%22Additive%22%2C+%22use3d%22%3A+false%2C+%22channels%22%3A+%5B%7B%22selection%22%3A+%7B%22c%22%3A+0%2C+%22t%22%3A+0%2C+%22z%22%3A+0%7D%2C+%22color%22%3A+%5B0%2C+0%2C+0%5D%2C+%22visible%22%3A+true%2C+%22slider%22%3A+%5B0%2C+1%5D%7D%2C+%7B%22selection%22%3A+%7B%22c%22%3A+1%2C+%22t%22%3A+0%2C+%22z%22%3A+0%7D%2C+%22color%22%3A+%5B0%2C+0%2C+0%5D%2C+%22visible%22%3A+true%2C+%22slider%22%3A+%5B1%2C+2%5D%7D%2C+%7B%22selection%22%3A+%7B%22c%22%3A+2%2C+%22t%22%3A+0%2C+%22z%22%3A+0%7D%2C+%22color%22%3A+%5B0%2C+0%2C+0%5D%2C+%22visible%22%3A+true%2C+%22slider%22%3A+%5B2%2C+3%5D%7D%2C+%7B%22selection%22%3A+%7B%22c%22%3A+3%2C+%22t%22%3A+0%2C+%22z%22%3A+0%7D%2C+%22color%22%3A+%5B0%2C+0%2C+0%5D%2C+%22visible%22%3A+true%2C+%22slider%22%3A+%5B3%2C+4%5D%7D%2C+%7B%22selection%22%3A+%7B%22c%22%3A+4%2C+%22t%22%3A+0%2C+%22z%22%3A+0%7D%2C+%22color%22%3A+%5B0%2C+0%2C+0%5D%2C+%22visible%22%3A+true%2C+%22slider%22%3A+%5B4%2C+5%5D%7D%5D%7D%5D%7D%2C+%22obsSetColor%22%3A+%7B%22A%22%3A+%5B%7B%22path%22%3A+%5B%22Cell+Type%22%2C+%22vessel%22%5D%2C+%22color%22%3A+%5B255%2C+0%2C+0%5D%7D%2C+%7B%22path%22%3A+%5B%22Cell+Type%22%2C+%22T-Killer%22%5D%2C+%22color%22%3A+%5B255%2C+0%2C+255%5D%7D%2C+%7B%22path%22%3A+%5B%22Cell+Type%22%2C+%22T-Killer_link%22%5D%2C+%22color%22%3A+%5B255%2C+0%2C+255%5D%7D%2C+%7B%22path%22%3A+%5B%22Cell+Type%22%2C+%22T-Helper%22%5D%2C+%22color%22%3A+%5B0%2C+0%2C+255%5D%7D%2C+%7B%22path%22%3A+%5B%22Cell+Type%22%2C+%22T-Helper_link%22%5D%2C+%22color%22%3A+%5B0%2C+0%2C+255%5D%7D%2C+%7B%22path%22%3A+%5B%22Cell+Type%22%2C+%22T-Reg%22%5D%2C+%22color%22%3A+%5B0%2C+255%2C+0%5D%7D%2C+%7B%22path%22%3A+%5B%22Cell+Type%22%2C+%22T-Reg_link%22%5D%2C+%22color%22%3A+%5B0%2C+255%2C+0%5D%7D%2C+%7B%22path%22%3A+%5B%22Cell+Type%22%2C+%22CD68%22%5D%2C+%22color%22%3A+%5B255%2C+215%2C+0%5D%7D%2C+%7B%22path%22%3A+%5B%22Cell+Type%22%2C+%22CD68_link%22%5D%2C+%22color%22%3A+%5B255%2C+215%2C+0%5D%7D%5D%7D%7D%2C+%22layout%22%3A+%5B%7B%22component%22%3A+%22spatial%22%2C+%22coordinationScopes%22%3A+%7B%22dataset%22%3A+%22A%22%2C+%22spatialZoom%22%3A+%22A%22%2C+%22spatialTargetX%22%3A+%22A%22%2C+%22spatialTargetY%22%3A+%22A%22%2C+%22spatialSegmentationLayer%22%3A+%22A%22%2C+%22obsSetColor%22%3A+%22A%22%7D%2C+%22x%22%3A+0.0%2C+%22y%22%3A+0%2C+%22w%22%3A+6.0%2C+%22h%22%3A+12%7D%2C+%7B%22component%22%3A+%22layerController%22%2C+%22coordinationScopes%22%3A+%7B%22dataset%22%3A+%22A%22%2C+%22spatialZoom%22%3A+%22A%22%2C+%22spatialTargetX%22%3A+%22A%22%2C+%22spatialTargetY%22%3A+%22A%22%2C+%22spatialSegmentationLayer%22%3A+%22A%22%2C+%22obsSetColor%22%3A+%22A%22%7D%2C+%22x%22%3A+6.0%2C+%22y%22%3A+0.0%2C+%22w%22%3A+6.0%2C+%22h%22%3A+6.0%7D%2C+%7B%22component%22%3A+%22obsSets%22%2C+%22coordinationScopes%22%3A+%7B%22dataset%22%3A+%22A%22%2C+%22obsSetColor%22%3A+%22A%22%7D%2C+%22x%22%3A+6.0%2C+%22y%22%3A+6.0%2C+%22w%22%3A+6.0%2C+%22h%22%3A+6.0%7D%5D%2C+%22initStrategy%22%3A+%22auto%22%7D\" target=\"_blank\">View on Vitessce.io</a>"
            ]
          },
          "metadata": {}
        },
        {
          "output_type": "stream",
          "name": "stdout",
          "text": [
            "8\n",
            "./images/cell_table_region_8.ome.tif\n"
          ]
        },
        {
          "output_type": "display_data",
          "data": {
            "text/plain": [
              "<IPython.core.display.HTML object>"
            ],
            "text/html": [
              "<a href=\"http://vitessce.io/#?theme=light&url=data:,%7B%22version%22%3A+%221.0.15%22%2C+%22name%22%3A+%22Transcriptomics+example%22%2C+%22description%22%3A+%22%22%2C+%22datasets%22%3A+%5B%7B%22uid%22%3A+%22A%22%2C+%22name%22%3A+%22Cell+segmentations%22%2C+%22files%22%3A+%5B%7B%22fileType%22%3A+%22raster.json%22%2C+%22options%22%3A+%7B%22schemaVersion%22%3A+%220.0.2%22%2C+%22images%22%3A+%5B%7B%22name%22%3A+%22Region+8+Segmentations%22%2C+%22type%22%3A+%22ome-tiff%22%2C+%22url%22%3A+%22http%3A%2F%2Flocalhost%3A8006%2FA%2F0%2F82ec414b-fc7c-4bf7-ac4e-5b4c8c97ad0a%22%2C+%22metadata%22%3A+%7B%22omeTiffOffsetsUrl%22%3A+%22http%3A%2F%2Flocalhost%3A8006%2FA%2F0%2F1d82ed2b-c995-4955-ad3f-d45f2f307e56%22%2C+%22isBitmask%22%3A+true%7D%7D%5D%7D%7D%2C+%7B%22fileType%22%3A+%22obsSets.csv%22%2C+%22url%22%3A+%22http%3A%2F%2Flocalhost%3A8006%2FA%2F1%2F13dbaf67-0474-429a-8079-6510128d3d94%22%2C+%22options%22%3A+%7B%22obsIndex%22%3A+%22cell_id%22%2C+%22obsSets%22%3A+%5B%7B%22name%22%3A+%22Cell+Type%22%2C+%22column%22%3A+%22cell_type%22%7D%5D%7D%7D%5D%7D%5D%2C+%22coordinationSpace%22%3A+%7B%22dataset%22%3A+%7B%22A%22%3A+%22A%22%7D%2C+%22spatialZoom%22%3A+%7B%22A%22%3A+-4%7D%2C+%22spatialTargetX%22%3A+%7B%22A%22%3A+7500%7D%2C+%22spatialTargetY%22%3A+%7B%22A%22%3A+7500%7D%2C+%22spatialSegmentationLayer%22%3A+%7B%22A%22%3A+%5B%7B%22type%22%3A+%22bitmask%22%2C+%22index%22%3A+0%2C+%22visible%22%3A+true%2C+%22colormap%22%3A+null%2C+%22opacity%22%3A+1%2C+%22domainType%22%3A+%22Min%2FMax%22%2C+%22transparentColor%22%3A+null%2C+%22renderingMode%22%3A+%22Additive%22%2C+%22use3d%22%3A+false%2C+%22channels%22%3A+%5B%7B%22selection%22%3A+%7B%22c%22%3A+0%2C+%22t%22%3A+0%2C+%22z%22%3A+0%7D%2C+%22color%22%3A+%5B0%2C+0%2C+0%5D%2C+%22visible%22%3A+true%2C+%22slider%22%3A+%5B0%2C+1%5D%7D%2C+%7B%22selection%22%3A+%7B%22c%22%3A+1%2C+%22t%22%3A+0%2C+%22z%22%3A+0%7D%2C+%22color%22%3A+%5B0%2C+0%2C+0%5D%2C+%22visible%22%3A+true%2C+%22slider%22%3A+%5B1%2C+2%5D%7D%2C+%7B%22selection%22%3A+%7B%22c%22%3A+2%2C+%22t%22%3A+0%2C+%22z%22%3A+0%7D%2C+%22color%22%3A+%5B0%2C+0%2C+0%5D%2C+%22visible%22%3A+true%2C+%22slider%22%3A+%5B2%2C+3%5D%7D%2C+%7B%22selection%22%3A+%7B%22c%22%3A+3%2C+%22t%22%3A+0%2C+%22z%22%3A+0%7D%2C+%22color%22%3A+%5B0%2C+0%2C+0%5D%2C+%22visible%22%3A+true%2C+%22slider%22%3A+%5B3%2C+4%5D%7D%2C+%7B%22selection%22%3A+%7B%22c%22%3A+4%2C+%22t%22%3A+0%2C+%22z%22%3A+0%7D%2C+%22color%22%3A+%5B0%2C+0%2C+0%5D%2C+%22visible%22%3A+true%2C+%22slider%22%3A+%5B4%2C+5%5D%7D%5D%7D%5D%7D%2C+%22obsSetColor%22%3A+%7B%22A%22%3A+%5B%7B%22path%22%3A+%5B%22Cell+Type%22%2C+%22vessel%22%5D%2C+%22color%22%3A+%5B255%2C+0%2C+0%5D%7D%2C+%7B%22path%22%3A+%5B%22Cell+Type%22%2C+%22T-Killer%22%5D%2C+%22color%22%3A+%5B255%2C+0%2C+255%5D%7D%2C+%7B%22path%22%3A+%5B%22Cell+Type%22%2C+%22T-Killer_link%22%5D%2C+%22color%22%3A+%5B255%2C+0%2C+255%5D%7D%2C+%7B%22path%22%3A+%5B%22Cell+Type%22%2C+%22T-Helper%22%5D%2C+%22color%22%3A+%5B0%2C+0%2C+255%5D%7D%2C+%7B%22path%22%3A+%5B%22Cell+Type%22%2C+%22T-Helper_link%22%5D%2C+%22color%22%3A+%5B0%2C+0%2C+255%5D%7D%2C+%7B%22path%22%3A+%5B%22Cell+Type%22%2C+%22T-Reg%22%5D%2C+%22color%22%3A+%5B0%2C+255%2C+0%5D%7D%2C+%7B%22path%22%3A+%5B%22Cell+Type%22%2C+%22T-Reg_link%22%5D%2C+%22color%22%3A+%5B0%2C+255%2C+0%5D%7D%2C+%7B%22path%22%3A+%5B%22Cell+Type%22%2C+%22CD68%22%5D%2C+%22color%22%3A+%5B255%2C+215%2C+0%5D%7D%2C+%7B%22path%22%3A+%5B%22Cell+Type%22%2C+%22CD68_link%22%5D%2C+%22color%22%3A+%5B255%2C+215%2C+0%5D%7D%5D%7D%7D%2C+%22layout%22%3A+%5B%7B%22component%22%3A+%22spatial%22%2C+%22coordinationScopes%22%3A+%7B%22dataset%22%3A+%22A%22%2C+%22spatialZoom%22%3A+%22A%22%2C+%22spatialTargetX%22%3A+%22A%22%2C+%22spatialTargetY%22%3A+%22A%22%2C+%22spatialSegmentationLayer%22%3A+%22A%22%2C+%22obsSetColor%22%3A+%22A%22%7D%2C+%22x%22%3A+0.0%2C+%22y%22%3A+0%2C+%22w%22%3A+6.0%2C+%22h%22%3A+12%7D%2C+%7B%22component%22%3A+%22layerController%22%2C+%22coordinationScopes%22%3A+%7B%22dataset%22%3A+%22A%22%2C+%22spatialZoom%22%3A+%22A%22%2C+%22spatialTargetX%22%3A+%22A%22%2C+%22spatialTargetY%22%3A+%22A%22%2C+%22spatialSegmentationLayer%22%3A+%22A%22%2C+%22obsSetColor%22%3A+%22A%22%7D%2C+%22x%22%3A+6.0%2C+%22y%22%3A+0.0%2C+%22w%22%3A+6.0%2C+%22h%22%3A+6.0%7D%2C+%7B%22component%22%3A+%22obsSets%22%2C+%22coordinationScopes%22%3A+%7B%22dataset%22%3A+%22A%22%2C+%22obsSetColor%22%3A+%22A%22%7D%2C+%22x%22%3A+6.0%2C+%22y%22%3A+6.0%2C+%22w%22%3A+6.0%2C+%22h%22%3A+6.0%7D%5D%2C+%22initStrategy%22%3A+%22auto%22%7D\" target=\"_blank\">View on Vitessce.io</a>"
            ]
          },
          "metadata": {}
        },
        {
          "output_type": "stream",
          "name": "stdout",
          "text": [
            "9\n",
            "./images/cell_table_region_9.ome.tif\n"
          ]
        },
        {
          "output_type": "display_data",
          "data": {
            "text/plain": [
              "<IPython.core.display.HTML object>"
            ],
            "text/html": [
              "<a href=\"http://vitessce.io/#?theme=light&url=data:,%7B%22version%22%3A+%221.0.15%22%2C+%22name%22%3A+%22Transcriptomics+example%22%2C+%22description%22%3A+%22%22%2C+%22datasets%22%3A+%5B%7B%22uid%22%3A+%22A%22%2C+%22name%22%3A+%22Cell+segmentations%22%2C+%22files%22%3A+%5B%7B%22fileType%22%3A+%22raster.json%22%2C+%22options%22%3A+%7B%22schemaVersion%22%3A+%220.0.2%22%2C+%22images%22%3A+%5B%7B%22name%22%3A+%22Region+9+Segmentations%22%2C+%22type%22%3A+%22ome-tiff%22%2C+%22url%22%3A+%22http%3A%2F%2Flocalhost%3A8007%2FA%2F0%2F47c4725d-b3c7-4235-99df-0311ceb0f5e9%22%2C+%22metadata%22%3A+%7B%22omeTiffOffsetsUrl%22%3A+%22http%3A%2F%2Flocalhost%3A8007%2FA%2F0%2F4e30b798-09b4-43a0-8ad5-014087ee6f41%22%2C+%22isBitmask%22%3A+true%7D%7D%5D%7D%7D%2C+%7B%22fileType%22%3A+%22obsSets.csv%22%2C+%22url%22%3A+%22http%3A%2F%2Flocalhost%3A8007%2FA%2F1%2F1d78966e-2390-4cba-8ba8-e9aeec72cd8b%22%2C+%22options%22%3A+%7B%22obsIndex%22%3A+%22cell_id%22%2C+%22obsSets%22%3A+%5B%7B%22name%22%3A+%22Cell+Type%22%2C+%22column%22%3A+%22cell_type%22%7D%5D%7D%7D%5D%7D%5D%2C+%22coordinationSpace%22%3A+%7B%22dataset%22%3A+%7B%22A%22%3A+%22A%22%7D%2C+%22spatialZoom%22%3A+%7B%22A%22%3A+-4%7D%2C+%22spatialTargetX%22%3A+%7B%22A%22%3A+7500%7D%2C+%22spatialTargetY%22%3A+%7B%22A%22%3A+7500%7D%2C+%22spatialSegmentationLayer%22%3A+%7B%22A%22%3A+%5B%7B%22type%22%3A+%22bitmask%22%2C+%22index%22%3A+0%2C+%22visible%22%3A+true%2C+%22colormap%22%3A+null%2C+%22opacity%22%3A+1%2C+%22domainType%22%3A+%22Min%2FMax%22%2C+%22transparentColor%22%3A+null%2C+%22renderingMode%22%3A+%22Additive%22%2C+%22use3d%22%3A+false%2C+%22channels%22%3A+%5B%7B%22selection%22%3A+%7B%22c%22%3A+0%2C+%22t%22%3A+0%2C+%22z%22%3A+0%7D%2C+%22color%22%3A+%5B0%2C+0%2C+0%5D%2C+%22visible%22%3A+true%2C+%22slider%22%3A+%5B0%2C+1%5D%7D%2C+%7B%22selection%22%3A+%7B%22c%22%3A+1%2C+%22t%22%3A+0%2C+%22z%22%3A+0%7D%2C+%22color%22%3A+%5B0%2C+0%2C+0%5D%2C+%22visible%22%3A+true%2C+%22slider%22%3A+%5B1%2C+2%5D%7D%2C+%7B%22selection%22%3A+%7B%22c%22%3A+2%2C+%22t%22%3A+0%2C+%22z%22%3A+0%7D%2C+%22color%22%3A+%5B0%2C+0%2C+0%5D%2C+%22visible%22%3A+true%2C+%22slider%22%3A+%5B2%2C+3%5D%7D%2C+%7B%22selection%22%3A+%7B%22c%22%3A+3%2C+%22t%22%3A+0%2C+%22z%22%3A+0%7D%2C+%22color%22%3A+%5B0%2C+0%2C+0%5D%2C+%22visible%22%3A+true%2C+%22slider%22%3A+%5B3%2C+4%5D%7D%2C+%7B%22selection%22%3A+%7B%22c%22%3A+4%2C+%22t%22%3A+0%2C+%22z%22%3A+0%7D%2C+%22color%22%3A+%5B0%2C+0%2C+0%5D%2C+%22visible%22%3A+true%2C+%22slider%22%3A+%5B4%2C+5%5D%7D%5D%7D%5D%7D%2C+%22obsSetColor%22%3A+%7B%22A%22%3A+%5B%7B%22path%22%3A+%5B%22Cell+Type%22%2C+%22vessel%22%5D%2C+%22color%22%3A+%5B255%2C+0%2C+0%5D%7D%2C+%7B%22path%22%3A+%5B%22Cell+Type%22%2C+%22T-Killer%22%5D%2C+%22color%22%3A+%5B255%2C+0%2C+255%5D%7D%2C+%7B%22path%22%3A+%5B%22Cell+Type%22%2C+%22T-Killer_link%22%5D%2C+%22color%22%3A+%5B255%2C+0%2C+255%5D%7D%2C+%7B%22path%22%3A+%5B%22Cell+Type%22%2C+%22T-Helper%22%5D%2C+%22color%22%3A+%5B0%2C+0%2C+255%5D%7D%2C+%7B%22path%22%3A+%5B%22Cell+Type%22%2C+%22T-Helper_link%22%5D%2C+%22color%22%3A+%5B0%2C+0%2C+255%5D%7D%2C+%7B%22path%22%3A+%5B%22Cell+Type%22%2C+%22T-Reg%22%5D%2C+%22color%22%3A+%5B0%2C+255%2C+0%5D%7D%2C+%7B%22path%22%3A+%5B%22Cell+Type%22%2C+%22T-Reg_link%22%5D%2C+%22color%22%3A+%5B0%2C+255%2C+0%5D%7D%2C+%7B%22path%22%3A+%5B%22Cell+Type%22%2C+%22CD68%22%5D%2C+%22color%22%3A+%5B255%2C+215%2C+0%5D%7D%2C+%7B%22path%22%3A+%5B%22Cell+Type%22%2C+%22CD68_link%22%5D%2C+%22color%22%3A+%5B255%2C+215%2C+0%5D%7D%5D%7D%7D%2C+%22layout%22%3A+%5B%7B%22component%22%3A+%22spatial%22%2C+%22coordinationScopes%22%3A+%7B%22dataset%22%3A+%22A%22%2C+%22spatialZoom%22%3A+%22A%22%2C+%22spatialTargetX%22%3A+%22A%22%2C+%22spatialTargetY%22%3A+%22A%22%2C+%22spatialSegmentationLayer%22%3A+%22A%22%2C+%22obsSetColor%22%3A+%22A%22%7D%2C+%22x%22%3A+0.0%2C+%22y%22%3A+0%2C+%22w%22%3A+6.0%2C+%22h%22%3A+12%7D%2C+%7B%22component%22%3A+%22layerController%22%2C+%22coordinationScopes%22%3A+%7B%22dataset%22%3A+%22A%22%2C+%22spatialZoom%22%3A+%22A%22%2C+%22spatialTargetX%22%3A+%22A%22%2C+%22spatialTargetY%22%3A+%22A%22%2C+%22spatialSegmentationLayer%22%3A+%22A%22%2C+%22obsSetColor%22%3A+%22A%22%7D%2C+%22x%22%3A+6.0%2C+%22y%22%3A+0.0%2C+%22w%22%3A+6.0%2C+%22h%22%3A+6.0%7D%2C+%7B%22component%22%3A+%22obsSets%22%2C+%22coordinationScopes%22%3A+%7B%22dataset%22%3A+%22A%22%2C+%22obsSetColor%22%3A+%22A%22%7D%2C+%22x%22%3A+6.0%2C+%22y%22%3A+6.0%2C+%22w%22%3A+6.0%2C+%22h%22%3A+6.0%7D%5D%2C+%22initStrategy%22%3A+%22auto%22%7D\" target=\"_blank\">View on Vitessce.io</a>"
            ]
          },
          "metadata": {}
        },
        {
          "output_type": "stream",
          "name": "stdout",
          "text": [
            "10\n",
            "./images/cell_table_region_10.ome.tif\n"
          ]
        },
        {
          "output_type": "display_data",
          "data": {
            "text/plain": [
              "<IPython.core.display.HTML object>"
            ],
            "text/html": [
              "<a href=\"http://vitessce.io/#?theme=light&url=data:,%7B%22version%22%3A+%221.0.15%22%2C+%22name%22%3A+%22Transcriptomics+example%22%2C+%22description%22%3A+%22%22%2C+%22datasets%22%3A+%5B%7B%22uid%22%3A+%22A%22%2C+%22name%22%3A+%22Cell+segmentations%22%2C+%22files%22%3A+%5B%7B%22fileType%22%3A+%22raster.json%22%2C+%22options%22%3A+%7B%22schemaVersion%22%3A+%220.0.2%22%2C+%22images%22%3A+%5B%7B%22name%22%3A+%22Region+10+Segmentations%22%2C+%22type%22%3A+%22ome-tiff%22%2C+%22url%22%3A+%22http%3A%2F%2Flocalhost%3A8008%2FA%2F0%2Fd95f24f4-21b8-4516-bc85-a667c64e8414%22%2C+%22metadata%22%3A+%7B%22omeTiffOffsetsUrl%22%3A+%22http%3A%2F%2Flocalhost%3A8008%2FA%2F0%2F1e227e30-d72d-4ce8-91e1-ff3397cc3705%22%2C+%22isBitmask%22%3A+true%7D%7D%5D%7D%7D%2C+%7B%22fileType%22%3A+%22obsSets.csv%22%2C+%22url%22%3A+%22http%3A%2F%2Flocalhost%3A8008%2FA%2F1%2F6625e5fe-41ef-468d-92f1-ad3b745d15b3%22%2C+%22options%22%3A+%7B%22obsIndex%22%3A+%22cell_id%22%2C+%22obsSets%22%3A+%5B%7B%22name%22%3A+%22Cell+Type%22%2C+%22column%22%3A+%22cell_type%22%7D%5D%7D%7D%5D%7D%5D%2C+%22coordinationSpace%22%3A+%7B%22dataset%22%3A+%7B%22A%22%3A+%22A%22%7D%2C+%22spatialZoom%22%3A+%7B%22A%22%3A+-4%7D%2C+%22spatialTargetX%22%3A+%7B%22A%22%3A+7500%7D%2C+%22spatialTargetY%22%3A+%7B%22A%22%3A+7500%7D%2C+%22spatialSegmentationLayer%22%3A+%7B%22A%22%3A+%5B%7B%22type%22%3A+%22bitmask%22%2C+%22index%22%3A+0%2C+%22visible%22%3A+true%2C+%22colormap%22%3A+null%2C+%22opacity%22%3A+1%2C+%22domainType%22%3A+%22Min%2FMax%22%2C+%22transparentColor%22%3A+null%2C+%22renderingMode%22%3A+%22Additive%22%2C+%22use3d%22%3A+false%2C+%22channels%22%3A+%5B%7B%22selection%22%3A+%7B%22c%22%3A+0%2C+%22t%22%3A+0%2C+%22z%22%3A+0%7D%2C+%22color%22%3A+%5B0%2C+0%2C+0%5D%2C+%22visible%22%3A+true%2C+%22slider%22%3A+%5B0%2C+1%5D%7D%2C+%7B%22selection%22%3A+%7B%22c%22%3A+1%2C+%22t%22%3A+0%2C+%22z%22%3A+0%7D%2C+%22color%22%3A+%5B0%2C+0%2C+0%5D%2C+%22visible%22%3A+true%2C+%22slider%22%3A+%5B1%2C+2%5D%7D%2C+%7B%22selection%22%3A+%7B%22c%22%3A+2%2C+%22t%22%3A+0%2C+%22z%22%3A+0%7D%2C+%22color%22%3A+%5B0%2C+0%2C+0%5D%2C+%22visible%22%3A+true%2C+%22slider%22%3A+%5B2%2C+3%5D%7D%2C+%7B%22selection%22%3A+%7B%22c%22%3A+3%2C+%22t%22%3A+0%2C+%22z%22%3A+0%7D%2C+%22color%22%3A+%5B0%2C+0%2C+0%5D%2C+%22visible%22%3A+true%2C+%22slider%22%3A+%5B3%2C+4%5D%7D%2C+%7B%22selection%22%3A+%7B%22c%22%3A+4%2C+%22t%22%3A+0%2C+%22z%22%3A+0%7D%2C+%22color%22%3A+%5B0%2C+0%2C+0%5D%2C+%22visible%22%3A+true%2C+%22slider%22%3A+%5B4%2C+5%5D%7D%5D%7D%5D%7D%2C+%22obsSetColor%22%3A+%7B%22A%22%3A+%5B%7B%22path%22%3A+%5B%22Cell+Type%22%2C+%22vessel%22%5D%2C+%22color%22%3A+%5B255%2C+0%2C+0%5D%7D%2C+%7B%22path%22%3A+%5B%22Cell+Type%22%2C+%22T-Killer%22%5D%2C+%22color%22%3A+%5B255%2C+0%2C+255%5D%7D%2C+%7B%22path%22%3A+%5B%22Cell+Type%22%2C+%22T-Killer_link%22%5D%2C+%22color%22%3A+%5B255%2C+0%2C+255%5D%7D%2C+%7B%22path%22%3A+%5B%22Cell+Type%22%2C+%22T-Helper%22%5D%2C+%22color%22%3A+%5B0%2C+0%2C+255%5D%7D%2C+%7B%22path%22%3A+%5B%22Cell+Type%22%2C+%22T-Helper_link%22%5D%2C+%22color%22%3A+%5B0%2C+0%2C+255%5D%7D%2C+%7B%22path%22%3A+%5B%22Cell+Type%22%2C+%22T-Reg%22%5D%2C+%22color%22%3A+%5B0%2C+255%2C+0%5D%7D%2C+%7B%22path%22%3A+%5B%22Cell+Type%22%2C+%22T-Reg_link%22%5D%2C+%22color%22%3A+%5B0%2C+255%2C+0%5D%7D%2C+%7B%22path%22%3A+%5B%22Cell+Type%22%2C+%22CD68%22%5D%2C+%22color%22%3A+%5B255%2C+215%2C+0%5D%7D%2C+%7B%22path%22%3A+%5B%22Cell+Type%22%2C+%22CD68_link%22%5D%2C+%22color%22%3A+%5B255%2C+215%2C+0%5D%7D%5D%7D%7D%2C+%22layout%22%3A+%5B%7B%22component%22%3A+%22spatial%22%2C+%22coordinationScopes%22%3A+%7B%22dataset%22%3A+%22A%22%2C+%22spatialZoom%22%3A+%22A%22%2C+%22spatialTargetX%22%3A+%22A%22%2C+%22spatialTargetY%22%3A+%22A%22%2C+%22spatialSegmentationLayer%22%3A+%22A%22%2C+%22obsSetColor%22%3A+%22A%22%7D%2C+%22x%22%3A+0.0%2C+%22y%22%3A+0%2C+%22w%22%3A+6.0%2C+%22h%22%3A+12%7D%2C+%7B%22component%22%3A+%22layerController%22%2C+%22coordinationScopes%22%3A+%7B%22dataset%22%3A+%22A%22%2C+%22spatialZoom%22%3A+%22A%22%2C+%22spatialTargetX%22%3A+%22A%22%2C+%22spatialTargetY%22%3A+%22A%22%2C+%22spatialSegmentationLayer%22%3A+%22A%22%2C+%22obsSetColor%22%3A+%22A%22%7D%2C+%22x%22%3A+6.0%2C+%22y%22%3A+0.0%2C+%22w%22%3A+6.0%2C+%22h%22%3A+6.0%7D%2C+%7B%22component%22%3A+%22obsSets%22%2C+%22coordinationScopes%22%3A+%7B%22dataset%22%3A+%22A%22%2C+%22obsSetColor%22%3A+%22A%22%7D%2C+%22x%22%3A+6.0%2C+%22y%22%3A+6.0%2C+%22w%22%3A+6.0%2C+%22h%22%3A+6.0%7D%5D%2C+%22initStrategy%22%3A+%22auto%22%7D\" target=\"_blank\">View on Vitessce.io</a>"
            ]
          },
          "metadata": {}
        },
        {
          "output_type": "stream",
          "name": "stdout",
          "text": [
            "11\n",
            "./images/cell_table_region_11.ome.tif\n"
          ]
        },
        {
          "output_type": "display_data",
          "data": {
            "text/plain": [
              "<IPython.core.display.HTML object>"
            ],
            "text/html": [
              "<a href=\"http://vitessce.io/#?theme=light&url=data:,%7B%22version%22%3A+%221.0.15%22%2C+%22name%22%3A+%22Transcriptomics+example%22%2C+%22description%22%3A+%22%22%2C+%22datasets%22%3A+%5B%7B%22uid%22%3A+%22A%22%2C+%22name%22%3A+%22Cell+segmentations%22%2C+%22files%22%3A+%5B%7B%22fileType%22%3A+%22raster.json%22%2C+%22options%22%3A+%7B%22schemaVersion%22%3A+%220.0.2%22%2C+%22images%22%3A+%5B%7B%22name%22%3A+%22Region+11+Segmentations%22%2C+%22type%22%3A+%22ome-tiff%22%2C+%22url%22%3A+%22http%3A%2F%2Flocalhost%3A8009%2FA%2F0%2F0ec82a9f-9a9e-4a66-bf28-0e5b36f94aae%22%2C+%22metadata%22%3A+%7B%22omeTiffOffsetsUrl%22%3A+%22http%3A%2F%2Flocalhost%3A8009%2FA%2F0%2F4c6066ca-691b-4b40-b640-54a392958e85%22%2C+%22isBitmask%22%3A+true%7D%7D%5D%7D%7D%2C+%7B%22fileType%22%3A+%22obsSets.csv%22%2C+%22url%22%3A+%22http%3A%2F%2Flocalhost%3A8009%2FA%2F1%2F6f16d49b-50d9-463f-8e27-1139184178ad%22%2C+%22options%22%3A+%7B%22obsIndex%22%3A+%22cell_id%22%2C+%22obsSets%22%3A+%5B%7B%22name%22%3A+%22Cell+Type%22%2C+%22column%22%3A+%22cell_type%22%7D%5D%7D%7D%5D%7D%5D%2C+%22coordinationSpace%22%3A+%7B%22dataset%22%3A+%7B%22A%22%3A+%22A%22%7D%2C+%22spatialZoom%22%3A+%7B%22A%22%3A+-4%7D%2C+%22spatialTargetX%22%3A+%7B%22A%22%3A+7500%7D%2C+%22spatialTargetY%22%3A+%7B%22A%22%3A+7500%7D%2C+%22spatialSegmentationLayer%22%3A+%7B%22A%22%3A+%5B%7B%22type%22%3A+%22bitmask%22%2C+%22index%22%3A+0%2C+%22visible%22%3A+true%2C+%22colormap%22%3A+null%2C+%22opacity%22%3A+1%2C+%22domainType%22%3A+%22Min%2FMax%22%2C+%22transparentColor%22%3A+null%2C+%22renderingMode%22%3A+%22Additive%22%2C+%22use3d%22%3A+false%2C+%22channels%22%3A+%5B%7B%22selection%22%3A+%7B%22c%22%3A+0%2C+%22t%22%3A+0%2C+%22z%22%3A+0%7D%2C+%22color%22%3A+%5B0%2C+0%2C+0%5D%2C+%22visible%22%3A+true%2C+%22slider%22%3A+%5B0%2C+1%5D%7D%2C+%7B%22selection%22%3A+%7B%22c%22%3A+1%2C+%22t%22%3A+0%2C+%22z%22%3A+0%7D%2C+%22color%22%3A+%5B0%2C+0%2C+0%5D%2C+%22visible%22%3A+true%2C+%22slider%22%3A+%5B1%2C+2%5D%7D%2C+%7B%22selection%22%3A+%7B%22c%22%3A+2%2C+%22t%22%3A+0%2C+%22z%22%3A+0%7D%2C+%22color%22%3A+%5B0%2C+0%2C+0%5D%2C+%22visible%22%3A+true%2C+%22slider%22%3A+%5B2%2C+3%5D%7D%2C+%7B%22selection%22%3A+%7B%22c%22%3A+3%2C+%22t%22%3A+0%2C+%22z%22%3A+0%7D%2C+%22color%22%3A+%5B0%2C+0%2C+0%5D%2C+%22visible%22%3A+true%2C+%22slider%22%3A+%5B3%2C+4%5D%7D%2C+%7B%22selection%22%3A+%7B%22c%22%3A+4%2C+%22t%22%3A+0%2C+%22z%22%3A+0%7D%2C+%22color%22%3A+%5B0%2C+0%2C+0%5D%2C+%22visible%22%3A+true%2C+%22slider%22%3A+%5B4%2C+5%5D%7D%5D%7D%5D%7D%2C+%22obsSetColor%22%3A+%7B%22A%22%3A+%5B%7B%22path%22%3A+%5B%22Cell+Type%22%2C+%22vessel%22%5D%2C+%22color%22%3A+%5B255%2C+0%2C+0%5D%7D%2C+%7B%22path%22%3A+%5B%22Cell+Type%22%2C+%22T-Killer%22%5D%2C+%22color%22%3A+%5B255%2C+0%2C+255%5D%7D%2C+%7B%22path%22%3A+%5B%22Cell+Type%22%2C+%22T-Killer_link%22%5D%2C+%22color%22%3A+%5B255%2C+0%2C+255%5D%7D%2C+%7B%22path%22%3A+%5B%22Cell+Type%22%2C+%22T-Helper%22%5D%2C+%22color%22%3A+%5B0%2C+0%2C+255%5D%7D%2C+%7B%22path%22%3A+%5B%22Cell+Type%22%2C+%22T-Helper_link%22%5D%2C+%22color%22%3A+%5B0%2C+0%2C+255%5D%7D%2C+%7B%22path%22%3A+%5B%22Cell+Type%22%2C+%22T-Reg%22%5D%2C+%22color%22%3A+%5B0%2C+255%2C+0%5D%7D%2C+%7B%22path%22%3A+%5B%22Cell+Type%22%2C+%22T-Reg_link%22%5D%2C+%22color%22%3A+%5B0%2C+255%2C+0%5D%7D%2C+%7B%22path%22%3A+%5B%22Cell+Type%22%2C+%22CD68%22%5D%2C+%22color%22%3A+%5B255%2C+215%2C+0%5D%7D%2C+%7B%22path%22%3A+%5B%22Cell+Type%22%2C+%22CD68_link%22%5D%2C+%22color%22%3A+%5B255%2C+215%2C+0%5D%7D%5D%7D%7D%2C+%22layout%22%3A+%5B%7B%22component%22%3A+%22spatial%22%2C+%22coordinationScopes%22%3A+%7B%22dataset%22%3A+%22A%22%2C+%22spatialZoom%22%3A+%22A%22%2C+%22spatialTargetX%22%3A+%22A%22%2C+%22spatialTargetY%22%3A+%22A%22%2C+%22spatialSegmentationLayer%22%3A+%22A%22%2C+%22obsSetColor%22%3A+%22A%22%7D%2C+%22x%22%3A+0.0%2C+%22y%22%3A+0%2C+%22w%22%3A+6.0%2C+%22h%22%3A+12%7D%2C+%7B%22component%22%3A+%22layerController%22%2C+%22coordinationScopes%22%3A+%7B%22dataset%22%3A+%22A%22%2C+%22spatialZoom%22%3A+%22A%22%2C+%22spatialTargetX%22%3A+%22A%22%2C+%22spatialTargetY%22%3A+%22A%22%2C+%22spatialSegmentationLayer%22%3A+%22A%22%2C+%22obsSetColor%22%3A+%22A%22%7D%2C+%22x%22%3A+6.0%2C+%22y%22%3A+0.0%2C+%22w%22%3A+6.0%2C+%22h%22%3A+6.0%7D%2C+%7B%22component%22%3A+%22obsSets%22%2C+%22coordinationScopes%22%3A+%7B%22dataset%22%3A+%22A%22%2C+%22obsSetColor%22%3A+%22A%22%7D%2C+%22x%22%3A+6.0%2C+%22y%22%3A+6.0%2C+%22w%22%3A+6.0%2C+%22h%22%3A+6.0%7D%5D%2C+%22initStrategy%22%3A+%22auto%22%7D\" target=\"_blank\">View on Vitessce.io</a>"
            ]
          },
          "metadata": {}
        },
        {
          "output_type": "stream",
          "name": "stdout",
          "text": [
            "12\n",
            "./images/cell_table_region_12.ome.tif\n"
          ]
        },
        {
          "output_type": "display_data",
          "data": {
            "text/plain": [
              "<IPython.core.display.HTML object>"
            ],
            "text/html": [
              "<a href=\"http://vitessce.io/#?theme=light&url=data:,%7B%22version%22%3A+%221.0.15%22%2C+%22name%22%3A+%22Transcriptomics+example%22%2C+%22description%22%3A+%22%22%2C+%22datasets%22%3A+%5B%7B%22uid%22%3A+%22A%22%2C+%22name%22%3A+%22Cell+segmentations%22%2C+%22files%22%3A+%5B%7B%22fileType%22%3A+%22raster.json%22%2C+%22options%22%3A+%7B%22schemaVersion%22%3A+%220.0.2%22%2C+%22images%22%3A+%5B%7B%22name%22%3A+%22Region+12+Segmentations%22%2C+%22type%22%3A+%22ome-tiff%22%2C+%22url%22%3A+%22http%3A%2F%2Flocalhost%3A8010%2FA%2F0%2F04a126bb-b472-4734-bd53-f3abe7a340fb%22%2C+%22metadata%22%3A+%7B%22omeTiffOffsetsUrl%22%3A+%22http%3A%2F%2Flocalhost%3A8010%2FA%2F0%2F5faf337d-58c3-4ca0-8a15-3930c7483e29%22%2C+%22isBitmask%22%3A+true%7D%7D%5D%7D%7D%2C+%7B%22fileType%22%3A+%22obsSets.csv%22%2C+%22url%22%3A+%22http%3A%2F%2Flocalhost%3A8010%2FA%2F1%2F1acde909-4cfd-4d94-a78b-9b7b55b21ffb%22%2C+%22options%22%3A+%7B%22obsIndex%22%3A+%22cell_id%22%2C+%22obsSets%22%3A+%5B%7B%22name%22%3A+%22Cell+Type%22%2C+%22column%22%3A+%22cell_type%22%7D%5D%7D%7D%5D%7D%5D%2C+%22coordinationSpace%22%3A+%7B%22dataset%22%3A+%7B%22A%22%3A+%22A%22%7D%2C+%22spatialZoom%22%3A+%7B%22A%22%3A+-4%7D%2C+%22spatialTargetX%22%3A+%7B%22A%22%3A+7500%7D%2C+%22spatialTargetY%22%3A+%7B%22A%22%3A+7500%7D%2C+%22spatialSegmentationLayer%22%3A+%7B%22A%22%3A+%5B%7B%22type%22%3A+%22bitmask%22%2C+%22index%22%3A+0%2C+%22visible%22%3A+true%2C+%22colormap%22%3A+null%2C+%22opacity%22%3A+1%2C+%22domainType%22%3A+%22Min%2FMax%22%2C+%22transparentColor%22%3A+null%2C+%22renderingMode%22%3A+%22Additive%22%2C+%22use3d%22%3A+false%2C+%22channels%22%3A+%5B%7B%22selection%22%3A+%7B%22c%22%3A+0%2C+%22t%22%3A+0%2C+%22z%22%3A+0%7D%2C+%22color%22%3A+%5B0%2C+0%2C+0%5D%2C+%22visible%22%3A+true%2C+%22slider%22%3A+%5B0%2C+1%5D%7D%2C+%7B%22selection%22%3A+%7B%22c%22%3A+1%2C+%22t%22%3A+0%2C+%22z%22%3A+0%7D%2C+%22color%22%3A+%5B0%2C+0%2C+0%5D%2C+%22visible%22%3A+true%2C+%22slider%22%3A+%5B1%2C+2%5D%7D%2C+%7B%22selection%22%3A+%7B%22c%22%3A+2%2C+%22t%22%3A+0%2C+%22z%22%3A+0%7D%2C+%22color%22%3A+%5B0%2C+0%2C+0%5D%2C+%22visible%22%3A+true%2C+%22slider%22%3A+%5B2%2C+3%5D%7D%2C+%7B%22selection%22%3A+%7B%22c%22%3A+3%2C+%22t%22%3A+0%2C+%22z%22%3A+0%7D%2C+%22color%22%3A+%5B0%2C+0%2C+0%5D%2C+%22visible%22%3A+true%2C+%22slider%22%3A+%5B3%2C+4%5D%7D%2C+%7B%22selection%22%3A+%7B%22c%22%3A+4%2C+%22t%22%3A+0%2C+%22z%22%3A+0%7D%2C+%22color%22%3A+%5B0%2C+0%2C+0%5D%2C+%22visible%22%3A+true%2C+%22slider%22%3A+%5B4%2C+5%5D%7D%5D%7D%5D%7D%2C+%22obsSetColor%22%3A+%7B%22A%22%3A+%5B%7B%22path%22%3A+%5B%22Cell+Type%22%2C+%22vessel%22%5D%2C+%22color%22%3A+%5B255%2C+0%2C+0%5D%7D%2C+%7B%22path%22%3A+%5B%22Cell+Type%22%2C+%22T-Killer%22%5D%2C+%22color%22%3A+%5B255%2C+0%2C+255%5D%7D%2C+%7B%22path%22%3A+%5B%22Cell+Type%22%2C+%22T-Killer_link%22%5D%2C+%22color%22%3A+%5B255%2C+0%2C+255%5D%7D%2C+%7B%22path%22%3A+%5B%22Cell+Type%22%2C+%22T-Helper%22%5D%2C+%22color%22%3A+%5B0%2C+0%2C+255%5D%7D%2C+%7B%22path%22%3A+%5B%22Cell+Type%22%2C+%22T-Helper_link%22%5D%2C+%22color%22%3A+%5B0%2C+0%2C+255%5D%7D%2C+%7B%22path%22%3A+%5B%22Cell+Type%22%2C+%22T-Reg%22%5D%2C+%22color%22%3A+%5B0%2C+255%2C+0%5D%7D%2C+%7B%22path%22%3A+%5B%22Cell+Type%22%2C+%22T-Reg_link%22%5D%2C+%22color%22%3A+%5B0%2C+255%2C+0%5D%7D%2C+%7B%22path%22%3A+%5B%22Cell+Type%22%2C+%22CD68%22%5D%2C+%22color%22%3A+%5B255%2C+215%2C+0%5D%7D%2C+%7B%22path%22%3A+%5B%22Cell+Type%22%2C+%22CD68_link%22%5D%2C+%22color%22%3A+%5B255%2C+215%2C+0%5D%7D%5D%7D%7D%2C+%22layout%22%3A+%5B%7B%22component%22%3A+%22spatial%22%2C+%22coordinationScopes%22%3A+%7B%22dataset%22%3A+%22A%22%2C+%22spatialZoom%22%3A+%22A%22%2C+%22spatialTargetX%22%3A+%22A%22%2C+%22spatialTargetY%22%3A+%22A%22%2C+%22spatialSegmentationLayer%22%3A+%22A%22%2C+%22obsSetColor%22%3A+%22A%22%7D%2C+%22x%22%3A+0.0%2C+%22y%22%3A+0%2C+%22w%22%3A+6.0%2C+%22h%22%3A+12%7D%2C+%7B%22component%22%3A+%22layerController%22%2C+%22coordinationScopes%22%3A+%7B%22dataset%22%3A+%22A%22%2C+%22spatialZoom%22%3A+%22A%22%2C+%22spatialTargetX%22%3A+%22A%22%2C+%22spatialTargetY%22%3A+%22A%22%2C+%22spatialSegmentationLayer%22%3A+%22A%22%2C+%22obsSetColor%22%3A+%22A%22%7D%2C+%22x%22%3A+6.0%2C+%22y%22%3A+0.0%2C+%22w%22%3A+6.0%2C+%22h%22%3A+6.0%7D%2C+%7B%22component%22%3A+%22obsSets%22%2C+%22coordinationScopes%22%3A+%7B%22dataset%22%3A+%22A%22%2C+%22obsSetColor%22%3A+%22A%22%7D%2C+%22x%22%3A+6.0%2C+%22y%22%3A+6.0%2C+%22w%22%3A+6.0%2C+%22h%22%3A+6.0%7D%5D%2C+%22initStrategy%22%3A+%22auto%22%7D\" target=\"_blank\">View on Vitessce.io</a>"
            ]
          },
          "metadata": {}
        }
      ]
    },
    {
      "cell_type": "code",
      "source": [
        "import os\n",
        "import json\n",
        "!mkdir -p ./images  # create a directory to store images if it doesn't exist\n",
        "\n",
        "eui_url = 'https://storagetuzi.blob.core.windows.net/blobtuzi/eui/eui_VCCF.pyramid.ome.tif'\n",
        "eui_original_file_name = os.path.basename(eui_url)\n",
        "!curl -L -o ./images/{eui_original_file_name} {eui_url}\n",
        "dir_path = './images'\n",
        "full_path = os.path.join(dir_path, eui_original_file_name)\n",
        "print(full_path)\n",
        "\n",
        "# LOCAL=1, ONLINE=0\n",
        "\n",
        "vc = VitessceConfig(schema_version=\"1.0.15\", name='EUI')\n",
        "if OUTPUT_LEVEL == 1:\n",
        "    #LOCAL\n",
        "    dataset = vc.add_dataset(name='Tissue Blocks in EUI').add_object(\n",
        "        OmeTiffWrapper(img_path=full_path,name='EUI')\n",
        "    )\n",
        "else:\n",
        "    # ONLINE PREVIEW\n",
        "    dataset = vc.add_dataset(name='Tissue Blocks in EUI').add_object(\n",
        "        OmeTiffWrapper(img_url=eui_url,name='EUI')\n",
        "    )\n",
        "spatial = vc.add_view(vt.SPATIAL, dataset=dataset)\n",
        "status = vc.add_view(vt.STATUS, dataset=dataset)\n",
        "# Try changing the prop below to False\n",
        "lc = vc.add_view(vt.LAYER_CONTROLLER, dataset=dataset).set_props(disableChannelsIfRgbDetected=False)\n",
        "# vc.layout(spatial | (lc / status))\n",
        "vc.layout(spatial)\n",
        "from IPython.display import display, HTML\n",
        "web_url = vc.web_app()\n",
        "display(HTML(f'<a href=\"{web_url}\" target=\"_blank\">View on Vitessce.io</a>'))\n",
        "\n",
        "ROOT = \"hubmap-publication-page\"\n",
        "\n",
        "PATH_TO_EXPORT_DIRECTORY = os.path.join(ROOT, \"data\", f\"vignette_13\")\n",
        "VIGNETTE_DIR = os.path.join(ROOT, \"vignettes\", f\"vignette_13\")\n",
        "#Export Vitessce config to JSON\n",
        "os.makedirs(VIGNETTE_DIR, exist_ok=True)\n",
        "#Export Vitessce config to JSON\n",
        "os.makedirs(PATH_TO_EXPORT_DIRECTORY, exist_ok=True)\n",
        "config_dict = vc.export(to=\"files\", base_url=f\"{BASE_URL_PLACEHOLDER}/vignette_13\", out_dir=PATH_TO_EXPORT_DIRECTORY)\n",
        "# Use `open` to create a new empty file at ./exported_data/vitessce.json\n",
        "with open(os.path.join(VIGNETTE_DIR, \"vitessce.json\"), \"w\") as f:\n",
        "    json.dump(config_dict, f)\n",
        "vignette_md = f\"\"\"\n",
        "---\n",
        "name: Explore Tissue Data in 3D using the Exploration User Interface\n",
        "figures:\n",
        "    - name: \"Visualization\"\n",
        "      file: vitessce.json\n",
        "---\n",
        "\n",
        "    All HuBMAP tissue datasets used in this study can be spatially explored in their three-dimensional size, position, and rotation in the context of the Human Reference Atlas using the Exploration User Interface (EUI): [https://hubmapconsortium.github.io/hra-registrations/23-hbm-flagship-ginty/](https://hubmapconsortium.github.io/hra-registrations/23-hbm-flagship-ginty/)\n",
        "\n",
        "\"\"\"\n",
        "with open(os.path.join(VIGNETTE_DIR, \"description.md\"), \"w\") as f:\n",
        "    f.write(vignette_md)"
      ],
      "metadata": {
        "colab": {
          "base_uri": "https://localhost:8080/",
          "height": 107
        },
        "id": "NxPsYTfCDITr",
        "outputId": "aedf2346-8599-4df1-96f6-1e422f7c7e2d"
      },
      "execution_count": null,
      "outputs": [
        {
          "output_type": "stream",
          "name": "stdout",
          "text": [
            "  % Total    % Received % Xferd  Average Speed   Time    Time     Time  Current\n",
            "                                 Dload  Upload   Total   Spent    Left  Speed\n",
            "100  326k  100  326k    0     0   545k      0 --:--:-- --:--:-- --:--:--  545k\n",
            "./images/eui_VCCF.pyramid.ome.tif\n"
          ]
        },
        {
          "output_type": "display_data",
          "data": {
            "text/plain": [
              "<IPython.core.display.HTML object>"
            ],
            "text/html": [
              "<a href=\"http://vitessce.io/#?theme=light&url=data:,%7B%22version%22%3A+%221.0.15%22%2C+%22name%22%3A+%22EUI%22%2C+%22description%22%3A+%22%22%2C+%22datasets%22%3A+%5B%7B%22uid%22%3A+%22A%22%2C+%22name%22%3A+%22Tissue+Blocks+in+EUI%22%2C+%22files%22%3A+%5B%7B%22fileType%22%3A+%22raster.json%22%2C+%22options%22%3A+%7B%22schemaVersion%22%3A+%220.0.2%22%2C+%22images%22%3A+%5B%7B%22name%22%3A+%22EUI%22%2C+%22type%22%3A+%22ome-tiff%22%2C+%22url%22%3A+%22http%3A%2F%2Flocalhost%3A8011%2FA%2F0%2F043582f6-25e4-4c4f-a59b-02ab3f33fa0e%22%2C+%22metadata%22%3A+%7B%22omeTiffOffsetsUrl%22%3A+%22http%3A%2F%2Flocalhost%3A8011%2FA%2F0%2F45cafe14-e628-4757-bd60-4f83eccc3c57%22%2C+%22isBitmask%22%3A+false%7D%7D%5D%7D%7D%5D%7D%5D%2C+%22coordinationSpace%22%3A+%7B%22dataset%22%3A+%7B%22A%22%3A+%22A%22%7D%7D%2C+%22layout%22%3A+%5B%7B%22component%22%3A+%22spatial%22%2C+%22coordinationScopes%22%3A+%7B%22dataset%22%3A+%22A%22%7D%2C+%22x%22%3A+0%2C+%22y%22%3A+0%2C+%22w%22%3A+12%2C+%22h%22%3A+12%7D%2C+%7B%22component%22%3A+%22status%22%2C+%22coordinationScopes%22%3A+%7B%22dataset%22%3A+%22A%22%7D%2C+%22x%22%3A+0%2C+%22y%22%3A+0%2C+%22w%22%3A+1%2C+%22h%22%3A+1%7D%2C+%7B%22component%22%3A+%22layerController%22%2C+%22coordinationScopes%22%3A+%7B%22dataset%22%3A+%22A%22%7D%2C+%22x%22%3A+0%2C+%22y%22%3A+0%2C+%22w%22%3A+1%2C+%22h%22%3A+1%2C+%22props%22%3A+%7B%22disableChannelsIfRgbDetected%22%3A+false%7D%7D%5D%2C+%22initStrategy%22%3A+%22auto%22%7D\" target=\"_blank\">View on Vitessce.io</a>"
            ]
          },
          "metadata": {}
        }
      ]
    },
    {
      "cell_type": "code",
      "source": [
        "import shutil\n",
        "from google.colab import files\n",
        "\n",
        "# Create a zip file\n",
        "shutil.make_archive('vignette_VCCF', 'zip', ROOT)\n",
        "\n",
        "# Download the zip file\n",
        "files.download('vignette_VCCF.zip')"
      ],
      "metadata": {
        "id": "tsDyU2WlbHHh",
        "colab": {
          "base_uri": "https://localhost:8080/",
          "height": 34
        },
        "outputId": "8f2e64c2-2a59-4b5b-8a27-3908925b9369"
      },
      "execution_count": null,
      "outputs": [
        {
          "output_type": "display_data",
          "data": {
            "text/plain": [
              "<IPython.core.display.Javascript object>"
            ],
            "application/javascript": [
              "\n",
              "    async function download(id, filename, size) {\n",
              "      if (!google.colab.kernel.accessAllowed) {\n",
              "        return;\n",
              "      }\n",
              "      const div = document.createElement('div');\n",
              "      const label = document.createElement('label');\n",
              "      label.textContent = `Downloading \"${filename}\": `;\n",
              "      div.appendChild(label);\n",
              "      const progress = document.createElement('progress');\n",
              "      progress.max = size;\n",
              "      div.appendChild(progress);\n",
              "      document.body.appendChild(div);\n",
              "\n",
              "      const buffers = [];\n",
              "      let downloaded = 0;\n",
              "\n",
              "      const channel = await google.colab.kernel.comms.open(id);\n",
              "      // Send a message to notify the kernel that we're ready.\n",
              "      channel.send({})\n",
              "\n",
              "      for await (const message of channel.messages) {\n",
              "        // Send a message to notify the kernel that we're ready.\n",
              "        channel.send({})\n",
              "        if (message.buffers) {\n",
              "          for (const buffer of message.buffers) {\n",
              "            buffers.push(buffer);\n",
              "            downloaded += buffer.byteLength;\n",
              "            progress.value = downloaded;\n",
              "          }\n",
              "        }\n",
              "      }\n",
              "      const blob = new Blob(buffers, {type: 'application/binary'});\n",
              "      const a = document.createElement('a');\n",
              "      a.href = window.URL.createObjectURL(blob);\n",
              "      a.download = filename;\n",
              "      div.appendChild(a);\n",
              "      a.click();\n",
              "      div.remove();\n",
              "    }\n",
              "  "
            ]
          },
          "metadata": {}
        },
        {
          "output_type": "display_data",
          "data": {
            "text/plain": [
              "<IPython.core.display.Javascript object>"
            ],
            "application/javascript": [
              "download(\"download_08a64c82-91f1-4a21-8659-538b90723c27\", \"vignette_VCCF.zip\", 27639738)"
            ]
          },
          "metadata": {}
        }
      ]
    }
  ]
}