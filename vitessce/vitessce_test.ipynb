{
 "cells": [
  {
   "cell_type": "code",
   "execution_count": null,
   "metadata": {
    "collapsed": true
   },
   "outputs": [],
   "source": [
    "from vitessce import (\n",
    "    VitessceConfig,\n",
    "    Component as cm,\n",
    "    CoordinationType as ct,\n",
    "    FileType as ft,\n",
    "    AnnDataWrapper,\n",
    "    MultiImageWrapper,\n",
    "    OmeTiffWrapper,\n",
    ")"
   ]
  },
  {
   "cell_type": "code",
   "execution_count": null,
   "outputs": [],
   "source": [
    "vc = VitessceConfig(schema_version=\"1.0.15\", name='Transcriptomics example')\n",
    "dataset = vc.add_dataset(name='Cell segmentations').add_object(\n",
    "    # OmeTiffWrapper(img_url=\"https://assets.hubmapconsortium.org/69d9c52bc9edb625b496cecb623ec081/ometiff-pyramids/pipeline_output/mask/reg001_mask.ome.tif?token=\", is_bitmask=True, name=\"Segmentations\")\n",
    "    OmeTiffWrapper(img_url=\"https://storagetuzi.blob.core.windows.net/blobtuzi/reg001_mask.ome.tif\", is_bitmask=True, name=\"Segmentations\")\n",
    ")\n",
    "spatial_plot = vc.add_view(cm.SPATIAL, dataset=dataset)\n",
    "layer_controller = vc.add_view(cm.LAYER_CONTROLLER, dataset=dataset)\n",
    "\n",
    "\n",
    "spatial_segmentation_layer_value = [{\n",
    "    \"type\":\"bitmask\",\n",
    "    \"index\":0,\n",
    "    \"visible\":True,\n",
    "    \"colormap\":None,\n",
    "    \"opacity\":1,\n",
    "    \"domainType\":\"Min/Max\",\n",
    "    \"transparentColor\":[0,0,0],\n",
    "    \"renderingMode\":\"Additive\",\n",
    "    \"use3d\":False,\n",
    "    \"channels\":[\n",
    "        {\"selection\":{\"c\":0,\"t\":0,\"z\":0},\"color\":[0,0,0],\"visible\":False,\"slider\":[0,1]},\n",
    "        {\"selection\":{\"c\":1,\"t\":0,\"z\":0},\"color\":[0,0,0],\"visible\":True,\"slider\":[0,1]}, # Set the nuclei channel as checked initially\n",
    "        {\"selection\":{\"c\":2,\"t\":0,\"z\":0},\"color\":[0,0,0],\"visible\":False,\"slider\":[0,1]},\n",
    "        {\"selection\":{\"c\":3,\"t\":0,\"z\":0},\"color\":[0,0,0],\"visible\":False,\"slider\":[0,1]}\n",
    "    ]\n",
    "}]\n",
    "vc.link_views([spatial_plot, layer_controller], [ct.SPATIAL_ZOOM, ct.SPATIAL_TARGET_X, ct.SPATIAL_TARGET_Y, ct.SPATIAL_SEGMENTATION_LAYER], [-4, 5000, 5000, spatial_segmentation_layer_value])\n",
    "\n",
    "\n",
    "vc.layout(spatial_plot | layer_controller);"
   ],
   "metadata": {
    "collapsed": false
   }
  },
  {
   "cell_type": "code",
   "execution_count": null,
   "outputs": [],
   "source": [
    "from IPython.display import display, HTML\n",
    "\n",
    "url = vc.web_app()\n",
    "display(HTML(f'<a href=\"{url}\" target=\"_blank\">View on Vitessce.io</a>'))"
   ],
   "metadata": {
    "collapsed": false
   }
  },
  {
   "cell_type": "code",
   "execution_count": null,
   "outputs": [],
   "source": [
    "vw = vc.widget()\n",
    "vw"
   ],
   "metadata": {
    "collapsed": false
   }
  },
  {
   "cell_type": "code",
   "execution_count": null,
   "outputs": [],
   "source": [],
   "metadata": {
    "collapsed": false
   }
  }
 ],
 "metadata": {
  "kernelspec": {
   "display_name": "Python 3",
   "language": "python",
   "name": "python3"
  },
  "language_info": {
   "codemirror_mode": {
    "name": "ipython",
    "version": 2
   },
   "file_extension": ".py",
   "mimetype": "text/x-python",
   "name": "python",
   "nbconvert_exporter": "python",
   "pygments_lexer": "ipython2",
   "version": "2.7.6"
  }
 },
 "nbformat": 4,
 "nbformat_minor": 0
}
